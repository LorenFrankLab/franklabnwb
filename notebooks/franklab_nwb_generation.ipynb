{
 "cells": [
  {
   "cell_type": "markdown",
   "metadata": {},
   "source": [
    "#  NWB File generation from raw data"
   ]
  },
  {
   "cell_type": "code",
   "execution_count": null,
   "metadata": {
    "collapsed": true,
    "jupyter": {
     "source_hidden": true
    }
   },
   "outputs": [],
   "source": [
    "%reload_ext autoreload\n",
    "%autoreload 2"
   ]
  },
  {
   "cell_type": "code",
   "execution_count": null,
   "metadata": {
    "collapsed": true
   },
   "outputs": [],
   "source": [
    "import os\n",
    "import logging\n",
    "import sys\n",
    "from rec_to_nwb.processing.builder.nwb_file_builder import NWBFileBuilder\n",
    "from rec_to_binaries import extract_trodes_rec_file\n",
    "from rec_to_nwb.processing.builder.raw_to_nwb_builder import RawToNWBBuilder\n",
    "from rec_to_nwb.processing.metadata.metadata_manager import MetadataManager"
   ]
  },
  {
   "cell_type": "markdown",
   "metadata": {},
   "source": [
    "## Setup config parameters\n",
    "### see more details at rec_to_nwb repo readme or [here](https://novelaneuro.github.io/rec_to_nwb-docs/README.html#how-to-use-it)"
   ]
  },
  {
   "cell_type": "code",
   "execution_count": null,
   "metadata": {
    "collapsed": true
   },
   "outputs": [],
   "source": [
    "# set the animal name and the date or list of dates to process\n",
    "animal_name = 'beans'\n",
    "dates = ['20190718']\n",
    "# note that code currently only takes one date at a time;\n",
    "# build a loop through date strings to create multiiple nwb files at once\n",
    "\n",
    "# path to dir containing device and animal/date .yml files\n",
    "# for example, '/home/<yourusername>/Src/franklabnwb/yaml'\n",
    "yaml_path = '/home/loren/Src/NWB/franklabnwb/yaml'\n",
    "# metadata filename for an animal and date. This is a file that you generate as the user.\n",
    "# for example,  '<ratname><date>_metadata.yml'\n",
    "animal_metadata_file = 'beans20190718_metadata.yml' #bad_channels in yaml will be left out of the .nwb filie\n",
    "# metadata filename for a recording device type;\n",
    "# typically these are common lab files that you shouldn't need to personalize\n",
    "probe1_metadata_file = '128c-4s8mm6cm-20um-40um-sl.yml'\n",
    "probe2_metadata_file = 'tetrode_12.5.yml'\n",
    "\n",
    "# Specify the paths for the data, the output nwb file, and the video files\n",
    "# example raw data INPUT path: '/stelmo/<yourusername>/'\n",
    "data_path = '/stelmo/loren/'\n",
    "#  nwb file OUTPUT path: '/stelmo/nwb/raw/'\n",
    "# all NWB files should go here\n",
    "output_path='/stelmo/nwb/raw/'\n",
    "#  video OUTPUT path: '/stelmo/nwb/video/'\n",
    "# just copies over the raw video files into this dir\n",
    "video_path='/stelmo/nwb/video/'\n",
    "# note that a rec_to_nwb.log file will also be saved to the directory from which your are running this notebook\n",
    "\n",
    "# Specify any optional trodes export flags\n",
    "# uses rec_to_binaries repo, which uses SpikeGadgets/Trodes export functions\n",
    "# keep things as raw as possible though - unlike old preprocessing pipeline, \n",
    "# we aren't doing any filtering or interpolation yet\n",
    "trodes_rec_export_args = ('-reconfig', '/stelmo/loren/beans/Probe_128ch_allnT_DIOs_PTP_reconfig_export_shanks.xml') \n",
    "\n",
    "# specify the locations of the metadata files for the animal and the probe(s). \n",
    "# Note that specifying all possible probes is fine\n",
    "animal_metadata = os.path.join(yaml_path, animal_metadata_file )\n",
    "probe_metadata = [os.path.join(yaml_path, probe1_metadata_file), \n",
    "                  os.path.join(yaml_path, probe2_metadata_file)]\n",
    "\n",
    "# Specify whether preprocessing data should be reextracted (True) or skipped if it already exists (False)\n",
    "overwrite=False\n",
    "# note that extraction will write to the directory: data_path+'preprocessing/' and\n",
    "# you may have data you previously preprocessed in that dir, created with alternate export args\n",
    "# that you neither want to skip nor overwrite if you're using them for filterframework\n"
   ]
  },
  {
   "cell_type": "code",
   "execution_count": null,
   "metadata": {
    "collapsed": true
   },
   "outputs": [],
   "source": [
    "### Print the meta data as a check"
   ]
  },
  {
   "cell_type": "code",
   "execution_count": null,
   "metadata": {},
   "outputs": [],
   "source": [
    "metadata = MetadataManager(animal_metadata, probe_metadata)\n",
    "print(metadata)\n"
   ]
  },
  {
   "cell_type": "markdown",
   "metadata": {},
   "source": [
    "# Processing initiation"
   ]
  },
  {
   "cell_type": "code",
   "execution_count": null,
   "metadata": {
    "collapsed": true
   },
   "outputs": [],
   "source": [
    "builder = RawToNWBBuilder(animal_name=animal_name,\n",
    "                          data_path=data_path,\n",
    "                          dates=dates,\n",
    "                          nwb_metadata=metadata,\n",
    "                          overwrite=overwrite,\n",
    "                          output_path=output_path,\n",
    "                          video_path=video_path,\n",
    "                          trodes_rec_export_args = trodes_rec_export_args)"
   ]
  },
  {
   "cell_type": "markdown",
   "metadata": {},
   "source": [
    "## Run processing and create nwb file"
   ]
  },
  {
   "cell_type": "code",
   "execution_count": null,
   "metadata": {
    "scrolled": true
   },
   "outputs": [],
   "source": [
    "%%time\n",
    "content = builder.build_nwb()\n",
    "print(content)\n",
    "#expect warnings from rec_to_binaries\n"
   ]
  },
  {
   "cell_type": "markdown",
   "metadata": {},
   "source": [
    "# Cleanup preprocessed data\n",
    "## Note that this deletes the extracted data, so you may wish to skip this step"
   ]
  },
  {
   "cell_type": "code",
   "execution_count": null,
   "metadata": {
    "collapsed": true
   },
   "outputs": [],
   "source": [
    "builder.clean_up()"
   ]
  },
  {
   "cell_type": "markdown",
   "metadata": {},
   "source": [
    "## Test: Import the NWB file and inspect the contents"
   ]
  },
  {
   "cell_type": "code",
   "execution_count": null,
   "metadata": {
    "collapsed": true
   },
   "outputs": [],
   "source": [
    "import pynwb\n",
    "nwb_file_name = output_path + animal_name + dates[0] + '.nwb'\n",
    "# such as: '/stelmo/<yourusername>/<ratname>/nwbout/<ratname><experimentdate>.nwb'\n",
    "io = pynwb.NWBHDF5IO(nwb_file_name,'r')\n",
    "nwbf = io.read()\n"
   ]
  },
  {
   "cell_type": "code",
   "execution_count": null,
   "metadata": {},
   "outputs": [],
   "source": [
    "nwbf"
   ]
  },
  {
   "cell_type": "code",
   "execution_count": null,
   "metadata": {},
   "outputs": [],
   "source": [
    "lst = [12] \n",
    "\",\".join([str(i) for i in lst])"
   ]
  },
  {
   "cell_type": "code",
   "execution_count": null,
   "metadata": {},
   "outputs": [],
   "source": [
    "640 * 2 * 30000 * 60 * 60 * 24 *30 / 1e12"
   ]
  },
  {
   "cell_type": "code",
   "execution_count": null,
   "metadata": {
    "collapsed": true
   },
   "outputs": [],
   "source": []
  }
 ],
 "metadata": {
  "kernelspec": {
   "display_name": "Python 3",
   "language": "python",
   "name": "python3"
  },
  "language_info": {
   "codemirror_mode": {
    "name": "ipython",
    "version": 3
   },
   "file_extension": ".py",
   "mimetype": "text/x-python",
   "name": "python",
   "nbconvert_exporter": "python",
   "pygments_lexer": "ipython3",
   "version": "3.6.8"
  }
 },
 "nbformat": 4,
 "nbformat_minor": 4
}