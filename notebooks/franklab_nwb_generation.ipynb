{
 "cells": [
  {
   "cell_type": "markdown",
   "metadata": {},
   "source": [
    "#  NWB File generation from raw data"
   ]
  },
  {
   "cell_type": "code",
   "execution_count": 8,
   "metadata": {},
   "outputs": [],
   "source": [
    "%reload_ext autoreload\n",
    "%autoreload 2"
   ]
  },
  {
   "cell_type": "code",
   "execution_count": 12,
   "metadata": {},
   "outputs": [
    {
     "data": {
      "text/plain": [
       "\"['2']\""
      ]
     },
     "execution_count": 12,
     "metadata": {},
     "output_type": "execute_result"
    }
   ],
   "source": [
    "str(['2'])"
   ]
  },
  {
   "cell_type": "code",
   "execution_count": 1,
   "metadata": {},
   "outputs": [],
   "source": [
    "import os\n",
    "import logging\n",
    "import sys\n",
    "from rec_to_nwb.processing.builder.nwb_file_builder import NWBFileBuilder\n",
    "from rec_to_binaries import extract_trodes_rec_file\n",
    "from rec_to_nwb.processing.builder.raw_to_nwb_builder import RawToNWBBuilder\n",
    "from rec_to_nwb.processing.metadata.metadata_manager import MetadataManager\n"
   ]
  },
  {
   "cell_type": "markdown",
   "metadata": {},
   "source": [
    "## Setup config parameters\n"
   ]
  },
  {
   "cell_type": "code",
   "execution_count": 13,
   "metadata": {},
   "outputs": [],
   "source": [
    "# set the animal name and the date or list of dates to process\n",
    "animal_name = 'beans'\n",
    "dates = ['20190718']\n",
    "\n",
    "yaml_path = '/Users/loren/Src/NWB/franklabnwb/yaml'\n",
    "animal_metadata_file = 'beans20190718_metadata.yml'\n",
    "probe1_metadata_file = '128c-4s8mm6cm-20um-40um-sl.yml'\n",
    "probe2_metadata_file = 'tetrode_12.5.yml'\n",
    "\n",
    "#Specify the paths for the data, the output nwb file, and the video files\n",
    "data_path = '/Users/loren/data/nwb_builder_test_data/'\n",
    "output_path='/Users/loren/data/nwb_builder_test_data/'\n",
    "video_directory='/Users/loren/data/nwb_builder_test_data/video/'\n",
    "\n",
    "# Specify any optional trodes export flags\n",
    "trodes_rec_export_args = ('-reconfig', '/Users/loren/data/nwb_builder_test_data/beans/Probe_128ch_allnT_DIOs_PTP_reconfig_export_shanks.xml') \n",
    "\n",
    "\n",
    "# specify the locations of the metadata files for the animal and the probe(s). \n",
    "# Note that specifying all possible probes is fine\n",
    "animal_metadata = os.path.join(yaml_path, animal_metadata_file )\n",
    "probe_metadata = [os.path.join(yaml_path, probe1_metadata_file), \n",
    "                  os.path.join(yaml_path, probe2_metadata_file)]\n",
    "\n",
    "\n",
    "# Specify whether data should be reextracted. \n",
    "overwrite=False"
   ]
  },
  {
   "cell_type": "code",
   "execution_count": 14,
   "metadata": {},
   "outputs": [],
   "source": [
    "### Print the meta data as a check"
   ]
  },
  {
   "cell_type": "code",
   "execution_count": 15,
   "metadata": {},
   "outputs": [
    {
     "name": "stdout",
     "output_type": "stream",
     "text": [
      "Experiment Info:\n",
      "Experimenter: Alison Comrie\n",
      "Description: Reinforcement learning\n",
      "Session Id: beans_01\n",
      "Subject: Long Evans Rat\n",
      "\n",
      "Available probe types: ['128c-4s8mm6cm-20um-40um-sl', 'tetrode_12.5']\n"
     ]
    }
   ],
   "source": [
    "metadata = MetadataManager(animal_metadata, probe_metadata)\n",
    "\n",
    "print(metadata)\n"
   ]
  },
  {
   "cell_type": "markdown",
   "metadata": {},
   "source": [
    "# Processing initiation"
   ]
  },
  {
   "cell_type": "code",
   "execution_count": 16,
   "metadata": {},
   "outputs": [],
   "source": [
    "builder = RawToNWBBuilder(animal_name=animal_name,\n",
    "                          data_path=data_path,\n",
    "                          dates=dates,\n",
    "                          nwb_metadata=metadata,\n",
    "                          overwrite=overwrite,\n",
    "                          output_path=output_path,\n",
    "                          video_path=video_path,\n",
    "                          trodes_rec_export_args = trodes_rec_export_args)"
   ]
  },
  {
   "cell_type": "markdown",
   "metadata": {},
   "source": [
    "## Run processing and create nwb file"
   ]
  },
  {
   "cell_type": "code",
   "execution_count": 17,
   "metadata": {
    "scrolled": true
   },
   "outputs": [
    {
     "name": "stderr",
     "output_type": "stream",
     "text": [
      "/Users/loren/opt/anaconda3/envs/rec_to_nwb_test/lib/python3.7/site-packages/rec_to_binaries/trodes_data.py:1367: TrodesDataFormatWarning: TrodesDataFormatError('skipping rec file 20190718_beans_01_s1.rec for extracting, folder /Users/loren/data/nwb_builder_test_data/beans/preprocessing/20190718/20190718_beans_01_s1.analog already exists and overwrite=False.') (thrown from /Users/loren/opt/anaconda3/envs/rec_to_nwb_test/lib/python3.7/site-packages/rec_to_binaries/trodes_data.py:1308)\n",
      "  TrodesDataFormatWarning)\n",
      "/Users/loren/opt/anaconda3/envs/rec_to_nwb_test/lib/python3.7/site-packages/rec_to_binaries/trodes_data.py:1367: TrodesDataFormatWarning: TrodesDataFormatError('skipping rec file 20190718_beans_02_r1.rec for extracting, folder /Users/loren/data/nwb_builder_test_data/beans/preprocessing/20190718/20190718_beans_02_r1.analog already exists and overwrite=False.') (thrown from /Users/loren/opt/anaconda3/envs/rec_to_nwb_test/lib/python3.7/site-packages/rec_to_binaries/trodes_data.py:1308)\n",
      "  TrodesDataFormatWarning)\n",
      "/Users/loren/opt/anaconda3/envs/rec_to_nwb_test/lib/python3.7/site-packages/rec_to_binaries/trodes_data.py:1367: TrodesDataFormatWarning: TrodesDataFormatError('skipping rec file 20190718_beans_03_s2.rec for extracting, folder /Users/loren/data/nwb_builder_test_data/beans/preprocessing/20190718/20190718_beans_03_s2.analog already exists and overwrite=False.') (thrown from /Users/loren/opt/anaconda3/envs/rec_to_nwb_test/lib/python3.7/site-packages/rec_to_binaries/trodes_data.py:1308)\n",
      "  TrodesDataFormatWarning)\n",
      "/Users/loren/opt/anaconda3/envs/rec_to_nwb_test/lib/python3.7/site-packages/rec_to_binaries/trodes_data.py:1367: TrodesDataFormatWarning: TrodesDataFormatError('skipping rec file 20190718_beans_04_r2.rec for extracting, folder /Users/loren/data/nwb_builder_test_data/beans/preprocessing/20190718/20190718_beans_04_r2.analog already exists and overwrite=False.') (thrown from /Users/loren/opt/anaconda3/envs/rec_to_nwb_test/lib/python3.7/site-packages/rec_to_binaries/trodes_data.py:1308)\n",
      "  TrodesDataFormatWarning)\n",
      "/Users/loren/opt/anaconda3/envs/rec_to_nwb_test/lib/python3.7/site-packages/rec_to_binaries/trodes_data.py:1367: TrodesDataFormatWarning: TrodesDataFormatError('skipping rec file 20190718_beans_01_s1.rec for extracting, folder /Users/loren/data/nwb_builder_test_data/beans/preprocessing/20190718/20190718_beans_01_s1.DIO already exists and overwrite=False.') (thrown from /Users/loren/opt/anaconda3/envs/rec_to_nwb_test/lib/python3.7/site-packages/rec_to_binaries/trodes_data.py:1308)\n",
      "  TrodesDataFormatWarning)\n",
      "/Users/loren/opt/anaconda3/envs/rec_to_nwb_test/lib/python3.7/site-packages/rec_to_binaries/trodes_data.py:1367: TrodesDataFormatWarning: TrodesDataFormatError('skipping rec file 20190718_beans_02_r1.rec for extracting, folder /Users/loren/data/nwb_builder_test_data/beans/preprocessing/20190718/20190718_beans_02_r1.DIO already exists and overwrite=False.') (thrown from /Users/loren/opt/anaconda3/envs/rec_to_nwb_test/lib/python3.7/site-packages/rec_to_binaries/trodes_data.py:1308)\n",
      "  TrodesDataFormatWarning)\n",
      "/Users/loren/opt/anaconda3/envs/rec_to_nwb_test/lib/python3.7/site-packages/rec_to_binaries/trodes_data.py:1367: TrodesDataFormatWarning: TrodesDataFormatError('skipping rec file 20190718_beans_03_s2.rec for extracting, folder /Users/loren/data/nwb_builder_test_data/beans/preprocessing/20190718/20190718_beans_03_s2.DIO already exists and overwrite=False.') (thrown from /Users/loren/opt/anaconda3/envs/rec_to_nwb_test/lib/python3.7/site-packages/rec_to_binaries/trodes_data.py:1308)\n",
      "  TrodesDataFormatWarning)\n",
      "/Users/loren/opt/anaconda3/envs/rec_to_nwb_test/lib/python3.7/site-packages/rec_to_binaries/trodes_data.py:1367: TrodesDataFormatWarning: TrodesDataFormatError('skipping rec file 20190718_beans_04_r2.rec for extracting, folder /Users/loren/data/nwb_builder_test_data/beans/preprocessing/20190718/20190718_beans_04_r2.DIO already exists and overwrite=False.') (thrown from /Users/loren/opt/anaconda3/envs/rec_to_nwb_test/lib/python3.7/site-packages/rec_to_binaries/trodes_data.py:1308)\n",
      "  TrodesDataFormatWarning)\n",
      "/Users/loren/opt/anaconda3/envs/rec_to_nwb_test/lib/python3.7/site-packages/rec_to_binaries/trodes_data.py:1367: TrodesDataFormatWarning: TrodesDataFormatError('skipping rec file 20190718_beans_01_s1.rec for extracting, folder /Users/loren/data/nwb_builder_test_data/beans/preprocessing/20190718/20190718_beans_01_s1.mda already exists and overwrite=False.') (thrown from /Users/loren/opt/anaconda3/envs/rec_to_nwb_test/lib/python3.7/site-packages/rec_to_binaries/trodes_data.py:1308)\n",
      "  TrodesDataFormatWarning)\n",
      "/Users/loren/opt/anaconda3/envs/rec_to_nwb_test/lib/python3.7/site-packages/rec_to_binaries/trodes_data.py:1367: TrodesDataFormatWarning: TrodesDataFormatError('skipping rec file 20190718_beans_02_r1.rec for extracting, folder /Users/loren/data/nwb_builder_test_data/beans/preprocessing/20190718/20190718_beans_02_r1.mda already exists and overwrite=False.') (thrown from /Users/loren/opt/anaconda3/envs/rec_to_nwb_test/lib/python3.7/site-packages/rec_to_binaries/trodes_data.py:1308)\n",
      "  TrodesDataFormatWarning)\n",
      "/Users/loren/opt/anaconda3/envs/rec_to_nwb_test/lib/python3.7/site-packages/rec_to_binaries/trodes_data.py:1367: TrodesDataFormatWarning: TrodesDataFormatError('skipping rec file 20190718_beans_03_s2.rec for extracting, folder /Users/loren/data/nwb_builder_test_data/beans/preprocessing/20190718/20190718_beans_03_s2.mda already exists and overwrite=False.') (thrown from /Users/loren/opt/anaconda3/envs/rec_to_nwb_test/lib/python3.7/site-packages/rec_to_binaries/trodes_data.py:1308)\n",
      "  TrodesDataFormatWarning)\n",
      "/Users/loren/opt/anaconda3/envs/rec_to_nwb_test/lib/python3.7/site-packages/rec_to_binaries/trodes_data.py:1367: TrodesDataFormatWarning: TrodesDataFormatError('skipping rec file 20190718_beans_04_r2.rec for extracting, folder /Users/loren/data/nwb_builder_test_data/beans/preprocessing/20190718/20190718_beans_04_r2.mda already exists and overwrite=False.') (thrown from /Users/loren/opt/anaconda3/envs/rec_to_nwb_test/lib/python3.7/site-packages/rec_to_binaries/trodes_data.py:1308)\n",
      "  TrodesDataFormatWarning)\n",
      "/Users/loren/opt/anaconda3/envs/rec_to_nwb_test/lib/python3.7/site-packages/rec_to_binaries/trodes_data.py:1367: TrodesDataFormatWarning: TrodesDataFormatError('skipping rec file 20190718_beans_01_s1.rec for extracting, folder /Users/loren/data/nwb_builder_test_data/beans/preprocessing/20190718/20190718_beans_01_s1.time already exists and overwrite=False.') (thrown from /Users/loren/opt/anaconda3/envs/rec_to_nwb_test/lib/python3.7/site-packages/rec_to_binaries/trodes_data.py:1308)\n",
      "  TrodesDataFormatWarning)\n",
      "/Users/loren/opt/anaconda3/envs/rec_to_nwb_test/lib/python3.7/site-packages/rec_to_binaries/trodes_data.py:1367: TrodesDataFormatWarning: TrodesDataFormatError('skipping rec file 20190718_beans_02_r1.rec for extracting, folder /Users/loren/data/nwb_builder_test_data/beans/preprocessing/20190718/20190718_beans_02_r1.time already exists and overwrite=False.') (thrown from /Users/loren/opt/anaconda3/envs/rec_to_nwb_test/lib/python3.7/site-packages/rec_to_binaries/trodes_data.py:1308)\n",
      "  TrodesDataFormatWarning)\n",
      "/Users/loren/opt/anaconda3/envs/rec_to_nwb_test/lib/python3.7/site-packages/rec_to_binaries/trodes_data.py:1367: TrodesDataFormatWarning: TrodesDataFormatError('skipping rec file 20190718_beans_03_s2.rec for extracting, folder /Users/loren/data/nwb_builder_test_data/beans/preprocessing/20190718/20190718_beans_03_s2.time already exists and overwrite=False.') (thrown from /Users/loren/opt/anaconda3/envs/rec_to_nwb_test/lib/python3.7/site-packages/rec_to_binaries/trodes_data.py:1308)\n",
      "  TrodesDataFormatWarning)\n",
      "/Users/loren/opt/anaconda3/envs/rec_to_nwb_test/lib/python3.7/site-packages/rec_to_binaries/trodes_data.py:1367: TrodesDataFormatWarning: TrodesDataFormatError('skipping rec file 20190718_beans_04_r2.rec for extracting, folder /Users/loren/data/nwb_builder_test_data/beans/preprocessing/20190718/20190718_beans_04_r2.time already exists and overwrite=False.') (thrown from /Users/loren/opt/anaconda3/envs/rec_to_nwb_test/lib/python3.7/site-packages/rec_to_binaries/trodes_data.py:1308)\n",
      "  TrodesDataFormatWarning)\n",
      "/Users/loren/opt/anaconda3/envs/rec_to_nwb_test/lib/python3.7/site-packages/rec_to_binaries/read_binaries.py:70: FutureWarning: Passing (type, 1) or '1type' as a synonym of type is deprecated; in a future version of numpy, it will be understood as (type, (1,)) / '(1,)type'.\n",
      "  return np.dtype(typearr)\n"
     ]
    },
    {
     "ename": "KeyboardInterrupt",
     "evalue": "",
     "output_type": "error",
     "traceback": [
      "\u001b[0;31m---------------------------------------------------------------------------\u001b[0m",
      "\u001b[0;31mKeyboardInterrupt\u001b[0m                         Traceback (most recent call last)",
      "\u001b[0;32m<timed exec>\u001b[0m in \u001b[0;36m<module>\u001b[0;34m\u001b[0m\n",
      "\u001b[0;32m~/opt/anaconda3/envs/rec_to_nwb_test/lib/python3.7/site-packages/rec_to_nwb/processing/builder/raw_to_nwb_builder.py\u001b[0m in \u001b[0;36mbuild_nwb\u001b[0;34m(self, process_mda_valid_time, process_mda_invalid_time, process_pos_valid_time, process_pos_invalid_time)\u001b[0m\n\u001b[1;32m    131\u001b[0m         \"\"\"\n\u001b[1;32m    132\u001b[0m \u001b[0;34m\u001b[0m\u001b[0m\n\u001b[0;32m--> 133\u001b[0;31m         \u001b[0mself\u001b[0m\u001b[0;34m.\u001b[0m\u001b[0m__preprocess_data\u001b[0m\u001b[0;34m(\u001b[0m\u001b[0;34m)\u001b[0m\u001b[0;34m\u001b[0m\u001b[0;34m\u001b[0m\u001b[0m\n\u001b[0m\u001b[1;32m    134\u001b[0m         \u001b[0;32mfor\u001b[0m \u001b[0mdate\u001b[0m \u001b[0;32min\u001b[0m \u001b[0mself\u001b[0m\u001b[0;34m.\u001b[0m\u001b[0mdates\u001b[0m\u001b[0;34m:\u001b[0m\u001b[0;34m\u001b[0m\u001b[0;34m\u001b[0m\u001b[0m\n\u001b[1;32m    135\u001b[0m             nwb_builder = NWBFileBuilder(\n",
      "\u001b[0;32m~/opt/anaconda3/envs/rec_to_nwb_test/lib/python3.7/site-packages/rec_to_nwb/processing/builder/raw_to_nwb_builder.py\u001b[0m in \u001b[0;36m__preprocess_data\u001b[0;34m(self)\u001b[0m\n\u001b[1;32m    187\u001b[0m             \u001b[0mlfp_export_args\u001b[0m\u001b[0;34m=\u001b[0m\u001b[0mself\u001b[0m\u001b[0;34m.\u001b[0m\u001b[0mlfp_export_args\u001b[0m\u001b[0;34m,\u001b[0m\u001b[0;34m\u001b[0m\u001b[0;34m\u001b[0m\u001b[0m\n\u001b[1;32m    188\u001b[0m             \u001b[0mmda_export_args\u001b[0m\u001b[0;34m=\u001b[0m\u001b[0mself\u001b[0m\u001b[0;34m.\u001b[0m\u001b[0mmda_export_args\u001b[0m\u001b[0;34m,\u001b[0m\u001b[0;34m\u001b[0m\u001b[0;34m\u001b[0m\u001b[0m\n\u001b[0;32m--> 189\u001b[0;31m             \u001b[0manalog_export_args\u001b[0m\u001b[0;34m=\u001b[0m\u001b[0mself\u001b[0m\u001b[0;34m.\u001b[0m\u001b[0mtrodes_rec_export_args\u001b[0m\u001b[0;34m\u001b[0m\u001b[0;34m\u001b[0m\u001b[0m\n\u001b[0m\u001b[1;32m    190\u001b[0m         )\n\u001b[1;32m    191\u001b[0m         \u001b[0mself\u001b[0m\u001b[0;34m.\u001b[0m\u001b[0m__is_rec_config_valid\u001b[0m\u001b[0;34m(\u001b[0m\u001b[0;34m)\u001b[0m\u001b[0;34m\u001b[0m\u001b[0;34m\u001b[0m\u001b[0m\n",
      "\u001b[0;32m~/opt/anaconda3/envs/rec_to_nwb_test/lib/python3.7/site-packages/rec_to_binaries/core.py\u001b[0m in \u001b[0;36mextract_trodes_rec_file\u001b[0;34m(data_dir, animal, lfp_export_args, mda_export_args, analog_export_args, dio_export_args, spikes_export_args, time_export_args, make_HDF5, extract_analog, extract_spikes, extract_lfps, extract_dio, extract_time, extract_mda, adjust_timestamps_for_mcu_lag, make_mountain_dir, make_pos_dir, overwrite, stop_error, use_folder_date, parallel_instances, use_day_config)\u001b[0m\n\u001b[1;32m    164\u001b[0m             preprocessing_dir, '**', '*.continuoustime.dat'), recursive=True)\n\u001b[1;32m    165\u001b[0m         \u001b[0;32mfor\u001b[0m \u001b[0mfile\u001b[0m \u001b[0;32min\u001b[0m \u001b[0mfilenames\u001b[0m\u001b[0;34m:\u001b[0m\u001b[0;34m\u001b[0m\u001b[0;34m\u001b[0m\u001b[0m\n\u001b[0;32m--> 166\u001b[0;31m             \u001b[0mfix_timestamp_lag\u001b[0m\u001b[0;34m(\u001b[0m\u001b[0mfile\u001b[0m\u001b[0;34m)\u001b[0m\u001b[0;34m\u001b[0m\u001b[0;34m\u001b[0m\u001b[0m\n\u001b[0m\u001b[1;32m    167\u001b[0m \u001b[0;34m\u001b[0m\u001b[0m\n\u001b[1;32m    168\u001b[0m     \u001b[0;32mif\u001b[0m \u001b[0mmake_mountain_dir\u001b[0m\u001b[0;34m:\u001b[0m\u001b[0;34m\u001b[0m\u001b[0;34m\u001b[0m\u001b[0m\n",
      "\u001b[0;32m~/opt/anaconda3/envs/rec_to_nwb_test/lib/python3.7/site-packages/rec_to_binaries/adjust_timestamps.py\u001b[0m in \u001b[0;36mfix_timestamp_lag\u001b[0;34m(continuoustime_filename)\u001b[0m\n\u001b[1;32m    122\u001b[0m \u001b[0;34m\u001b[0m\u001b[0m\n\u001b[1;32m    123\u001b[0m     \u001b[0mnew_data_file\u001b[0m \u001b[0;34m=\u001b[0m \u001b[0m_insert_new_data\u001b[0m\u001b[0;34m(\u001b[0m\u001b[0mdata_file\u001b[0m\u001b[0;34m,\u001b[0m \u001b[0mnew_data\u001b[0m\u001b[0;34m)\u001b[0m\u001b[0;34m\u001b[0m\u001b[0;34m\u001b[0m\u001b[0m\n\u001b[0;32m--> 124\u001b[0;31m     \u001b[0mwrite_trodes_extracted_datafile\u001b[0m\u001b[0;34m(\u001b[0m\u001b[0mcontinuoustime_filename\u001b[0m\u001b[0;34m,\u001b[0m \u001b[0mnew_data_file\u001b[0m\u001b[0;34m)\u001b[0m\u001b[0;34m\u001b[0m\u001b[0;34m\u001b[0m\u001b[0m\n\u001b[0m",
      "\u001b[0;32m~/opt/anaconda3/envs/rec_to_nwb_test/lib/python3.7/site-packages/rec_to_binaries/read_binaries.py\u001b[0m in \u001b[0;36mwrite_trodes_extracted_datafile\u001b[0;34m(filename, data_file)\u001b[0m\n\u001b[1;32m     88\u001b[0m                 \u001b[0mfile\u001b[0m\u001b[0;34m.\u001b[0m\u001b[0mwrite\u001b[0m\u001b[0;34m(\u001b[0m\u001b[0mline\u001b[0m\u001b[0;34m)\u001b[0m\u001b[0;34m\u001b[0m\u001b[0;34m\u001b[0m\u001b[0m\n\u001b[1;32m     89\u001b[0m         \u001b[0mfile\u001b[0m\u001b[0;34m.\u001b[0m\u001b[0mwrite\u001b[0m\u001b[0;34m(\u001b[0m\u001b[0;34m'<End settings>\\n'\u001b[0m\u001b[0;34m.\u001b[0m\u001b[0mencode\u001b[0m\u001b[0;34m(\u001b[0m\u001b[0;34m)\u001b[0m\u001b[0;34m)\u001b[0m\u001b[0;34m\u001b[0m\u001b[0;34m\u001b[0m\u001b[0m\n\u001b[0;32m---> 90\u001b[0;31m         \u001b[0mfile\u001b[0m\u001b[0;34m.\u001b[0m\u001b[0mwrite\u001b[0m\u001b[0;34m(\u001b[0m\u001b[0mdata_file\u001b[0m\u001b[0;34m[\u001b[0m\u001b[0;34m'data'\u001b[0m\u001b[0;34m]\u001b[0m\u001b[0;34m.\u001b[0m\u001b[0mtobytes\u001b[0m\u001b[0;34m(\u001b[0m\u001b[0;34m)\u001b[0m\u001b[0;34m)\u001b[0m\u001b[0;34m\u001b[0m\u001b[0;34m\u001b[0m\u001b[0m\n\u001b[0m",
      "\u001b[0;31mKeyboardInterrupt\u001b[0m: "
     ]
    }
   ],
   "source": [
    "%%time\n",
    "content = builder.build_nwb()\n",
    "print(content)\n",
    "#expected warnings from rec_to_binaries"
   ]
  },
  {
   "cell_type": "markdown",
   "metadata": {},
   "source": [
    "# Cleanup preprocessed data\n",
    "## Note that this deletes the extracted data, so you may wish to skip this step"
   ]
  },
  {
   "cell_type": "code",
   "execution_count": null,
   "metadata": {},
   "outputs": [],
   "source": [
    "builder.clean_up()"
   ]
  },
  {
   "cell_type": "markdown",
   "metadata": {},
   "source": [
    "## Test: Import the NWB file and inspect the contents"
   ]
  },
  {
   "cell_type": "code",
   "execution_count": 23,
   "metadata": {},
   "outputs": [],
   "source": [
    "import pynwb\n",
    "nwb_file_name = '/Users/loren/data/nwb_builder_test_data/beans20190718.nwb'\n",
    "io = pynwb.NWBHDF5IO(nwb_file_name,'r')\n",
    "nwbf = io.read()"
   ]
  },
  {
   "cell_type": "code",
   "execution_count": 24,
   "metadata": {},
   "outputs": [
    {
     "data": {
      "text/plain": [
       "root pynwb.file.NWBFile at 0x140579284432464\n",
       "Fields:\n",
       "  acquisition: {\n",
       "    e-series <class 'pynwb.ecephys.ElectricalSeries'>\n",
       "  }\n",
       "  devices: {\n",
       "    SpikeGadgets <class 'ndx_franklab_novela.data_acq_device.DataAcqDevice'>,\n",
       "    camera_device 0 <class 'ndx_franklab_novela.camera_device.CameraDevice'>,\n",
       "    camera_device 1 <class 'ndx_franklab_novela.camera_device.CameraDevice'>,\n",
       "    header_device <class 'ndx_franklab_novela.header_device.HeaderDevice'>,\n",
       "    probe 0 <class 'ndx_franklab_novela.probe.Probe'>\n",
       "  }\n",
       "  electrode_groups: {\n",
       "    0 <class 'ndx_franklab_novela.nwb_electrode_group.NwbElectrodeGroup'>,\n",
       "    1 <class 'ndx_franklab_novela.nwb_electrode_group.NwbElectrodeGroup'>\n",
       "  }\n",
       "  electrodes: electrodes <class 'hdmf.common.table.DynamicTable'>\n",
       "  epochs: epochs <class 'pynwb.epoch.TimeIntervals'>\n",
       "  experiment_description: Reinforcement learning\n",
       "  experimenter: ['Alison Comrie']\n",
       "  file_create_date: [datetime.datetime(2020, 7, 9, 8, 34, 46, 756427, tzinfo=tzoffset(None, -25200))]\n",
       "  identifier: b813fcda-c1f9-11ea-b5d3-82ca5c498801\n",
       "  institution: University of California, San Francisco\n",
       "  intervals: {\n",
       "    epochs <class 'pynwb.epoch.TimeIntervals'>,\n",
       "    mda_invalid_times <class 'pynwb.epoch.TimeIntervals'>,\n",
       "    mda_valid_times <class 'pynwb.epoch.TimeIntervals'>,\n",
       "    pos_invalid_times <class 'pynwb.epoch.TimeIntervals'>,\n",
       "    pos_valid_times <class 'pynwb.epoch.TimeIntervals'>\n",
       "  }\n",
       "  lab: Loren Frank\n",
       "  processing: {\n",
       "    behavior <class 'pynwb.base.ProcessingModule'>\n",
       "  }\n",
       "  session_description: Reinforcement leaarning\n",
       "  session_id: beans_01\n",
       "  session_start_time: 2019-07-18 15:29:46.885000-07:00\n",
       "  subject: subject pynwb.file.Subject at 0x140584111281424\n",
       "Fields:\n",
       "  description: Long Evans Rat\n",
       "  genotype: Wild Type\n",
       "  sex: Male\n",
       "  species: Rat\n",
       "  subject_id: Beans\n",
       "  weight: Unknown\n",
       "\n",
       "  timestamps_reference_time: 1970-01-01 00:00:00+00:00"
      ]
     },
     "execution_count": 24,
     "metadata": {},
     "output_type": "execute_result"
    }
   ],
   "source": [
    "nwbf"
   ]
  }
 ],
 "metadata": {
  "kernelspec": {
   "display_name": "Python 3.7.6 64-bit ('rec_to_nwb': conda)",
   "language": "python",
   "name": "python37664bitrectonwbconda9af04d1092a641e9ad758e8d5256822c"
  },
  "language_info": {
   "codemirror_mode": {
    "name": "ipython",
    "version": 3
   },
   "file_extension": ".py",
   "mimetype": "text/x-python",
   "name": "python",
   "nbconvert_exporter": "python",
   "pygments_lexer": "ipython3",
   "version": "3.7.6"
  }
 },
 "nbformat": 4,
 "nbformat_minor": 4
}
