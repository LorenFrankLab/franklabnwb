{
 "cells": [
  {
   "cell_type": "markdown",
   "metadata": {},
   "source": [
    "#  NWB File generation from raw data"
   ]
  },
  {
   "cell_type": "code",
   "execution_count": 1,
   "metadata": {},
   "outputs": [],
   "source": [
    "%reload_ext autoreload\n",
    "%autoreload 2"
   ]
  },
  {
   "cell_type": "code",
   "execution_count": 2,
   "metadata": {},
   "outputs": [],
   "source": [
    "import os\n",
    "import logging\n",
    "import sys\n",
    "from rec_to_nwb.processing.builder.nwb_file_builder import NWBFileBuilder\n",
    "from rec_to_binaries import extract_trodes_rec_file\n",
    "from rec_to_nwb.processing.builder.raw_to_nwb_builder import RawToNWBBuilder\n",
    "from rec_to_nwb.processing.metadata.metadata_manager import MetadataManager\n"
   ]
  },
  {
   "cell_type": "markdown",
   "metadata": {},
   "source": [
    "## Setup config parameters\n"
   ]
  },
  {
   "cell_type": "code",
   "execution_count": 13,
   "metadata": {},
   "outputs": [],
   "source": [
    "# set the animal name and the date or list of dates to process\n",
    "animal_name = 'beans'\n",
    "dates = ['20190718']\n",
    "\n",
    "yaml_path = '/Users/loren/Src/NWB/franklabnwb/yaml'\n",
    "animal_metadata_file = 'beans20190718_metadata.yml'\n",
    "probe1_metadata_file = '128c-4s8mm6cm-20um-40um-sl.yml'\n",
    "probe2_metadata_file = 'tetrode_12.5.yml'\n",
    "\n",
    "#Specify the paths for the data, the output nwb file, and the video files\n",
    "data_path = '/Users/loren/data/nwb_builder_test_data/'\n",
    "output_path='/Users/loren/data/nwb_builder_test_data/tmp'\n",
    "video_path='/Users/loren/data/nwb_builder_test_data/video/'\n",
    "\n",
    "# Specify any optional trodes export flags\n",
    "trodes_rec_export_args = ('-reconfig', '/Users/loren/data/nwb_builder_test_data/beans/Probe_128ch_allnT_DIOs_PTP_reconfig_export_shanks.xml') \n",
    "\n",
    "\n",
    "# specify the locations of the metadata files for the animal and the probe(s). \n",
    "# Note that specifying all possible probes is fine\n",
    "animal_metadata = os.path.join(yaml_path, animal_metadata_file )\n",
    "probe_metadata = [os.path.join(yaml_path, probe1_metadata_file), \n",
    "                  os.path.join(yaml_path, probe2_metadata_file)]\n",
    "\n",
    "\n",
    "# Specify whether data should be reextracted. \n",
    "overwrite=False"
   ]
  },
  {
   "cell_type": "code",
   "execution_count": 14,
   "metadata": {},
   "outputs": [],
   "source": [
    "### Print the meta data as a check"
   ]
  },
  {
   "cell_type": "code",
   "execution_count": 15,
   "metadata": {},
   "outputs": [
    {
     "name": "stdout",
     "output_type": "stream",
     "text": [
      "metadata path = /Users/loren/Src/NWB/franklabnwb/yaml/beans20190718_metadata.yml, probes_paths = ['/Users/loren/Src/NWB/franklabnwb/yaml/128c-4s8mm6cm-20um-40um-sl.yml', '/Users/loren/Src/NWB/franklabnwb/yaml/tetrode_12.5.yml']\n",
      "Experiment Info:\n",
      "Experimenter: Alison Comrie\n",
      "Description: Reinforcement learning\n",
      "Session Id: beans_01\n",
      "Subject: Long Evans Rat\n",
      "\n",
      "Available probe types: ['128c-4s8mm6cm-20um-40um-sl', 'tetrode_12.5']\n"
     ]
    }
   ],
   "source": [
    "metadata = MetadataManager(animal_metadata, probe_metadata)\n",
    "\n",
    "print(metadata)\n"
   ]
  },
  {
   "cell_type": "markdown",
   "metadata": {},
   "source": [
    "# Processing initiation"
   ]
  },
  {
   "cell_type": "code",
   "execution_count": 16,
   "metadata": {},
   "outputs": [],
   "source": [
    "builder = RawToNWBBuilder(animal_name=animal_name,\n",
    "                          data_path=data_path,\n",
    "                          dates=dates,\n",
    "                          nwb_metadata=metadata,\n",
    "                          overwrite=overwrite,\n",
    "                          output_path=output_path,\n",
    "                          video_path=video_path,\n",
    "                          trodes_rec_export_args = trodes_rec_export_args)"
   ]
  },
  {
   "cell_type": "markdown",
   "metadata": {},
   "source": [
    "## Run processing and create nwb file"
   ]
  },
  {
   "cell_type": "code",
   "execution_count": 17,
   "metadata": {
    "scrolled": true
   },
   "outputs": [
    {
     "name": "stderr",
     "output_type": "stream",
     "text": [
      "/Users/loren/Src/NWB/rec_to_binaries/rec_to_binaries/trodes_data.py:606: TrodesDataFormatWarning: anim path (/Users/loren/data/nwb_builder_test_data/tmp/beans/raw) does not exist.\n",
      "  anim_path)), TrodesDataFormatWarning)\n",
      "/Users/loren/Src/NWB/rec_to_binaries/rec_to_binaries/trodes_data.py:606: TrodesDataFormatWarning: anim path (/Users/loren/data/nwb_builder_test_data/tmp/beans/preprocessing) does not exist.\n",
      "  anim_path)), TrodesDataFormatWarning)\n"
     ]
    },
    {
     "name": "stdout",
     "output_type": "stream",
     "text": [
      "[]\n"
     ]
    },
    {
     "ename": "IndexError",
     "evalue": "list index out of range",
     "output_type": "error",
     "traceback": [
      "\u001b[0;31m---------------------------------------------------------------------------\u001b[0m",
      "\u001b[0;31mIndexError\u001b[0m                                Traceback (most recent call last)",
      "\u001b[0;32m<timed exec>\u001b[0m in \u001b[0;36m<module>\u001b[0;34m\u001b[0m\n",
      "\u001b[0;32m~/Src/NWB/rec_to_nwb/rec_to_nwb/processing/builder/raw_to_nwb_builder.py\u001b[0m in \u001b[0;36mbuild_nwb\u001b[0;34m(self, process_mda_valid_time, process_mda_invalid_time, process_pos_valid_time, process_pos_invalid_time)\u001b[0m\n\u001b[1;32m    162\u001b[0m                 \u001b[0mprocess_analog\u001b[0m\u001b[0;34m=\u001b[0m\u001b[0mself\u001b[0m\u001b[0;34m.\u001b[0m\u001b[0mextract_analog\u001b[0m\u001b[0;34m,\u001b[0m\u001b[0;34m\u001b[0m\u001b[0;34m\u001b[0m\u001b[0m\n\u001b[1;32m    163\u001b[0m                 \u001b[0mvideo_path\u001b[0m\u001b[0;34m=\u001b[0m\u001b[0mself\u001b[0m\u001b[0;34m.\u001b[0m\u001b[0mvideo_path\u001b[0m\u001b[0;34m,\u001b[0m\u001b[0;34m\u001b[0m\u001b[0;34m\u001b[0m\u001b[0m\n\u001b[0;32m--> 164\u001b[0;31m                 \u001b[0mreconfig_header\u001b[0m\u001b[0;34m=\u001b[0m\u001b[0mself\u001b[0m\u001b[0;34m.\u001b[0m\u001b[0m__is_rec_config_valid\u001b[0m\u001b[0;34m(\u001b[0m\u001b[0;34m)\u001b[0m\u001b[0;34m\u001b[0m\u001b[0;34m\u001b[0m\u001b[0m\n\u001b[0m\u001b[1;32m    165\u001b[0m             )\n\u001b[1;32m    166\u001b[0m             \u001b[0mcontent\u001b[0m \u001b[0;34m=\u001b[0m \u001b[0mnwb_builder\u001b[0m\u001b[0;34m.\u001b[0m\u001b[0mbuild\u001b[0m\u001b[0;34m(\u001b[0m\u001b[0;34m)\u001b[0m\u001b[0;34m\u001b[0m\u001b[0;34m\u001b[0m\u001b[0m\n",
      "\u001b[0;32m~/Src/NWB/rec_to_nwb/rec_to_nwb/processing/tools/beartype/beartype.py\u001b[0m in \u001b[0;36mfunc_beartyped\u001b[0;34m(__beartype_func, *args, **kwargs)\u001b[0m\n",
      "\u001b[0;32m~/Src/NWB/rec_to_nwb/rec_to_nwb/processing/builder/nwb_file_builder.py\u001b[0m in \u001b[0;36m__init__\u001b[0;34m(self, data_path, animal_name, date, nwb_metadata, process_dio, process_mda, process_analog, process_pos_timestamps, video_path, output_file, reconfig_header)\u001b[0m\n\u001b[1;32m    137\u001b[0m \u001b[0;34m\u001b[0m\u001b[0m\n\u001b[1;32m    138\u001b[0m \u001b[0;34m\u001b[0m\u001b[0m\n\u001b[0;32m--> 139\u001b[0;31m         \u001b[0mheader_file\u001b[0m \u001b[0;34m=\u001b[0m \u001b[0mHeaderProcessor\u001b[0m\u001b[0;34m.\u001b[0m\u001b[0mprocess_headers\u001b[0m\u001b[0;34m(\u001b[0m\u001b[0mrec_files_list\u001b[0m\u001b[0;34m)\u001b[0m\u001b[0;34m\u001b[0m\u001b[0;34m\u001b[0m\u001b[0m\n\u001b[0m\u001b[1;32m    140\u001b[0m         \u001b[0;32mif\u001b[0m \u001b[0mreconfig_header\u001b[0m\u001b[0;34m:\u001b[0m\u001b[0;34m\u001b[0m\u001b[0;34m\u001b[0m\u001b[0m\n\u001b[1;32m    141\u001b[0m             \u001b[0mself\u001b[0m\u001b[0;34m.\u001b[0m\u001b[0mheader\u001b[0m \u001b[0;34m=\u001b[0m \u001b[0mHeader\u001b[0m\u001b[0;34m(\u001b[0m\u001b[0mreconfig_header\u001b[0m\u001b[0;34m)\u001b[0m\u001b[0;34m\u001b[0m\u001b[0;34m\u001b[0m\u001b[0m\n",
      "\u001b[0;32m~/Src/NWB/rec_to_nwb/rec_to_nwb/processing/header/header_checker/header_processor.py\u001b[0m in \u001b[0;36mprocess_headers\u001b[0;34m(rec_files_list)\u001b[0m\n\u001b[1;32m     11\u001b[0m         \u001b[0mheader_files\u001b[0m \u001b[0;34m=\u001b[0m \u001b[0mheaders_extractor\u001b[0m\u001b[0;34m.\u001b[0m\u001b[0mextract_headers_from_rec_files\u001b[0m\u001b[0;34m(\u001b[0m\u001b[0mrec_files_list\u001b[0m\u001b[0;34m)\u001b[0m\u001b[0;34m\u001b[0m\u001b[0;34m\u001b[0m\u001b[0m\n\u001b[1;32m     12\u001b[0m         \u001b[0mheader_comparator\u001b[0m \u001b[0;34m=\u001b[0m \u001b[0mHeaderComparator\u001b[0m\u001b[0;34m(\u001b[0m\u001b[0mheader_files\u001b[0m\u001b[0;34m)\u001b[0m\u001b[0;34m\u001b[0m\u001b[0;34m\u001b[0m\u001b[0m\n\u001b[0;32m---> 13\u001b[0;31m         \u001b[0mheaders_differences\u001b[0m \u001b[0;34m=\u001b[0m \u001b[0mheader_comparator\u001b[0m\u001b[0;34m.\u001b[0m\u001b[0mcompare\u001b[0m\u001b[0;34m(\u001b[0m\u001b[0;34m)\u001b[0m\u001b[0;34m\u001b[0m\u001b[0;34m\u001b[0m\u001b[0m\n\u001b[0m\u001b[1;32m     14\u001b[0m \u001b[0;34m\u001b[0m\u001b[0m\n\u001b[1;32m     15\u001b[0m         \u001b[0mHeaderLogger\u001b[0m\u001b[0;34m.\u001b[0m\u001b[0mlog_header_differences\u001b[0m\u001b[0;34m(\u001b[0m\u001b[0mheaders_differences\u001b[0m\u001b[0;34m,\u001b[0m \u001b[0mrec_files_list\u001b[0m\u001b[0;34m)\u001b[0m\u001b[0;34m\u001b[0m\u001b[0;34m\u001b[0m\u001b[0m\n",
      "\u001b[0;32m~/Src/NWB/rec_to_nwb/rec_to_nwb/processing/header/header_checker/header_comparator.py\u001b[0m in \u001b[0;36mcompare\u001b[0;34m(self)\u001b[0m\n\u001b[1;32m      9\u001b[0m     \u001b[0;32mdef\u001b[0m \u001b[0mcompare\u001b[0m\u001b[0;34m(\u001b[0m\u001b[0mself\u001b[0m\u001b[0;34m)\u001b[0m\u001b[0;34m:\u001b[0m\u001b[0;34m\u001b[0m\u001b[0;34m\u001b[0m\u001b[0m\n\u001b[1;32m     10\u001b[0m         \u001b[0mheaders_differences\u001b[0m \u001b[0;34m=\u001b[0m \u001b[0;34m[\u001b[0m\u001b[0;34m]\u001b[0m\u001b[0;34m\u001b[0m\u001b[0;34m\u001b[0m\u001b[0m\n\u001b[0;32m---> 11\u001b[0;31m         \u001b[0mfirst_xml_file\u001b[0m \u001b[0;34m=\u001b[0m \u001b[0mself\u001b[0m\u001b[0;34m.\u001b[0m\u001b[0mxml_headers\u001b[0m\u001b[0;34m[\u001b[0m\u001b[0;36m0\u001b[0m\u001b[0;34m]\u001b[0m\u001b[0;34m\u001b[0m\u001b[0;34m\u001b[0m\u001b[0m\n\u001b[0m\u001b[1;32m     12\u001b[0m         \u001b[0;32mfor\u001b[0m \u001b[0mxml_file\u001b[0m \u001b[0;32min\u001b[0m \u001b[0mself\u001b[0m\u001b[0;34m.\u001b[0m\u001b[0mxml_headers\u001b[0m\u001b[0;34m:\u001b[0m\u001b[0;34m\u001b[0m\u001b[0;34m\u001b[0m\u001b[0m\n\u001b[1;32m     13\u001b[0m             \u001b[0mheaders_differences\u001b[0m \u001b[0;34m+=\u001b[0m \u001b[0mmain\u001b[0m\u001b[0;34m.\u001b[0m\u001b[0mdiff_files\u001b[0m\u001b[0;34m(\u001b[0m\u001b[0mfirst_xml_file\u001b[0m\u001b[0;34m,\u001b[0m \u001b[0mxml_file\u001b[0m\u001b[0;34m)\u001b[0m\u001b[0;34m\u001b[0m\u001b[0;34m\u001b[0m\u001b[0m\n",
      "\u001b[0;31mIndexError\u001b[0m: list index out of range"
     ]
    }
   ],
   "source": [
    "%%time\n",
    "content = builder.build_nwb()\n",
    "print(content)\n",
    "#expected warnings from rec_to_binaries"
   ]
  },
  {
   "cell_type": "markdown",
   "metadata": {},
   "source": [
    "# Cleanup preprocessed data\n",
    "## Note that this deletes the extracted data, so you may wish to skip this step"
   ]
  },
  {
   "cell_type": "code",
   "execution_count": null,
   "metadata": {},
   "outputs": [],
   "source": [
    "builder.clean_up()"
   ]
  },
  {
   "cell_type": "markdown",
   "metadata": {},
   "source": [
    "## Test: Import the NWB file and inspect the contents"
   ]
  },
  {
   "cell_type": "code",
   "execution_count": 23,
   "metadata": {},
   "outputs": [],
   "source": [
    "import pynwb\n",
    "nwb_file_name = '/Users/loren/data/nwb_builder_test_data/beans20190718.nwb'\n",
    "io = pynwb.NWBHDF5IO(nwb_file_name,'r')\n",
    "nwbf = io.read()"
   ]
  },
  {
   "cell_type": "code",
   "execution_count": 24,
   "metadata": {},
   "outputs": [
    {
     "data": {
      "text/plain": [
       "root pynwb.file.NWBFile at 0x140579284432464\n",
       "Fields:\n",
       "  acquisition: {\n",
       "    e-series <class 'pynwb.ecephys.ElectricalSeries'>\n",
       "  }\n",
       "  devices: {\n",
       "    SpikeGadgets <class 'ndx_franklab_novela.data_acq_device.DataAcqDevice'>,\n",
       "    camera_device 0 <class 'ndx_franklab_novela.camera_device.CameraDevice'>,\n",
       "    camera_device 1 <class 'ndx_franklab_novela.camera_device.CameraDevice'>,\n",
       "    header_device <class 'ndx_franklab_novela.header_device.HeaderDevice'>,\n",
       "    probe 0 <class 'ndx_franklab_novela.probe.Probe'>\n",
       "  }\n",
       "  electrode_groups: {\n",
       "    0 <class 'ndx_franklab_novela.nwb_electrode_group.NwbElectrodeGroup'>,\n",
       "    1 <class 'ndx_franklab_novela.nwb_electrode_group.NwbElectrodeGroup'>\n",
       "  }\n",
       "  electrodes: electrodes <class 'hdmf.common.table.DynamicTable'>\n",
       "  epochs: epochs <class 'pynwb.epoch.TimeIntervals'>\n",
       "  experiment_description: Reinforcement learning\n",
       "  experimenter: ['Alison Comrie']\n",
       "  file_create_date: [datetime.datetime(2020, 7, 9, 8, 34, 46, 756427, tzinfo=tzoffset(None, -25200))]\n",
       "  identifier: b813fcda-c1f9-11ea-b5d3-82ca5c498801\n",
       "  institution: University of California, San Francisco\n",
       "  intervals: {\n",
       "    epochs <class 'pynwb.epoch.TimeIntervals'>,\n",
       "    mda_invalid_times <class 'pynwb.epoch.TimeIntervals'>,\n",
       "    mda_valid_times <class 'pynwb.epoch.TimeIntervals'>,\n",
       "    pos_invalid_times <class 'pynwb.epoch.TimeIntervals'>,\n",
       "    pos_valid_times <class 'pynwb.epoch.TimeIntervals'>\n",
       "  }\n",
       "  lab: Loren Frank\n",
       "  processing: {\n",
       "    behavior <class 'pynwb.base.ProcessingModule'>\n",
       "  }\n",
       "  session_description: Reinforcement leaarning\n",
       "  session_id: beans_01\n",
       "  session_start_time: 2019-07-18 15:29:46.885000-07:00\n",
       "  subject: subject pynwb.file.Subject at 0x140584111281424\n",
       "Fields:\n",
       "  description: Long Evans Rat\n",
       "  genotype: Wild Type\n",
       "  sex: Male\n",
       "  species: Rat\n",
       "  subject_id: Beans\n",
       "  weight: Unknown\n",
       "\n",
       "  timestamps_reference_time: 1970-01-01 00:00:00+00:00"
      ]
     },
     "execution_count": 24,
     "metadata": {},
     "output_type": "execute_result"
    }
   ],
   "source": [
    "nwbf"
   ]
  },
  {
   "cell_type": "code",
   "execution_count": 5,
   "metadata": {},
   "outputs": [
    {
     "data": {
      "text/plain": [
       "'12'"
      ]
     },
     "execution_count": 5,
     "metadata": {},
     "output_type": "execute_result"
    }
   ],
   "source": [
    "lst = [12] \n",
    "\",\".join([str(i) for i in lst])"
   ]
  },
  {
   "cell_type": "code",
   "execution_count": null,
   "metadata": {},
   "outputs": [],
   "source": []
  }
 ],
 "metadata": {
  "kernelspec": {
   "display_name": "Python [conda env:rec_to_nwb]",
   "language": "python",
   "name": "conda-env-rec_to_nwb-py"
  },
  "language_info": {
   "codemirror_mode": {
    "name": "ipython",
    "version": 3
   },
   "file_extension": ".py",
   "mimetype": "text/x-python",
   "name": "python",
   "nbconvert_exporter": "python",
   "pygments_lexer": "ipython3",
   "version": "3.7.4"
  }
 },
 "nbformat": 4,
 "nbformat_minor": 4
}
