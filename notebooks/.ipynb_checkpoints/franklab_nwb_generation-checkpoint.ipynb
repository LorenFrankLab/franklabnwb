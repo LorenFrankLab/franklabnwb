{
 "cells": [
  {
   "cell_type": "markdown",
   "metadata": {},
   "source": [
    "#  NWB File generation from raw data"
   ]
  },
  {
   "cell_type": "code",
   "execution_count": 1,
   "metadata": {},
   "outputs": [],
   "source": [
    "%reload_ext autoreload\n",
    "%autoreload 2"
   ]
  },
  {
   "cell_type": "code",
   "execution_count": 2,
   "metadata": {},
   "outputs": [],
   "source": [
    "import os\n",
    "import logging\n",
    "import sys\n",
    "from rec_to_nwb.processing.builder.nwb_file_builder import NWBFileBuilder\n",
    "from rec_to_binaries import extract_trodes_rec_file\n",
    "from rec_to_nwb.processing.builder.raw_to_nwb_builder import RawToNWBBuilder\n",
    "from rec_to_nwb.processing.metadata.metadata_manager import MetadataManager\n"
   ]
  },
  {
   "cell_type": "markdown",
   "metadata": {},
   "source": [
    "## Setup config parameters\n"
   ]
  },
  {
   "cell_type": "code",
   "execution_count": 3,
   "metadata": {},
   "outputs": [],
   "source": [
    "# set the animal name and the date or list of dates to process\n",
    "animal_name = 'beans'\n",
    "dates = ['20190718']\n",
    "\n",
    "yaml_path = '/Users/loren/Src/NWB/franklabnwb/yaml'\n",
    "\n",
    "# specify the locations of the metadata files for the animal and the probe(s). \n",
    "# Note that specifying all possible probes is fine\n",
    "animal_metadata = os.path.join(yaml_path, 'beans20190718_metadata.yml')\n",
    "probe_metadata = [os.path.join(yaml_path, '128c-4s8mm6cm-20um-40um-sl.yml'), \n",
    "                  os.path.join(yaml_path, 'tetrode.yml')]\n",
    "\n",
    "#Specify the paths for the data, the output nwb file, and the video files\n",
    "data_path = '/Users/loren/data/nwb_builder_test_data/'\n",
    "output_path='/Users/loren/data/nwb_builder_test_data/'\n",
    "video_directory='/Users/loren/data/nwb_builder_test_data/video/'\n",
    "\n",
    "# Specify any optional trodes export flags\n",
    "trodes_rec_export_args = ('-reconfig', '/Users/loren/data/nwb_builder_test_data/beans/Probe_128ch_allnT_DIOs_PTP_reconfig_export_shanks.xml') \n",
    "\n",
    "# Specify whether data should be reextracted. \n",
    "overwrite=False"
   ]
  },
  {
   "cell_type": "code",
   "execution_count": 19,
   "metadata": {},
   "outputs": [],
   "source": [
    "### Print the meta data as a check"
   ]
  },
  {
   "cell_type": "code",
   "execution_count": 20,
   "metadata": {},
   "outputs": [
    {
     "name": "stdout",
     "output_type": "stream",
     "text": [
      "Experiment Info:\n",
      "Experimenter: Alison Comrie\n",
      "Description: Reinforcement learning\n",
      "Session Id: beans_01\n",
      "Subject: Long Evans Rat\n",
      "\n",
      "Available probe types: ['128c-4s8mm6cm-20um-40um-sl']\n"
     ]
    }
   ],
   "source": [
    "print(metadata)\n"
   ]
  },
  {
   "cell_type": "markdown",
   "metadata": {},
   "source": [
    "# Processing initiation"
   ]
  },
  {
   "cell_type": "code",
   "execution_count": 21,
   "metadata": {},
   "outputs": [],
   "source": [
    "builder = RawToNWBBuilder(animal_name=animal_name,\n",
    "                          data_path=data_path,\n",
    "                          dates=dates,\n",
    "                          nwb_metadata=metadata,\n",
    "                          overwrite=overwrite,\n",
    "                          output_path=output_path,\n",
    "                          video_directory=video_directory,\n",
    "                          trodes_rec_export_args = trodes_rec_export_args)"
   ]
  },
  {
   "cell_type": "markdown",
   "metadata": {},
   "source": [
    "## Run processing and create nwb file"
   ]
  },
  {
   "cell_type": "code",
   "execution_count": 22,
   "metadata": {
    "scrolled": true
   },
   "outputs": [
    {
     "ename": "KeyboardInterrupt",
     "evalue": "",
     "output_type": "error",
     "traceback": [
      "\u001b[0;31m---------------------------------------------------------------------------\u001b[0m",
      "\u001b[0;31mKeyboardInterrupt\u001b[0m                         Traceback (most recent call last)",
      "\u001b[0;32m<timed exec>\u001b[0m in \u001b[0;36m<module>\u001b[0;34m\u001b[0m\n",
      "\u001b[0;32m~/opt/anaconda3/envs/rec_to_nwb_test/lib/python3.7/site-packages/rec_to_nwb/processing/builder/raw_to_nwb_builder.py\u001b[0m in \u001b[0;36mbuild_nwb\u001b[0;34m(self, process_mda_valid_time, process_mda_invalid_time, process_pos_valid_time, process_pos_invalid_time)\u001b[0m\n\u001b[1;32m    144\u001b[0m                 \u001b[0mvideo_directory\u001b[0m\u001b[0;34m=\u001b[0m\u001b[0mself\u001b[0m\u001b[0;34m.\u001b[0m\u001b[0mvideo_directory\u001b[0m\u001b[0;34m,\u001b[0m\u001b[0;34m\u001b[0m\u001b[0;34m\u001b[0m\u001b[0m\n\u001b[1;32m    145\u001b[0m             )\n\u001b[0;32m--> 146\u001b[0;31m             \u001b[0mcontent\u001b[0m \u001b[0;34m=\u001b[0m \u001b[0mnwb_builder\u001b[0m\u001b[0;34m.\u001b[0m\u001b[0mbuild\u001b[0m\u001b[0;34m(\u001b[0m\u001b[0;34m)\u001b[0m\u001b[0;34m\u001b[0m\u001b[0;34m\u001b[0m\u001b[0m\n\u001b[0m\u001b[1;32m    147\u001b[0m             \u001b[0mnwb_builder\u001b[0m\u001b[0;34m.\u001b[0m\u001b[0mwrite\u001b[0m\u001b[0;34m(\u001b[0m\u001b[0mcontent\u001b[0m\u001b[0;34m)\u001b[0m\u001b[0;34m\u001b[0m\u001b[0;34m\u001b[0m\u001b[0m\n\u001b[1;32m    148\u001b[0m             self.append_to_nwb(\n",
      "\u001b[0;32m~/opt/anaconda3/envs/rec_to_nwb_test/lib/python3.7/site-packages/rec_to_nwb/processing/builder/nwb_file_builder.py\u001b[0m in \u001b[0;36mbuild\u001b[0;34m(self)\u001b[0m\n\u001b[1;32m    280\u001b[0m \u001b[0;34m\u001b[0m\u001b[0m\n\u001b[1;32m    281\u001b[0m         \u001b[0;32mif\u001b[0m \u001b[0mself\u001b[0m\u001b[0;34m.\u001b[0m\u001b[0mprocess_analog\u001b[0m\u001b[0;34m:\u001b[0m\u001b[0;34m\u001b[0m\u001b[0;34m\u001b[0m\u001b[0m\n\u001b[0;32m--> 282\u001b[0;31m             \u001b[0mself\u001b[0m\u001b[0;34m.\u001b[0m\u001b[0manalog_originator\u001b[0m\u001b[0;34m.\u001b[0m\u001b[0mmake\u001b[0m\u001b[0;34m(\u001b[0m\u001b[0mnwb_content\u001b[0m\u001b[0;34m)\u001b[0m\u001b[0;34m\u001b[0m\u001b[0;34m\u001b[0m\u001b[0m\n\u001b[0m\u001b[1;32m    283\u001b[0m \u001b[0;34m\u001b[0m\u001b[0m\n\u001b[1;32m    284\u001b[0m         \u001b[0mself\u001b[0m\u001b[0;34m.\u001b[0m\u001b[0mvideo_files_originator\u001b[0m\u001b[0;34m.\u001b[0m\u001b[0mmake\u001b[0m\u001b[0;34m(\u001b[0m\u001b[0mnwb_content\u001b[0m\u001b[0;34m)\u001b[0m\u001b[0;34m\u001b[0m\u001b[0;34m\u001b[0m\u001b[0m\n",
      "\u001b[0;32m~/opt/anaconda3/envs/rec_to_nwb_test/lib/python3.7/site-packages/rec_to_nwb/processing/builder/originators/analog_originator.py\u001b[0m in \u001b[0;36mmake\u001b[0;34m(self, nwb_content)\u001b[0m\n\u001b[1;32m     19\u001b[0m             \u001b[0mcontinuous_time_files\u001b[0m\u001b[0;34m=\u001b[0m\u001b[0mself\u001b[0m\u001b[0;34m.\u001b[0m\u001b[0mcontinuous_time_files\u001b[0m\u001b[0;34m\u001b[0m\u001b[0;34m\u001b[0m\u001b[0m\n\u001b[1;32m     20\u001b[0m         )\n\u001b[0;32m---> 21\u001b[0;31m         \u001b[0mfl_analog\u001b[0m \u001b[0;34m=\u001b[0m \u001b[0manalog_manager\u001b[0m\u001b[0;34m.\u001b[0m\u001b[0mget_analog\u001b[0m\u001b[0;34m(\u001b[0m\u001b[0;34m)\u001b[0m\u001b[0;34m\u001b[0m\u001b[0;34m\u001b[0m\u001b[0m\n\u001b[0m\u001b[1;32m     22\u001b[0m         \u001b[0manalog_injector\u001b[0m \u001b[0;34m=\u001b[0m \u001b[0mAnalogInjector\u001b[0m\u001b[0;34m(\u001b[0m\u001b[0mnwb_content\u001b[0m\u001b[0;34m)\u001b[0m\u001b[0;34m\u001b[0m\u001b[0;34m\u001b[0m\u001b[0m\n\u001b[1;32m     23\u001b[0m         \u001b[0manalog_injector\u001b[0m\u001b[0;34m.\u001b[0m\u001b[0minject\u001b[0m\u001b[0;34m(\u001b[0m\u001b[0mAnalogCreator\u001b[0m\u001b[0;34m.\u001b[0m\u001b[0mcreate\u001b[0m\u001b[0;34m(\u001b[0m\u001b[0mfl_analog\u001b[0m\u001b[0;34m,\u001b[0m \u001b[0mself\u001b[0m\u001b[0;34m.\u001b[0m\u001b[0mmetadata\u001b[0m\u001b[0;34m[\u001b[0m\u001b[0;34m'units'\u001b[0m\u001b[0;34m]\u001b[0m\u001b[0;34m[\u001b[0m\u001b[0;34m'analog'\u001b[0m\u001b[0;34m]\u001b[0m\u001b[0;34m)\u001b[0m\u001b[0;34m,\u001b[0m \u001b[0;34m'behavior'\u001b[0m\u001b[0;34m)\u001b[0m\u001b[0;34m\u001b[0m\u001b[0;34m\u001b[0m\u001b[0m\n",
      "\u001b[0;32m~/opt/anaconda3/envs/rec_to_nwb_test/lib/python3.7/site-packages/rec_to_nwb/processing/tools/beartype/beartype.py\u001b[0m in \u001b[0;36mfunc_beartyped\u001b[0;34m(__beartype_func, *args, **kwargs)\u001b[0m\n",
      "\u001b[0;32m~/opt/anaconda3/envs/rec_to_nwb_test/lib/python3.7/site-packages/rec_to_nwb/processing/nwb/components/analog/fl_analog_manager.py\u001b[0m in \u001b[0;36mget_analog\u001b[0;34m(self)\u001b[0m\n\u001b[1;32m     27\u001b[0m                 FlAnalogExtractor.extract_analog_for_single_dataset(\n\u001b[1;32m     28\u001b[0m                     \u001b[0mself\u001b[0m\u001b[0;34m.\u001b[0m\u001b[0manalog_files\u001b[0m\u001b[0;34m[\u001b[0m\u001b[0mi\u001b[0m\u001b[0;34m]\u001b[0m\u001b[0;34m,\u001b[0m\u001b[0;34m\u001b[0m\u001b[0;34m\u001b[0m\u001b[0m\n\u001b[0;32m---> 29\u001b[0;31m                     \u001b[0mself\u001b[0m\u001b[0;34m.\u001b[0m\u001b[0mcontinuous_time_files\u001b[0m\u001b[0;34m[\u001b[0m\u001b[0mi\u001b[0m\u001b[0;34m]\u001b[0m\u001b[0;34m\u001b[0m\u001b[0;34m\u001b[0m\u001b[0m\n\u001b[0m\u001b[1;32m     30\u001b[0m                 )\n\u001b[1;32m     31\u001b[0m             )\n",
      "\u001b[0;32m~/opt/anaconda3/envs/rec_to_nwb_test/lib/python3.7/site-packages/rec_to_nwb/processing/nwb/components/analog/fl_analog_extractor.py\u001b[0m in \u001b[0;36mextract_analog_for_single_dataset\u001b[0;34m(analog_files, continuous_time_file)\u001b[0m\n\u001b[1;32m     26\u001b[0m                 \u001b[0mtimestamp\u001b[0m \u001b[0;34m=\u001b[0m \u001b[0mreadTrodesExtractedDataFile\u001b[0m\u001b[0;34m(\u001b[0m\u001b[0manalog_files\u001b[0m\u001b[0;34m[\u001b[0m\u001b[0manalog_file\u001b[0m\u001b[0;34m]\u001b[0m\u001b[0;34m)\u001b[0m\u001b[0;34m\u001b[0m\u001b[0;34m\u001b[0m\u001b[0m\n\u001b[1;32m     27\u001b[0m                 \u001b[0mkeys\u001b[0m \u001b[0;34m=\u001b[0m \u001b[0;34m[\u001b[0m\u001b[0mkey\u001b[0m\u001b[0;34m[\u001b[0m\u001b[0;36m0\u001b[0m\u001b[0;34m]\u001b[0m \u001b[0;32mfor\u001b[0m \u001b[0mkey\u001b[0m \u001b[0;32min\u001b[0m \u001b[0mtimestamp\u001b[0m\u001b[0;34m[\u001b[0m\u001b[0;34m'data'\u001b[0m\u001b[0;34m]\u001b[0m\u001b[0;34m]\u001b[0m\u001b[0;34m\u001b[0m\u001b[0;34m\u001b[0m\u001b[0m\n\u001b[0;32m---> 28\u001b[0;31m                 \u001b[0msingle_dataset_data\u001b[0m\u001b[0;34m[\u001b[0m\u001b[0manalog_file\u001b[0m\u001b[0;34m]\u001b[0m \u001b[0;34m=\u001b[0m \u001b[0mTimestampConverter\u001b[0m\u001b[0;34m.\u001b[0m\u001b[0mconvert_timestamps\u001b[0m\u001b[0;34m(\u001b[0m\u001b[0mcontinuous_time_dict\u001b[0m\u001b[0;34m,\u001b[0m \u001b[0mkeys\u001b[0m\u001b[0;34m)\u001b[0m\u001b[0;34m\u001b[0m\u001b[0;34m\u001b[0m\u001b[0m\n\u001b[0m\u001b[1;32m     29\u001b[0m         \u001b[0;32mreturn\u001b[0m \u001b[0msingle_dataset_data\u001b[0m\u001b[0;34m\u001b[0m\u001b[0;34m\u001b[0m\u001b[0m\n\u001b[1;32m     30\u001b[0m \u001b[0;34m\u001b[0m\u001b[0m\n",
      "\u001b[0;32m~/opt/anaconda3/envs/rec_to_nwb_test/lib/python3.7/site-packages/rec_to_nwb/processing/time/timestamp_converter.py\u001b[0m in \u001b[0;36mconvert_timestamps\u001b[0;34m(continuous_time_dict, timestamps)\u001b[0m\n\u001b[1;32m     18\u001b[0m             \u001b[0mkey\u001b[0m \u001b[0;34m=\u001b[0m \u001b[0mstr\u001b[0m\u001b[0;34m(\u001b[0m\u001b[0mtimestamp\u001b[0m\u001b[0;34m)\u001b[0m\u001b[0;34m\u001b[0m\u001b[0;34m\u001b[0m\u001b[0m\n\u001b[1;32m     19\u001b[0m             \u001b[0mvalue\u001b[0m \u001b[0;34m=\u001b[0m \u001b[0mcontinuous_time_dict\u001b[0m\u001b[0;34m.\u001b[0m\u001b[0mget\u001b[0m\u001b[0;34m(\u001b[0m\u001b[0mkey\u001b[0m\u001b[0;34m,\u001b[0m \u001b[0mfloat\u001b[0m\u001b[0;34m(\u001b[0m\u001b[0;34m'nan'\u001b[0m\u001b[0;34m)\u001b[0m\u001b[0;34m)\u001b[0m \u001b[0;34m/\u001b[0m \u001b[0;36m1E9\u001b[0m\u001b[0;34m\u001b[0m\u001b[0;34m\u001b[0m\u001b[0m\n\u001b[0;32m---> 20\u001b[0;31m             \u001b[0;32mif\u001b[0m \u001b[0mnp\u001b[0m\u001b[0;34m.\u001b[0m\u001b[0misnan\u001b[0m\u001b[0;34m(\u001b[0m\u001b[0mvalue\u001b[0m\u001b[0;34m)\u001b[0m\u001b[0;34m:\u001b[0m\u001b[0;34m\u001b[0m\u001b[0;34m\u001b[0m\u001b[0m\n\u001b[0m\u001b[1;32m     21\u001b[0m                 \u001b[0mmessage\u001b[0m \u001b[0;34m=\u001b[0m \u001b[0;34m'Following key: '\u001b[0m \u001b[0;34m+\u001b[0m \u001b[0mstr\u001b[0m\u001b[0;34m(\u001b[0m\u001b[0mkey\u001b[0m\u001b[0;34m)\u001b[0m \u001b[0;34m+\u001b[0m \u001b[0;34m' does not exist in continioustime dictionary!'\u001b[0m\u001b[0;34m\u001b[0m\u001b[0;34m\u001b[0m\u001b[0m\n\u001b[1;32m     22\u001b[0m                 \u001b[0mlogger\u001b[0m\u001b[0;34m.\u001b[0m\u001b[0mexception\u001b[0m\u001b[0;34m(\u001b[0m\u001b[0mmessage\u001b[0m\u001b[0;34m)\u001b[0m\u001b[0;34m\u001b[0m\u001b[0;34m\u001b[0m\u001b[0m\n",
      "\u001b[0;31mKeyboardInterrupt\u001b[0m: "
     ]
    }
   ],
   "source": [
    "%%time\n",
    "content = builder.build_nwb()\n",
    "print(content)\n",
    "#expected warnings from rec_to_binaries"
   ]
  },
  {
   "cell_type": "markdown",
   "metadata": {},
   "source": [
    "# Cleanup preprocessed data\n",
    "## Note that this deletes the extracted data, so you may wish to skip this step"
   ]
  },
  {
   "cell_type": "code",
   "execution_count": null,
   "metadata": {},
   "outputs": [],
   "source": [
    "builder.clean_up()"
   ]
  },
  {
   "cell_type": "markdown",
   "metadata": {},
   "source": [
    "## Test: Import the NWB file and inspect the contents"
   ]
  },
  {
   "cell_type": "code",
   "execution_count": 23,
   "metadata": {},
   "outputs": [],
   "source": [
    "import pynwb\n",
    "nwb_file_name = '/Users/loren/data/nwb_builder_test_data/beans20190718.nwb'\n",
    "io = pynwb.NWBHDF5IO(nwb_file_name,'r')\n",
    "nwbf = io.read()"
   ]
  },
  {
   "cell_type": "code",
   "execution_count": 24,
   "metadata": {},
   "outputs": [
    {
     "data": {
      "text/plain": [
       "root pynwb.file.NWBFile at 0x140579284432464\n",
       "Fields:\n",
       "  acquisition: {\n",
       "    e-series <class 'pynwb.ecephys.ElectricalSeries'>\n",
       "  }\n",
       "  devices: {\n",
       "    SpikeGadgets <class 'ndx_franklab_novela.data_acq_device.DataAcqDevice'>,\n",
       "    camera_device 0 <class 'ndx_franklab_novela.camera_device.CameraDevice'>,\n",
       "    camera_device 1 <class 'ndx_franklab_novela.camera_device.CameraDevice'>,\n",
       "    header_device <class 'ndx_franklab_novela.header_device.HeaderDevice'>,\n",
       "    probe 0 <class 'ndx_franklab_novela.probe.Probe'>\n",
       "  }\n",
       "  electrode_groups: {\n",
       "    0 <class 'ndx_franklab_novela.nwb_electrode_group.NwbElectrodeGroup'>,\n",
       "    1 <class 'ndx_franklab_novela.nwb_electrode_group.NwbElectrodeGroup'>\n",
       "  }\n",
       "  electrodes: electrodes <class 'hdmf.common.table.DynamicTable'>\n",
       "  epochs: epochs <class 'pynwb.epoch.TimeIntervals'>\n",
       "  experiment_description: Reinforcement learning\n",
       "  experimenter: ['Alison Comrie']\n",
       "  file_create_date: [datetime.datetime(2020, 7, 9, 8, 34, 46, 756427, tzinfo=tzoffset(None, -25200))]\n",
       "  identifier: b813fcda-c1f9-11ea-b5d3-82ca5c498801\n",
       "  institution: University of California, San Francisco\n",
       "  intervals: {\n",
       "    epochs <class 'pynwb.epoch.TimeIntervals'>,\n",
       "    mda_invalid_times <class 'pynwb.epoch.TimeIntervals'>,\n",
       "    mda_valid_times <class 'pynwb.epoch.TimeIntervals'>,\n",
       "    pos_invalid_times <class 'pynwb.epoch.TimeIntervals'>,\n",
       "    pos_valid_times <class 'pynwb.epoch.TimeIntervals'>\n",
       "  }\n",
       "  lab: Loren Frank\n",
       "  processing: {\n",
       "    behavior <class 'pynwb.base.ProcessingModule'>\n",
       "  }\n",
       "  session_description: Reinforcement leaarning\n",
       "  session_id: beans_01\n",
       "  session_start_time: 2019-07-18 15:29:46.885000-07:00\n",
       "  subject: subject pynwb.file.Subject at 0x140584111281424\n",
       "Fields:\n",
       "  description: Long Evans Rat\n",
       "  genotype: Wild Type\n",
       "  sex: Male\n",
       "  species: Rat\n",
       "  subject_id: Beans\n",
       "  weight: Unknown\n",
       "\n",
       "  timestamps_reference_time: 1970-01-01 00:00:00+00:00"
      ]
     },
     "execution_count": 24,
     "metadata": {},
     "output_type": "execute_result"
    }
   ],
   "source": [
    "nwbf"
   ]
  }
 ],
 "metadata": {
  "kernelspec": {
   "display_name": "Python 3",
   "language": "python",
   "name": "python3"
  },
  "language_info": {
   "codemirror_mode": {
    "name": "ipython",
    "version": 3
   },
   "file_extension": ".py",
   "mimetype": "text/x-python",
   "name": "python",
   "nbconvert_exporter": "python",
   "pygments_lexer": "ipython3",
   "version": "3.7.6"
  }
 },
 "nbformat": 4,
 "nbformat_minor": 4
}
