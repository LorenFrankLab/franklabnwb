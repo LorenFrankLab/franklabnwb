{
 "cells": [
  {
   "cell_type": "markdown",
   "metadata": {},
   "source": [
    "#  NWB File generation from raw data: scaled up for one rat at a time\n",
    "working July 2021\n",
    "AC, adapted from RN"
   ]
  },
  {
   "cell_type": "code",
   "execution_count": null,
   "metadata": {},
   "outputs": [],
   "source": [
    "%reload_ext autoreload\n",
    "%autoreload 2"
   ]
  },
  {
   "cell_type": "code",
   "execution_count": null,
   "metadata": {},
   "outputs": [],
   "source": [
    "# Block usually prints \"Resource 'XMLSchema.xsd' is already loaded\"\n",
    "\n",
    "import os\n",
    "import logging\n",
    "import sys\n",
    "from rec_to_nwb.processing.builder.nwb_file_builder import NWBFileBuilder\n",
    "from rec_to_binaries import extract_trodes_rec_file\n",
    "from rec_to_nwb.processing.builder.raw_to_nwb_builder import RawToNWBBuilder\n",
    "from rec_to_nwb.processing.metadata.metadata_manager import MetadataManager"
   ]
  },
  {
   "cell_type": "markdown",
   "metadata": {},
   "source": [
    "## Setup config parameters\n",
    "### see more details at rec_to_nwb repo readme or [here](https://novelaneuro.github.io/rec_to_nwb-docs/README.html#how-to-use-it)"
   ]
  },
  {
   "cell_type": "code",
   "execution_count": null,
   "metadata": {},
   "outputs": [],
   "source": [
    "# Put your data path and animal name here\n",
    "data_path = '/stelmo/your_name_dir/' #path holding data for all your rats \n",
    "animal_name = 'rat_name' #name of rat\n",
    "\n",
    "# Outputs to nwb folder in your animal's directory for debugging\n",
    "# Change this to 'stelmo/nwb/raw' for the actual conversion to shared franklab location\n",
    "# Or, just keep nwbs in your own personal directory and put links in shared franklab nwb raw dir\n",
    "output_path = os.path.join(data_path, animal_name, 'nwb/raw/')\n",
    "# Change this to 'stelmo/nwb/video' for the actual conversion to shared franklab location\n",
    "video_path = os.path.join(data_path, animal_name, 'nwb/video/')\n",
    "# Path to metadata for each day of recording - either enter the shared repo location in your /home/your_name/Src/franklabnwb/yaml, or an alternative\n",
    "yaml_path = os.path.join(data_path, animal_name, 'metadata/') \n",
    "# Probe metadata files should be in same dir as defined by your yaml_path\n",
    "probe1_metadata_file = '128c-4s6mm6cm-15um-26um-sl.yml' #d2 in l&r mpfc ish for wilbur\n",
    "probe2_metadata_file = 'tetrode_12.5.yml'\n",
    "probe3_metadata_file = '128c-4s8mm6cm-20um-40um-sl.yml' #d1 in lofc ish for wilbur\n",
    "\n",
    "# Get all dates from folders in data_path/animal_name/raw directory\n",
    "raw_path = os.path.join(data_path, animal_name, 'raw/')\n",
    "allDates = sorted([fld.name for fld in os.scandir(raw_path) if fld.is_dir()])\n",
    "\n",
    "# If you have one master config for full animal, specify here, otherwise put a .trodesconf in each date dir \n",
    "# per the franklab file naming instructions to have a particular config used for each date of data\n",
    "reconfig_file = animal_name + '_reconfig.xml'"
   ]
  },
  {
   "cell_type": "code",
   "execution_count": null,
   "metadata": {},
   "outputs": [],
   "source": [
    "#inspect paths and dates\n",
    "print(allDates)\n",
    "print(output_path, raw_path, video_path, yaml_path, data_path)"
   ]
  },
  {
   "cell_type": "markdown",
   "metadata": {},
   "source": [
    "## Run processing and create nwb file"
   ]
  },
  {
   "cell_type": "code",
   "execution_count": null,
   "metadata": {},
   "outputs": [],
   "source": [
    "# currently does try loop for each date \n",
    "for date in allDates:\n",
    "    print('trying to convert date: ', date)\n",
    "    try:\n",
    "        recording_session_path = os.path.join(data_path, animal_name, 'raw', date)\n",
    "        # Only using one main config per rat, rather than individual configs, so reconfig is specified above\n",
    "        reconfig_file = reconfig_file\n",
    "        trodes_rec_export_args = ('-reconfig', os.path.join(yaml_path, reconfig_file)) \n",
    "        # Overwrite any existing preprocessing data?\n",
    "        # Specify whether preprocessing data should be reextracted (True) or skipped if it already exists (False)\n",
    "        overwrite = False\n",
    "        # note that extraction will write to the directory: data_path+'preprocessing/' and\n",
    "        # you may have data that you previously preprocessed in that dir, created with alternate export args\n",
    "        # that you neither want to skip nor overwrite if you're using them for filterframework\n",
    "        # so beware!!! One stratgy is to move filterframework based preprocessing files to a dir with another name\n",
    "        animal_metadata_file = date + '_' + animal_name + '.yml'\n",
    "        animal_metadata = os.path.join(yaml_path, animal_metadata_file )\n",
    "        probe_metadata = [os.path.join(yaml_path, probe1_metadata_file), \n",
    "                          os.path.join(yaml_path, probe2_metadata_file),\n",
    "                          os.path.join(yaml_path, probe3_metadata_file)\n",
    "                         ]\n",
    "        # Generate and print out metadata as a check\n",
    "        metadata = MetadataManager(animal_metadata, probe_metadata)\n",
    "        print(metadata)\n",
    "        # Create NWB file!\n",
    "        # Expect warnings from rec_to_binaries\n",
    "        builder = RawToNWBBuilder(animal_name=animal_name,\n",
    "                              data_path=data_path,\n",
    "                              dates=[date],\n",
    "                              nwb_metadata=metadata,\n",
    "                              overwrite=overwrite,\n",
    "                              output_path=output_path,\n",
    "                              video_path=video_path,\n",
    "                              trodes_rec_export_args = trodes_rec_export_args)\n",
    "        content = builder.build_nwb()\n",
    "        print(content) #just to look\n",
    "        # Automatically delete preprocessing files? Comment out if you're in the debugging phase \n",
    "        builder.cleanup() #or\n",
    "        del builder # clear the big variable \n",
    "    except Exception as e:\n",
    "        print(\"error for date \", date,\" is: \", e)\n",
    "        try:\n",
    "            e.print_exception() #or print_tb() to get traceback? Or comment the except statement out, turn this all into \"if\" rather than \"try\" as you loop if easier to have automatic traceback output when error\n",
    "        except:\n",
    "            print(\"unable to print exception here, check the log file\")\n",
    "    else:\n",
    "        print(\"no errors for date: \", date)\n",
    "    finally:\n",
    "        print(\"done trying to convert date: \", date)"
   ]
  },
  {
   "cell_type": "code",
   "execution_count": null,
   "metadata": {},
   "outputs": [],
   "source": []
  },
  {
   "cell_type": "code",
   "execution_count": null,
   "metadata": {},
   "outputs": [],
   "source": []
  },
  {
   "cell_type": "code",
   "execution_count": null,
   "metadata": {},
   "outputs": [],
   "source": [
    "# open a file to inspect if you want\n",
    "import pynwb\n",
    "import ndx_franklab_novela\n",
    "from nwbwidgets import nwb2widget\n",
    "import matplotlib.pyplot as plt"
   ]
  },
  {
   "cell_type": "code",
   "execution_count": null,
   "metadata": {},
   "outputs": [],
   "source": [
    "# set path for a raw data file\n",
    "nwb_path = '/stelmo/your_name_dir/rat/nwb/raw/ratDATE.nwb'\n",
    "io = pynwb.NWBHDF5IO(nwb_path, mode='r')"
   ]
  },
  {
   "cell_type": "code",
   "execution_count": null,
   "metadata": {},
   "outputs": [],
   "source": [
    "# define nwb\n",
    "nwb = io.read()"
   ]
  },
  {
   "cell_type": "code",
   "execution_count": null,
   "metadata": {},
   "outputs": [],
   "source": [
    "# check it out\n",
    "nwb2widget(nwb)"
   ]
  },
  {
   "cell_type": "code",
   "execution_count": null,
   "metadata": {},
   "outputs": [],
   "source": [
    "# explore! For ex, with nwb.acquisition or nwb.electrodes, etc...\n",
    "plt.figure(figsize=(30,10))\n",
    "plt.plot(nwb.acquisition['e-series'].timestamps[1080000:1100000],nwb.acquisition['e-series'].data[1080000:1100000,5])\n",
    "plt.show()"
   ]
  },
  {
   "cell_type": "code",
   "execution_count": null,
   "metadata": {},
   "outputs": [],
   "source": [
    "# close when done\n",
    "io.close()"
   ]
  }
 ],
 "metadata": {
  "kernelspec": {
   "display_name": "Python 3",
   "language": "python",
   "name": "python3"
  },
  "language_info": {
   "codemirror_mode": {
    "name": "ipython",
    "version": 3
   },
   "file_extension": ".py",
   "mimetype": "text/x-python",
   "name": "python",
   "nbconvert_exporter": "python",
   "pygments_lexer": "ipython3",
   "version": "3.7.10"
  }
 },
 "nbformat": 4,
 "nbformat_minor": 4
}
