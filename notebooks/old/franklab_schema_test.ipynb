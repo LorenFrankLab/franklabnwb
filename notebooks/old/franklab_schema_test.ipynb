{
 "cells": [
  {
   "cell_type": "code",
   "execution_count": null,
   "metadata": {},
   "outputs": [],
   "source": [
    "### Notes\n",
    "# 1. It would be easier if NWB objects were iterable, as then we could go through assign the fields directly to datajoint schema (perhaps)\n",
    "# 2. Age field is a bit odd - (we can use Subject.date_of_birth instead)"
   ]
  },
  {
   "cell_type": "code",
   "execution_count": 1,
   "metadata": {},
   "outputs": [],
   "source": [
    "import os"
   ]
  },
  {
   "cell_type": "code",
   "execution_count": 1,
   "metadata": {},
   "outputs": [],
   "source": [
    "import datajoint as dj\n",
    "\n",
    "import numpy as np\n",
    "from datetime import datetime\n",
    "from dateutil import tz\n",
    "import matplotlib.pyplot as plt\n",
    "import matplotlib.dates as mdates\n",
    "import matplotlib.ticker as mticker\n",
    "\n",
    "\n",
    "import pynwb\n",
    "import franklabnwb.nspike_helpers as ns \n",
    "import franklabnwb.query_helpers as qu\n",
    "\n",
    "# hack until this is a package\n",
    "#dir = os.curdir;\n",
    "#os.chdir('/Users/loren/Src/NWB/nwbquery/examples/franklab/ff_import')\n",
    "import franklabnwb.fl_extension as fle\n",
    "import franklabnwb.fl_extension_helpers as flh\n",
    "# ns_path = \"../fl_extension/franklab.namespace.yaml\"\n",
    "# pynwb.load_namespaces(ns_path)\n",
    "# os.chdir(dir)\n",
    "\n",
    "\n",
    "# Assuming you started a local DataJoint instance with:\n",
    "#  docker run -p 3306:3306 -e MYSQL_ROOT_PASSWORD=tutorial datajoint/mysql\n",
    "dj.config['database.host'] = '127.0.0.1'\n",
    "dj.config['database.user'] = 'root'\n",
    "dj.config['database.password'] = 'tutorial'"
   ]
  },
  {
   "cell_type": "code",
   "execution_count": 2,
   "metadata": {},
   "outputs": [
    {
     "name": "stdout",
     "output_type": "stream",
     "text": [
      "Connecting root@127.0.0.1:3306\n"
     ]
    }
   ],
   "source": [
    "schema = dj.schema('franklab', locals())\n"
   ]
  },
  {
   "cell_type": "code",
   "execution_count": 3,
   "metadata": {},
   "outputs": [],
   "source": [
    "@schema\n",
    "class Subject(dj.Manual):\n",
    "      definition = \"\"\"\n",
    "      subject_id: varchar(20)                  # unique subject character ID (e.g. 'Bond')\n",
    "      ---\n",
    "      age: varchar(20)                         # age in months?\n",
    "      description: varchar(20)                 # general description\n",
    "      genotype: varchar(20)                    # 'WT', 'fMR1-KO', etc.\n",
    "      sex: enum('M', 'F', 'U')                 # sex - Male, Female, or Unknown/Unclassified\n",
    "      species: varchar(20)                     # e.g.'Rat'\n",
    "      \"\"\""
   ]
  },
  {
   "cell_type": "code",
   "execution_count": 4,
   "metadata": {},
   "outputs": [],
   "source": [
    "subject = Subject()"
   ]
  },
  {
   "cell_type": "code",
   "execution_count": null,
   "metadata": {},
   "outputs": [],
   "source": [
    "for field in subject:\n",
    "    print(field)\n"
   ]
  },
  {
   "cell_type": "code",
   "execution_count": null,
   "metadata": {},
   "outputs": [],
   "source": [
    "# read in subject information from an NWB file\n",
    "# data_dir, data_src = os.path.expanduser('/data/mkarlsso/Bon'), 'local'\n",
    "# data_dir, data_src = os.path.expanduser('~/Data/FrankData/CRCNS/Bon'), 'CRCNS'\n",
    "data_dir, data_src = os.path.expanduser('~/Data/FrankData/kkay/Bon'), 'local'\n",
    "\n",
    "nwb_dir = data_dir + os.sep + 'NWB/'\n",
    "\n",
    "anim = 'Bon' \n",
    "day = 4 # below we'll code date as 2006-Jan-'Day'\n",
    "day_str = '%02d' % day\n",
    "nwb_filename = nwb_dir + anim + day_str + '.nwb'\n",
    "assert os.path.isfile(nwb_filename), \"File {} does not exist\".format(nwb_filename)"
   ]
  },
  {
   "cell_type": "code",
   "execution_count": null,
   "metadata": {},
   "outputs": [],
   "source": [
    "io = pynwb.NWBHDF5IO(nwb_filename, mode='r')\n",
    "nwbf = io.read()"
   ]
  },
  {
   "cell_type": "code",
   "execution_count": null,
   "metadata": {},
   "outputs": [],
   "source": [
    "subject_tmp = nwbf.subject.fields\n",
    "def subject_from_nwb(nwbf):\n",
    "    # get the subject information from an NWB file\n",
    "    s = nwbf.subject.fields\n",
    "    ret = (s['subject_id'], \n",
    "           s['age'],\n",
    "           s['description'],\n",
    "           s['genotype'],\n",
    "           s['sex'],\n",
    "           s['species'])\n",
    "    return ret\n"
   ]
  },
  {
   "cell_type": "code",
   "execution_count": null,
   "metadata": {},
   "outputs": [],
   "source": [
    "s = subject_from_nwb(nwbf)"
   ]
  },
  {
   "cell_type": "code",
   "execution_count": null,
   "metadata": {},
   "outputs": [],
   "source": [
    "subject.drop()"
   ]
  },
  {
   "cell_type": "code",
   "execution_count": null,
   "metadata": {},
   "outputs": [],
   "source": [
    "subject"
   ]
  },
  {
   "cell_type": "code",
   "execution_count": null,
   "metadata": {},
   "outputs": [],
   "source": []
  }
 ],
 "metadata": {
  "kernelspec": {
   "display_name": "Python 3",
   "language": "python",
   "name": "python3"
  },
  "language_info": {
   "codemirror_mode": {
    "name": "ipython",
    "version": 3
   },
   "file_extension": ".py",
   "mimetype": "text/x-python",
   "name": "python",
   "nbconvert_exporter": "python",
   "pygments_lexer": "ipython3",
   "version": "3.6.7"
  }
 },
 "nbformat": 4,
 "nbformat_minor": 2
}
