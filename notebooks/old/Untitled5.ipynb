{
 "cells": [
  {
   "cell_type": "code",
   "execution_count": 1,
   "metadata": {},
   "outputs": [
    {
     "name": "stdout",
     "output_type": "stream",
     "text": [
      "/Users/loren/Src/NWB/franklabnwb/franklabnwb\n"
     ]
    }
   ],
   "source": [
    "cd ../franklabnwb\n"
   ]
  },
  {
   "cell_type": "code",
   "execution_count": null,
   "metadata": {},
   "outputs": [],
   "source": [
    "import ffnwb"
   ]
  },
  {
   "cell_type": "code",
   "execution_count": 2,
   "metadata": {},
   "outputs": [],
   "source": [
    "%load_ext autoreload\n",
    "%autoreload 2"
   ]
  },
  {
   "cell_type": "code",
   "execution_count": 5,
   "metadata": {},
   "outputs": [
    {
     "name": "stdout",
     "output_type": "stream",
     "text": [
      "Please enter DataJoint username: d\n",
      "Please enter DataJoint password: ········\n",
      "Connecting d@localhost:3306\n"
     ]
    },
    {
     "ename": "OperationalError",
     "evalue": "(2003, \"Can't connect to MySQL server on 'localhost' ([Errno 61] Connection refused)\")",
     "output_type": "error",
     "traceback": [
      "\u001b[0;31m---------------------------------------------------------------------------\u001b[0m",
      "\u001b[0;31mConnectionRefusedError\u001b[0m                    Traceback (most recent call last)",
      "\u001b[0;32m~/anaconda3/envs/default/lib/python3.6/site-packages/pymysql/connections.py\u001b[0m in \u001b[0;36mconnect\u001b[0;34m(self, sock)\u001b[0m\n\u001b[1;32m    582\u001b[0m                                 \u001b[0;34m(\u001b[0m\u001b[0mself\u001b[0m\u001b[0;34m.\u001b[0m\u001b[0mhost\u001b[0m\u001b[0;34m,\u001b[0m \u001b[0mself\u001b[0m\u001b[0;34m.\u001b[0m\u001b[0mport\u001b[0m\u001b[0;34m)\u001b[0m\u001b[0;34m,\u001b[0m \u001b[0mself\u001b[0m\u001b[0;34m.\u001b[0m\u001b[0mconnect_timeout\u001b[0m\u001b[0;34m,\u001b[0m\u001b[0;34m\u001b[0m\u001b[0;34m\u001b[0m\u001b[0m\n\u001b[0;32m--> 583\u001b[0;31m                                 **kwargs)\n\u001b[0m\u001b[1;32m    584\u001b[0m                             \u001b[0;32mbreak\u001b[0m\u001b[0;34m\u001b[0m\u001b[0;34m\u001b[0m\u001b[0m\n",
      "\u001b[0;32m~/anaconda3/envs/default/lib/python3.6/socket.py\u001b[0m in \u001b[0;36mcreate_connection\u001b[0;34m(address, timeout, source_address)\u001b[0m\n\u001b[1;32m    723\u001b[0m     \u001b[0;32mif\u001b[0m \u001b[0merr\u001b[0m \u001b[0;32mis\u001b[0m \u001b[0;32mnot\u001b[0m \u001b[0;32mNone\u001b[0m\u001b[0;34m:\u001b[0m\u001b[0;34m\u001b[0m\u001b[0;34m\u001b[0m\u001b[0m\n\u001b[0;32m--> 724\u001b[0;31m         \u001b[0;32mraise\u001b[0m \u001b[0merr\u001b[0m\u001b[0;34m\u001b[0m\u001b[0;34m\u001b[0m\u001b[0m\n\u001b[0m\u001b[1;32m    725\u001b[0m     \u001b[0;32melse\u001b[0m\u001b[0;34m:\u001b[0m\u001b[0;34m\u001b[0m\u001b[0;34m\u001b[0m\u001b[0m\n",
      "\u001b[0;32m~/anaconda3/envs/default/lib/python3.6/socket.py\u001b[0m in \u001b[0;36mcreate_connection\u001b[0;34m(address, timeout, source_address)\u001b[0m\n\u001b[1;32m    712\u001b[0m                 \u001b[0msock\u001b[0m\u001b[0;34m.\u001b[0m\u001b[0mbind\u001b[0m\u001b[0;34m(\u001b[0m\u001b[0msource_address\u001b[0m\u001b[0;34m)\u001b[0m\u001b[0;34m\u001b[0m\u001b[0;34m\u001b[0m\u001b[0m\n\u001b[0;32m--> 713\u001b[0;31m             \u001b[0msock\u001b[0m\u001b[0;34m.\u001b[0m\u001b[0mconnect\u001b[0m\u001b[0;34m(\u001b[0m\u001b[0msa\u001b[0m\u001b[0;34m)\u001b[0m\u001b[0;34m\u001b[0m\u001b[0;34m\u001b[0m\u001b[0m\n\u001b[0m\u001b[1;32m    714\u001b[0m             \u001b[0;31m# Break explicitly a reference cycle\u001b[0m\u001b[0;34m\u001b[0m\u001b[0;34m\u001b[0m\u001b[0;34m\u001b[0m\u001b[0m\n",
      "\u001b[0;31mConnectionRefusedError\u001b[0m: [Errno 61] Connection refused",
      "\nDuring handling of the above exception, another exception occurred:\n",
      "\u001b[0;31mOperationalError\u001b[0m                          Traceback (most recent call last)",
      "\u001b[0;32m<ipython-input-5-3776610fc664>\u001b[0m in \u001b[0;36m<module>\u001b[0;34m\u001b[0m\n\u001b[0;32m----> 1\u001b[0;31m \u001b[0;32mimport\u001b[0m \u001b[0mffnwb\u001b[0m\u001b[0;34m\u001b[0m\u001b[0;34m\u001b[0m\u001b[0m\n\u001b[0m",
      "\u001b[0;32m~/Src/NWB/franklabnwb/franklabnwb/ffnwb.py\u001b[0m in \u001b[0;36m<module>\u001b[0;34m\u001b[0m\n\u001b[1;32m     16\u001b[0m \u001b[0;31m# Frank Lab PyNWB extensions and extension-related helpers\u001b[0m\u001b[0;34m\u001b[0m\u001b[0;34m\u001b[0m\u001b[0;34m\u001b[0m\u001b[0m\n\u001b[1;32m     17\u001b[0m \u001b[0;32mimport\u001b[0m \u001b[0mfranklabnwb\u001b[0m\u001b[0;34m.\u001b[0m\u001b[0mfl_extension\u001b[0m \u001b[0;32mas\u001b[0m \u001b[0mfle\u001b[0m\u001b[0;34m\u001b[0m\u001b[0;34m\u001b[0m\u001b[0m\n\u001b[0;32m---> 18\u001b[0;31m \u001b[0;32mimport\u001b[0m \u001b[0mfranklabnwb\u001b[0m\u001b[0;34m.\u001b[0m\u001b[0mfl_extension_helpers\u001b[0m \u001b[0;32mas\u001b[0m \u001b[0mflh\u001b[0m\u001b[0;34m\u001b[0m\u001b[0;34m\u001b[0m\u001b[0m\n\u001b[0m\u001b[1;32m     19\u001b[0m \u001b[0;34m\u001b[0m\u001b[0m\n\u001b[1;32m     20\u001b[0m \u001b[0;31m# Recording parameters needed for import:\u001b[0m\u001b[0;34m\u001b[0m\u001b[0;34m\u001b[0m\u001b[0;34m\u001b[0m\u001b[0m\n",
      "\u001b[0;32m~/Src/NWB/franklabnwb/franklabnwb/fl_extension_helpers.py\u001b[0m in \u001b[0;36m<module>\u001b[0;34m\u001b[0m\n\u001b[1;32m     22\u001b[0m \u001b[0;34m\u001b[0m\u001b[0m\n\u001b[1;32m     23\u001b[0m \u001b[0;32mimport\u001b[0m \u001b[0mfranklabnwb\u001b[0m\u001b[0;34m.\u001b[0m\u001b[0mnspike_helpers\u001b[0m \u001b[0;32mas\u001b[0m \u001b[0mns\u001b[0m\u001b[0;34m\u001b[0m\u001b[0;34m\u001b[0m\u001b[0m\n\u001b[0;32m---> 24\u001b[0;31m \u001b[0;32mimport\u001b[0m \u001b[0mfranklabnwb\u001b[0m\u001b[0;34m.\u001b[0m\u001b[0mnwb_query\u001b[0m \u001b[0;32mas\u001b[0m \u001b[0mquery\u001b[0m\u001b[0;34m\u001b[0m\u001b[0;34m\u001b[0m\u001b[0m\n\u001b[0m\u001b[1;32m     25\u001b[0m \u001b[0;32mfrom\u001b[0m \u001b[0mfranklabnwb\u001b[0m\u001b[0;34m.\u001b[0m\u001b[0mfl_extension\u001b[0m \u001b[0;32mimport\u001b[0m \u001b[0mTask\u001b[0m\u001b[0;34m,\u001b[0m \u001b[0mApparatus\u001b[0m\u001b[0;34m,\u001b[0m \u001b[0mNode\u001b[0m\u001b[0;34m,\u001b[0m \u001b[0mEdge\u001b[0m\u001b[0;34m,\u001b[0m \u001b[0mPointNode\u001b[0m\u001b[0;34m,\u001b[0m \u001b[0mSegmentNode\u001b[0m\u001b[0;34m,\u001b[0m \u001b[0mPolygonNode\u001b[0m\u001b[0;34m\u001b[0m\u001b[0;34m\u001b[0m\u001b[0m\n\u001b[1;32m     26\u001b[0m \u001b[0;34m\u001b[0m\u001b[0m\n",
      "\u001b[0;32m~/Src/NWB/franklabnwb/franklabnwb/nwb_query.py\u001b[0m in \u001b[0;36m<module>\u001b[0;34m\u001b[0m\n\u001b[1;32m     35\u001b[0m \u001b[0;32mfrom\u001b[0m \u001b[0mabc\u001b[0m \u001b[0;32mimport\u001b[0m \u001b[0mABC\u001b[0m\u001b[0;34m,\u001b[0m \u001b[0mabstractmethod\u001b[0m\u001b[0;34m\u001b[0m\u001b[0;34m\u001b[0m\u001b[0m\n\u001b[1;32m     36\u001b[0m \u001b[0;32mfrom\u001b[0m \u001b[0mscipy\u001b[0m\u001b[0;34m.\u001b[0m\u001b[0minterpolate\u001b[0m \u001b[0;32mimport\u001b[0m \u001b[0minterp1d\u001b[0m\u001b[0;34m\u001b[0m\u001b[0;34m\u001b[0m\u001b[0m\n\u001b[0;32m---> 37\u001b[0;31m \u001b[0;32mimport\u001b[0m \u001b[0mintervals\u001b[0m \u001b[0;32mas\u001b[0m \u001b[0miv\u001b[0m  \u001b[0;31m# backend for TimeIntervals\u001b[0m\u001b[0;34m\u001b[0m\u001b[0;34m\u001b[0m\u001b[0m\n\u001b[0m\u001b[1;32m     38\u001b[0m \u001b[0;32mimport\u001b[0m \u001b[0mbisect\u001b[0m\u001b[0;34m\u001b[0m\u001b[0;34m\u001b[0m\u001b[0m\n\u001b[1;32m     39\u001b[0m \u001b[0;34m\u001b[0m\u001b[0m\n",
      "\u001b[0;32m~/Src/NWB/franklabnwb/franklabnwb/intervals.py\u001b[0m in \u001b[0;36m<module>\u001b[0;34m\u001b[0m\n\u001b[1;32m      1\u001b[0m \u001b[0;32mimport\u001b[0m \u001b[0mdatajoint\u001b[0m \u001b[0;32mas\u001b[0m \u001b[0mdj\u001b[0m\u001b[0;34m\u001b[0m\u001b[0;34m\u001b[0m\u001b[0m\n\u001b[0;32m----> 2\u001b[0;31m \u001b[0;32mimport\u001b[0m \u001b[0msession\u001b[0m\u001b[0;34m\u001b[0m\u001b[0;34m\u001b[0m\u001b[0m\n\u001b[0m\u001b[1;32m      3\u001b[0m \u001b[0;34m\u001b[0m\u001b[0m\n\u001b[1;32m      4\u001b[0m \u001b[0mschema\u001b[0m \u001b[0;34m=\u001b[0m \u001b[0mdj\u001b[0m\u001b[0;34m.\u001b[0m\u001b[0mschema\u001b[0m\u001b[0;34m(\u001b[0m\u001b[0;34m'franklab'\u001b[0m\u001b[0;34m)\u001b[0m\u001b[0;34m\u001b[0m\u001b[0;34m\u001b[0m\u001b[0m\n\u001b[1;32m      5\u001b[0m \u001b[0;34m\u001b[0m\u001b[0m\n",
      "\u001b[0;32m~/Src/NWB/franklabnwb/franklabnwb/session.py\u001b[0m in \u001b[0;36m<module>\u001b[0;34m\u001b[0m\n\u001b[1;32m      1\u001b[0m \u001b[0;31m#Test of automatic datajoint schema generation from NWB file\u001b[0m\u001b[0;34m\u001b[0m\u001b[0;34m\u001b[0m\u001b[0;34m\u001b[0m\u001b[0m\n\u001b[1;32m      2\u001b[0m \u001b[0;32mimport\u001b[0m \u001b[0mdatajoint\u001b[0m \u001b[0;32mas\u001b[0m \u001b[0mdj\u001b[0m\u001b[0;34m\u001b[0m\u001b[0;34m\u001b[0m\u001b[0m\n\u001b[0;32m----> 3\u001b[0;31m \u001b[0;32mimport\u001b[0m \u001b[0mlab\u001b[0m\u001b[0;34m\u001b[0m\u001b[0;34m\u001b[0m\u001b[0m\n\u001b[0m\u001b[1;32m      4\u001b[0m \u001b[0;32mimport\u001b[0m \u001b[0msubject\u001b[0m\u001b[0;34m\u001b[0m\u001b[0;34m\u001b[0m\u001b[0m\n\u001b[1;32m      5\u001b[0m \u001b[0;32mimport\u001b[0m \u001b[0mdevice\u001b[0m\u001b[0;34m\u001b[0m\u001b[0;34m\u001b[0m\u001b[0m\n",
      "\u001b[0;32m~/Src/NWB/franklabnwb/franklabnwb/lab.py\u001b[0m in \u001b[0;36m<module>\u001b[0;34m\u001b[0m\n\u001b[1;32m      5\u001b[0m \u001b[0;34m[\u001b[0m\u001b[0msession\u001b[0m\u001b[0;34m]\u001b[0m\u001b[0;34m\u001b[0m\u001b[0;34m\u001b[0m\u001b[0m\n\u001b[1;32m      6\u001b[0m \u001b[0;34m\u001b[0m\u001b[0m\n\u001b[0;32m----> 7\u001b[0;31m \u001b[0mschema\u001b[0m \u001b[0;34m=\u001b[0m \u001b[0mdj\u001b[0m\u001b[0;34m.\u001b[0m\u001b[0mschema\u001b[0m\u001b[0;34m(\u001b[0m\u001b[0;34m\"lab\"\u001b[0m\u001b[0;34m,\u001b[0m \u001b[0mlocals\u001b[0m\u001b[0;34m(\u001b[0m\u001b[0;34m)\u001b[0m\u001b[0;34m)\u001b[0m\u001b[0;34m\u001b[0m\u001b[0;34m\u001b[0m\u001b[0m\n\u001b[0m\u001b[1;32m      8\u001b[0m \u001b[0;34m\u001b[0m\u001b[0m\n\u001b[1;32m      9\u001b[0m \u001b[0;34m\u001b[0m\u001b[0m\n",
      "\u001b[0;32m~/anaconda3/envs/default/lib/python3.6/site-packages/datajoint/schema.py\u001b[0m in \u001b[0;36m__init__\u001b[0;34m(self, schema_name, context, connection, create_schema, create_tables)\u001b[0m\n\u001b[1;32m     54\u001b[0m         \"\"\"\n\u001b[1;32m     55\u001b[0m         \u001b[0;32mif\u001b[0m \u001b[0mconnection\u001b[0m \u001b[0;32mis\u001b[0m \u001b[0;32mNone\u001b[0m\u001b[0;34m:\u001b[0m\u001b[0;34m\u001b[0m\u001b[0;34m\u001b[0m\u001b[0m\n\u001b[0;32m---> 56\u001b[0;31m             \u001b[0mconnection\u001b[0m \u001b[0;34m=\u001b[0m \u001b[0mconn\u001b[0m\u001b[0;34m(\u001b[0m\u001b[0;34m)\u001b[0m\u001b[0;34m\u001b[0m\u001b[0;34m\u001b[0m\u001b[0m\n\u001b[0m\u001b[1;32m     57\u001b[0m         \u001b[0mself\u001b[0m\u001b[0;34m.\u001b[0m\u001b[0m_log\u001b[0m \u001b[0;34m=\u001b[0m \u001b[0;32mNone\u001b[0m\u001b[0;34m\u001b[0m\u001b[0;34m\u001b[0m\u001b[0m\n\u001b[1;32m     58\u001b[0m \u001b[0;34m\u001b[0m\u001b[0m\n",
      "\u001b[0;32m~/anaconda3/envs/default/lib/python3.6/site-packages/datajoint/connection.py\u001b[0m in \u001b[0;36mconn\u001b[0;34m(host, user, password, init_fun, reset)\u001b[0m\n\u001b[1;32m     41\u001b[0m             \u001b[0mpassword\u001b[0m \u001b[0;34m=\u001b[0m \u001b[0mgetpass\u001b[0m\u001b[0;34m(\u001b[0m\u001b[0mprompt\u001b[0m\u001b[0;34m=\u001b[0m\u001b[0;34m\"Please enter DataJoint password: \"\u001b[0m\u001b[0;34m)\u001b[0m\u001b[0;34m\u001b[0m\u001b[0;34m\u001b[0m\u001b[0m\n\u001b[1;32m     42\u001b[0m         \u001b[0minit_fun\u001b[0m \u001b[0;34m=\u001b[0m \u001b[0minit_fun\u001b[0m \u001b[0;32mif\u001b[0m \u001b[0minit_fun\u001b[0m \u001b[0;32mis\u001b[0m \u001b[0;32mnot\u001b[0m \u001b[0;32mNone\u001b[0m \u001b[0;32melse\u001b[0m \u001b[0mconfig\u001b[0m\u001b[0;34m[\u001b[0m\u001b[0;34m'connection.init_function'\u001b[0m\u001b[0;34m]\u001b[0m\u001b[0;34m\u001b[0m\u001b[0;34m\u001b[0m\u001b[0m\n\u001b[0;32m---> 43\u001b[0;31m         \u001b[0mconn\u001b[0m\u001b[0;34m.\u001b[0m\u001b[0mconnection\u001b[0m \u001b[0;34m=\u001b[0m \u001b[0mConnection\u001b[0m\u001b[0;34m(\u001b[0m\u001b[0mhost\u001b[0m\u001b[0;34m,\u001b[0m \u001b[0muser\u001b[0m\u001b[0;34m,\u001b[0m \u001b[0mpassword\u001b[0m\u001b[0;34m,\u001b[0m \u001b[0minit_fun\u001b[0m\u001b[0;34m)\u001b[0m\u001b[0;34m\u001b[0m\u001b[0;34m\u001b[0m\u001b[0m\n\u001b[0m\u001b[1;32m     44\u001b[0m     \u001b[0;32mreturn\u001b[0m \u001b[0mconn\u001b[0m\u001b[0;34m.\u001b[0m\u001b[0mconnection\u001b[0m\u001b[0;34m\u001b[0m\u001b[0;34m\u001b[0m\u001b[0m\n\u001b[1;32m     45\u001b[0m \u001b[0;34m\u001b[0m\u001b[0m\n",
      "\u001b[0;32m~/anaconda3/envs/default/lib/python3.6/site-packages/datajoint/connection.py\u001b[0m in \u001b[0;36m__init__\u001b[0;34m(self, host, user, password, port, init_fun)\u001b[0m\n\u001b[1;32m     69\u001b[0m         \u001b[0mprint\u001b[0m\u001b[0;34m(\u001b[0m\u001b[0;34m\"Connecting {user}@{host}:{port}\"\u001b[0m\u001b[0;34m.\u001b[0m\u001b[0mformat\u001b[0m\u001b[0;34m(\u001b[0m\u001b[0;34m**\u001b[0m\u001b[0mself\u001b[0m\u001b[0;34m.\u001b[0m\u001b[0mconn_info\u001b[0m\u001b[0;34m)\u001b[0m\u001b[0;34m)\u001b[0m\u001b[0;34m\u001b[0m\u001b[0;34m\u001b[0m\u001b[0m\n\u001b[1;32m     70\u001b[0m         \u001b[0mself\u001b[0m\u001b[0;34m.\u001b[0m\u001b[0m_conn\u001b[0m \u001b[0;34m=\u001b[0m \u001b[0;32mNone\u001b[0m\u001b[0;34m\u001b[0m\u001b[0;34m\u001b[0m\u001b[0m\n\u001b[0;32m---> 71\u001b[0;31m         \u001b[0mself\u001b[0m\u001b[0;34m.\u001b[0m\u001b[0mconnect\u001b[0m\u001b[0;34m(\u001b[0m\u001b[0;34m)\u001b[0m\u001b[0;34m\u001b[0m\u001b[0;34m\u001b[0m\u001b[0m\n\u001b[0m\u001b[1;32m     72\u001b[0m         \u001b[0;32mif\u001b[0m \u001b[0mself\u001b[0m\u001b[0;34m.\u001b[0m\u001b[0mis_connected\u001b[0m\u001b[0;34m:\u001b[0m\u001b[0;34m\u001b[0m\u001b[0;34m\u001b[0m\u001b[0m\n\u001b[1;32m     73\u001b[0m             \u001b[0mlogger\u001b[0m\u001b[0;34m.\u001b[0m\u001b[0minfo\u001b[0m\u001b[0;34m(\u001b[0m\u001b[0;34m\"Connected {user}@{host}:{port}\"\u001b[0m\u001b[0;34m.\u001b[0m\u001b[0mformat\u001b[0m\u001b[0;34m(\u001b[0m\u001b[0;34m**\u001b[0m\u001b[0mself\u001b[0m\u001b[0;34m.\u001b[0m\u001b[0mconn_info\u001b[0m\u001b[0;34m)\u001b[0m\u001b[0;34m)\u001b[0m\u001b[0;34m\u001b[0m\u001b[0;34m\u001b[0m\u001b[0m\n",
      "\u001b[0;32m~/anaconda3/envs/default/lib/python3.6/site-packages/datajoint/connection.py\u001b[0m in \u001b[0;36mconnect\u001b[0;34m(self)\u001b[0m\n\u001b[1;32m     98\u001b[0m                          \u001b[0;34m\"STRICT_ALL_TABLES,NO_AUTO_CREATE_USER,NO_ENGINE_SUBSTITUTION\"\u001b[0m\u001b[0;34m,\u001b[0m\u001b[0;34m\u001b[0m\u001b[0;34m\u001b[0m\u001b[0m\n\u001b[1;32m     99\u001b[0m                 \u001b[0mcharset\u001b[0m\u001b[0;34m=\u001b[0m\u001b[0mconfig\u001b[0m\u001b[0;34m[\u001b[0m\u001b[0;34m'connection.charset'\u001b[0m\u001b[0;34m]\u001b[0m\u001b[0;34m,\u001b[0m\u001b[0;34m\u001b[0m\u001b[0;34m\u001b[0m\u001b[0m\n\u001b[0;32m--> 100\u001b[0;31m                 **self.conn_info)\n\u001b[0m\u001b[1;32m    101\u001b[0m         \u001b[0mself\u001b[0m\u001b[0;34m.\u001b[0m\u001b[0m_conn\u001b[0m\u001b[0;34m.\u001b[0m\u001b[0mautocommit\u001b[0m\u001b[0;34m(\u001b[0m\u001b[0;32mTrue\u001b[0m\u001b[0;34m)\u001b[0m\u001b[0;34m\u001b[0m\u001b[0;34m\u001b[0m\u001b[0m\n\u001b[1;32m    102\u001b[0m \u001b[0;34m\u001b[0m\u001b[0m\n",
      "\u001b[0;32m~/anaconda3/envs/default/lib/python3.6/site-packages/pymysql/__init__.py\u001b[0m in \u001b[0;36mConnect\u001b[0;34m(*args, **kwargs)\u001b[0m\n\u001b[1;32m     92\u001b[0m     \"\"\"\n\u001b[1;32m     93\u001b[0m     \u001b[0;32mfrom\u001b[0m \u001b[0;34m.\u001b[0m\u001b[0mconnections\u001b[0m \u001b[0;32mimport\u001b[0m \u001b[0mConnection\u001b[0m\u001b[0;34m\u001b[0m\u001b[0;34m\u001b[0m\u001b[0m\n\u001b[0;32m---> 94\u001b[0;31m     \u001b[0;32mreturn\u001b[0m \u001b[0mConnection\u001b[0m\u001b[0;34m(\u001b[0m\u001b[0;34m*\u001b[0m\u001b[0margs\u001b[0m\u001b[0;34m,\u001b[0m \u001b[0;34m**\u001b[0m\u001b[0mkwargs\u001b[0m\u001b[0;34m)\u001b[0m\u001b[0;34m\u001b[0m\u001b[0;34m\u001b[0m\u001b[0m\n\u001b[0m\u001b[1;32m     95\u001b[0m \u001b[0;34m\u001b[0m\u001b[0m\n\u001b[1;32m     96\u001b[0m \u001b[0;32mfrom\u001b[0m \u001b[0;34m.\u001b[0m \u001b[0;32mimport\u001b[0m \u001b[0mconnections\u001b[0m \u001b[0;32mas\u001b[0m \u001b[0m_orig_conn\u001b[0m\u001b[0;34m\u001b[0m\u001b[0;34m\u001b[0m\u001b[0m\n",
      "\u001b[0;32m~/anaconda3/envs/default/lib/python3.6/site-packages/pymysql/connections.py\u001b[0m in \u001b[0;36m__init__\u001b[0;34m(self, host, user, password, database, port, unix_socket, charset, sql_mode, read_default_file, conv, use_unicode, client_flag, cursorclass, init_command, connect_timeout, ssl, read_default_group, compress, named_pipe, autocommit, db, passwd, local_infile, max_allowed_packet, defer_connect, auth_plugin_map, read_timeout, write_timeout, bind_address, binary_prefix, program_name, server_public_key)\u001b[0m\n\u001b[1;32m    323\u001b[0m             \u001b[0mself\u001b[0m\u001b[0;34m.\u001b[0m\u001b[0m_sock\u001b[0m \u001b[0;34m=\u001b[0m \u001b[0;32mNone\u001b[0m\u001b[0;34m\u001b[0m\u001b[0;34m\u001b[0m\u001b[0m\n\u001b[1;32m    324\u001b[0m         \u001b[0;32melse\u001b[0m\u001b[0;34m:\u001b[0m\u001b[0;34m\u001b[0m\u001b[0;34m\u001b[0m\u001b[0m\n\u001b[0;32m--> 325\u001b[0;31m             \u001b[0mself\u001b[0m\u001b[0;34m.\u001b[0m\u001b[0mconnect\u001b[0m\u001b[0;34m(\u001b[0m\u001b[0;34m)\u001b[0m\u001b[0;34m\u001b[0m\u001b[0;34m\u001b[0m\u001b[0m\n\u001b[0m\u001b[1;32m    326\u001b[0m \u001b[0;34m\u001b[0m\u001b[0m\n\u001b[1;32m    327\u001b[0m     \u001b[0;32mdef\u001b[0m \u001b[0m_create_ssl_ctx\u001b[0m\u001b[0;34m(\u001b[0m\u001b[0mself\u001b[0m\u001b[0;34m,\u001b[0m \u001b[0msslp\u001b[0m\u001b[0;34m)\u001b[0m\u001b[0;34m:\u001b[0m\u001b[0;34m\u001b[0m\u001b[0;34m\u001b[0m\u001b[0m\n",
      "\u001b[0;32m~/anaconda3/envs/default/lib/python3.6/site-packages/pymysql/connections.py\u001b[0m in \u001b[0;36mconnect\u001b[0;34m(self, sock)\u001b[0m\n\u001b[1;32m    628\u001b[0m                 \u001b[0mexc\u001b[0m\u001b[0;34m.\u001b[0m\u001b[0mtraceback\u001b[0m \u001b[0;34m=\u001b[0m \u001b[0mtraceback\u001b[0m\u001b[0;34m.\u001b[0m\u001b[0mformat_exc\u001b[0m\u001b[0;34m(\u001b[0m\u001b[0;34m)\u001b[0m\u001b[0;34m\u001b[0m\u001b[0;34m\u001b[0m\u001b[0m\n\u001b[1;32m    629\u001b[0m                 \u001b[0;32mif\u001b[0m \u001b[0mDEBUG\u001b[0m\u001b[0;34m:\u001b[0m \u001b[0mprint\u001b[0m\u001b[0;34m(\u001b[0m\u001b[0mexc\u001b[0m\u001b[0;34m.\u001b[0m\u001b[0mtraceback\u001b[0m\u001b[0;34m)\u001b[0m\u001b[0;34m\u001b[0m\u001b[0;34m\u001b[0m\u001b[0m\n\u001b[0;32m--> 630\u001b[0;31m                 \u001b[0;32mraise\u001b[0m \u001b[0mexc\u001b[0m\u001b[0;34m\u001b[0m\u001b[0;34m\u001b[0m\u001b[0m\n\u001b[0m\u001b[1;32m    631\u001b[0m \u001b[0;34m\u001b[0m\u001b[0m\n\u001b[1;32m    632\u001b[0m             \u001b[0;31m# If e is neither DatabaseError or IOError, It's a bug.\u001b[0m\u001b[0;34m\u001b[0m\u001b[0;34m\u001b[0m\u001b[0;34m\u001b[0m\u001b[0m\n",
      "\u001b[0;31mOperationalError\u001b[0m: (2003, \"Can't connect to MySQL server on 'localhost' ([Errno 61] Connection refused)\")"
     ]
    }
   ],
   "source": [
    "import ffnwb"
   ]
  },
  {
   "cell_type": "code",
   "execution_count": null,
   "metadata": {},
   "outputs": [],
   "source": [
    "data_dir = '/data/yu/T1/'\n",
    "nwb_dir = data_dir + '/NWB/'\n",
    "animal_prefix = 'T1'\n",
    "animal_name = 'T1'\n",
    "day_list = [20]\n",
    "ffnwb.convert_to_nwb(data_dir,\n",
    "                   nwb_dir,\n",
    "                   animal_prefix,\n",
    "                   animal_name,\n",
    "                   day_list,\n",
    "                   overwrite=True)"
   ]
  },
  {
   "cell_type": "code",
   "execution_count": 85,
   "metadata": {},
   "outputs": [
    {
     "name": "stdout",
     "output_type": "stream",
     "text": [
      "Converting Geronimo day 5\n",
      "<_sre.SRE_Match object; span=(19, 32), match='gereeg05-2-01'> eeg\n",
      "<_sre.SRE_Match object; span=(19, 32), match='gereeg05-5-08'> eeg\n",
      "<_sre.SRE_Match object; span=(19, 32), match='gereeg05-2-15'> eeg\n",
      "<_sre.SRE_Match object; span=(19, 32), match='gereeg05-5-20'> eeg\n",
      "<_sre.SRE_Match object; span=(19, 32), match='gereeg05-7-19'> eeg\n",
      "<_sre.SRE_Match object; span=(19, 32), match='gereeg05-7-25'> eeg\n",
      "<_sre.SRE_Match object; span=(19, 32), match='gereeg05-7-24'> eeg\n",
      "<_sre.SRE_Match object; span=(19, 32), match='gereeg05-7-18'> eeg\n",
      "<_sre.SRE_Match object; span=(19, 32), match='gereeg05-5-21'> eeg\n",
      "<_sre.SRE_Match object; span=(19, 32), match='gereeg05-2-28'> eeg\n",
      "<_sre.SRE_Match object; span=(19, 32), match='gereeg05-2-14'> eeg\n",
      "<_sre.SRE_Match object; span=(19, 32), match='gereeg05-5-09'> eeg\n",
      "<_sre.SRE_Match object; span=(19, 32), match='gereeg05-2-16'> eeg\n",
      "<_sre.SRE_Match object; span=(19, 32), match='gereeg05-2-02'> eeg\n",
      "<_sre.SRE_Match object; span=(19, 32), match='gereeg05-5-23'> eeg\n",
      "<_sre.SRE_Match object; span=(19, 32), match='gereeg05-7-26'> eeg\n",
      "<_sre.SRE_Match object; span=(19, 32), match='gereeg05-7-27'> eeg\n",
      "<_sre.SRE_Match object; span=(19, 32), match='gereeg05-2-17'> eeg\n",
      "<_sre.SRE_Match object; span=(19, 32), match='gereeg05-5-26'> eeg\n",
      "<_sre.SRE_Match object; span=(19, 32), match='gereeg05-2-13'> eeg\n",
      "<_sre.SRE_Match object; span=(19, 32), match='gereeg05-2-07'> eeg\n",
      "<_sre.SRE_Match object; span=(19, 32), match='gereeg05-7-23'> eeg\n",
      "<_sre.SRE_Match object; span=(19, 32), match='gereeg05-2-06'> eeg\n",
      "<_sre.SRE_Match object; span=(19, 32), match='gereeg05-2-12'> eeg\n",
      "<_sre.SRE_Match object; span=(19, 32), match='gereeg05-5-27'> eeg\n",
      "<_sre.SRE_Match object; span=(19, 32), match='gereeg05-5-25'> eeg\n",
      "<_sre.SRE_Match object; span=(19, 32), match='gereeg05-5-19'> eeg\n",
      "<_sre.SRE_Match object; span=(19, 32), match='gereeg05-7-20'> eeg\n",
      "<_sre.SRE_Match object; span=(19, 32), match='gereeg05-7-08'> eeg\n",
      "<_sre.SRE_Match object; span=(19, 32), match='gereeg05-7-09'> eeg\n",
      "<_sre.SRE_Match object; span=(19, 32), match='gereeg05-7-21'> eeg\n",
      "<_sre.SRE_Match object; span=(19, 32), match='gereeg05-2-11'> eeg\n",
      "<_sre.SRE_Match object; span=(19, 32), match='gereeg05-5-18'> eeg\n",
      "<_sre.SRE_Match object; span=(19, 32), match='gereeg05-2-05'> eeg\n",
      "<_sre.SRE_Match object; span=(19, 32), match='gereeg05-5-24'> eeg\n",
      "<_sre.SRE_Match object; span=(19, 32), match='gereeg05-6-06'> eeg\n",
      "<_sre.SRE_Match object; span=(19, 32), match='gereeg05-6-12'> eeg\n",
      "<_sre.SRE_Match object; span=(19, 32), match='gereeg05-8-17'> eeg\n",
      "<_sre.SRE_Match object; span=(19, 32), match='gereeg05-1-27'> eeg\n",
      "<_sre.SRE_Match object; span=(19, 32), match='gereeg05-4-17'> eeg\n",
      "<_sre.SRE_Match object; span=(19, 32), match='gereeg05-3-23'> eeg\n",
      "<_sre.SRE_Match object; span=(19, 32), match='gereeg05-4-16'> eeg\n",
      "<_sre.SRE_Match object; span=(19, 32), match='gereeg05-4-02'> eeg\n",
      "<_sre.SRE_Match object; span=(19, 32), match='gereeg05-1-26'> eeg\n",
      "<_sre.SRE_Match object; span=(19, 32), match='gereeg05-8-02'> eeg\n",
      "<_sre.SRE_Match object; span=(19, 32), match='gereeg05-8-16'> eeg\n",
      "<_sre.SRE_Match object; span=(19, 32), match='gereeg05-6-13'> eeg\n",
      "<_sre.SRE_Match object; span=(19, 32), match='gereeg05-6-07'> eeg\n",
      "<_sre.SRE_Match object; span=(19, 32), match='gereeg05-6-11'> eeg\n",
      "<_sre.SRE_Match object; span=(19, 32), match='gereeg05-1-18'> eeg\n",
      "<_sre.SRE_Match object; span=(19, 32), match='gereeg05-8-28'> eeg\n",
      "<_sre.SRE_Match object; span=(19, 32), match='gereeg05-6-05'> eeg\n",
      "<_sre.SRE_Match object; span=(19, 32), match='gereeg05-1-24'> eeg\n",
      "<_sre.SRE_Match object; span=(19, 32), match='gereeg05-8-14'> eeg\n",
      "<_sre.SRE_Match object; span=(19, 32), match='gereeg05-4-14'> eeg\n",
      "<_sre.SRE_Match object; span=(19, 32), match='gereeg05-3-09'> eeg\n",
      "<_sre.SRE_Match object; span=(19, 32), match='gereeg05-3-21'> eeg\n",
      "<_sre.SRE_Match object; span=(19, 32), match='gereeg05-4-28'> eeg\n",
      "<_sre.SRE_Match object; span=(19, 32), match='gereeg05-3-20'> eeg\n",
      "<_sre.SRE_Match object; span=(19, 32), match='gereeg05-4-01'> eeg\n",
      "<_sre.SRE_Match object; span=(19, 32), match='gereeg05-3-08'> eeg\n",
      "<_sre.SRE_Match object; span=(19, 32), match='gereeg05-4-15'> eeg\n",
      "<_sre.SRE_Match object; span=(19, 32), match='gereeg05-8-15'> eeg\n",
      "<_sre.SRE_Match object; span=(19, 32), match='gereeg05-8-01'> eeg\n",
      "<_sre.SRE_Match object; span=(19, 32), match='gereeg05-1-25'> eeg\n",
      "<_sre.SRE_Match object; span=(19, 32), match='gereeg05-1-19'> eeg\n",
      "<_sre.SRE_Match object; span=(19, 32), match='gereeg05-1-21'> eeg\n",
      "<_sre.SRE_Match object; span=(19, 32), match='gereeg05-8-05'> eeg\n",
      "<_sre.SRE_Match object; span=(19, 32), match='gereeg05-6-28'> eeg\n",
      "<_sre.SRE_Match object; span=(19, 32), match='gereeg05-8-11'> eeg\n",
      "<_sre.SRE_Match object; span=(19, 32), match='gereeg05-6-14'> eeg\n",
      "<_sre.SRE_Match object; span=(19, 32), match='gereeg05-1-09'> eeg\n",
      "<_sre.SRE_Match object; span=(19, 32), match='gereeg05-3-24'> eeg\n",
      "<_sre.SRE_Match object; span=(19, 32), match='gereeg05-4-11'> eeg\n",
      "<_sre.SRE_Match object; span=(19, 32), match='gereeg05-3-18'> eeg\n",
      "<_sre.SRE_Match object; span=(19, 32), match='gereeg05-4-05'> eeg\n",
      "<_sre.SRE_Match object; span=(19, 32), match='gereeg05-3-19'> eeg\n",
      "<_sre.SRE_Match object; span=(19, 32), match='gereeg05-3-25'> eeg\n",
      "<_sre.SRE_Match object; span=(19, 32), match='gereeg05-6-01'> eeg\n",
      "<_sre.SRE_Match object; span=(19, 32), match='gereeg05-1-08'> eeg\n",
      "<_sre.SRE_Match object; span=(19, 32), match='gereeg05-6-15'> eeg\n",
      "<_sre.SRE_Match object; span=(19, 32), match='gereeg05-1-20'> eeg\n",
      "<_sre.SRE_Match object; span=(19, 32), match='gereeg05-8-12'> eeg\n",
      "<_sre.SRE_Match object; span=(19, 32), match='gereeg05-8-06'> eeg\n",
      "<_sre.SRE_Match object; span=(19, 32), match='gereeg05-6-17'> eeg\n",
      "<_sre.SRE_Match object; span=(19, 32), match='gereeg05-3-27'> eeg\n",
      "<_sre.SRE_Match object; span=(19, 32), match='gereeg05-4-06'> eeg\n",
      "<_sre.SRE_Match object; span=(19, 32), match='gereeg05-4-12'> eeg\n",
      "<_sre.SRE_Match object; span=(19, 32), match='gereeg05-4-13'> eeg\n",
      "<_sre.SRE_Match object; span=(19, 32), match='gereeg05-4-07'> eeg\n",
      "<_sre.SRE_Match object; span=(19, 32), match='gereeg05-3-26'> eeg\n",
      "<_sre.SRE_Match object; span=(19, 32), match='gereeg05-6-16'> eeg\n",
      "<_sre.SRE_Match object; span=(19, 32), match='gereeg05-6-02'> eeg\n",
      "<_sre.SRE_Match object; span=(19, 32), match='gereeg05-8-07'> eeg\n",
      "<_sre.SRE_Match object; span=(19, 32), match='gereeg05-1-23'> eeg\n",
      "<_sre.SRE_Match object; span=(19, 32), match='gereeg05-8-13'> eeg\n",
      "<_sre.SRE_Match object; span=(19, 32), match='gereeg05-6-27'> eeg\n",
      "<_sre.SRE_Match object; span=(19, 32), match='gereeg05-1-12'> eeg\n",
      "<_sre.SRE_Match object; span=(19, 32), match='gereeg05-1-06'> eeg\n",
      "<_sre.SRE_Match object; span=(19, 32), match='gereeg05-3-17'> eeg\n",
      "<_sre.SRE_Match object; span=(19, 32), match='gereeg05-3-02'> eeg\n",
      "<_sre.SRE_Match object; span=(19, 32), match='gereeg05-3-16'> eeg\n",
      "<_sre.SRE_Match object; span=(19, 32), match='gereeg05-4-23'> eeg\n",
      "<_sre.SRE_Match object; span=(19, 32), match='gereeg05-1-07'> eeg\n",
      "<_sre.SRE_Match object; span=(19, 32), match='gereeg05-8-23'> eeg\n",
      "<_sre.SRE_Match object; span=(19, 32), match='gereeg05-1-13'> eeg\n",
      "<_sre.SRE_Match object; span=(19, 32), match='gereeg05-6-26'> eeg\n",
      "<_sre.SRE_Match object; span=(19, 32), match='gereeg05-8-09'> eeg\n",
      "<_sre.SRE_Match object; span=(19, 32), match='gereeg05-6-24'> eeg\n",
      "<_sre.SRE_Match object; span=(19, 32), match='gereeg05-8-21'> eeg\n",
      "<_sre.SRE_Match object; span=(19, 32), match='gereeg05-1-05'> eeg\n",
      "<_sre.SRE_Match object; span=(19, 32), match='gereeg05-1-11'> eeg\n",
      "<_sre.SRE_Match object; span=(19, 32), match='gereeg05-6-18'> eeg\n",
      "<_sre.SRE_Match object; span=(19, 32), match='gereeg05-4-21'> eeg\n",
      "<_sre.SRE_Match object; span=(19, 32), match='gereeg05-3-28'> eeg\n",
      "<_sre.SRE_Match object; span=(19, 32), match='gereeg05-4-09'> eeg\n",
      "<_sre.SRE_Match object; span=(19, 32), match='gereeg05-3-14'> eeg\n",
      "<_sre.SRE_Match object; span=(19, 32), match='gereeg05-3-15'> eeg\n",
      "<_sre.SRE_Match object; span=(19, 32), match='gereeg05-3-01'> eeg\n",
      "<_sre.SRE_Match object; span=(19, 32), match='gereeg05-4-08'> eeg\n",
      "<_sre.SRE_Match object; span=(19, 32), match='gereeg05-4-20'> eeg\n",
      "<_sre.SRE_Match object; span=(19, 32), match='gereeg05-6-19'> eeg\n",
      "<_sre.SRE_Match object; span=(19, 32), match='gereeg05-8-20'> eeg\n",
      "<_sre.SRE_Match object; span=(19, 32), match='gereeg05-6-25'> eeg\n",
      "<_sre.SRE_Match object; span=(19, 32), match='gereeg05-8-08'> eeg\n",
      "<_sre.SRE_Match object; span=(19, 32), match='gereeg05-8-24'> eeg\n",
      "<_sre.SRE_Match object; span=(19, 32), match='gereeg05-6-09'> eeg\n",
      "<_sre.SRE_Match object; span=(19, 32), match='gereeg05-1-14'> eeg\n",
      "<_sre.SRE_Match object; span=(19, 32), match='gereeg05-8-18'> eeg\n",
      "<_sre.SRE_Match object; span=(19, 32), match='gereeg05-6-21'> eeg\n",
      "<_sre.SRE_Match object; span=(19, 32), match='gereeg05-1-28'> eeg\n",
      "<_sre.SRE_Match object; span=(19, 32), match='gereeg05-3-05'> eeg\n",
      "<_sre.SRE_Match object; span=(19, 32), match='gereeg05-3-11'> eeg\n",
      "<_sre.SRE_Match object; span=(19, 32), match='gereeg05-4-18'> eeg\n",
      "<_sre.SRE_Match object; span=(19, 32), match='gereeg05-4-24'> eeg\n",
      "<_sre.SRE_Match object; span=(19, 32), match='gereeg05-4-25'> eeg\n",
      "<_sre.SRE_Match object; span=(19, 32), match='gereeg05-4-19'> eeg\n",
      "<_sre.SRE_Match object; span=(19, 32), match='gereeg05-6-20'> eeg\n",
      "<_sre.SRE_Match object; span=(19, 32), match='gereeg05-8-19'> eeg\n",
      "<_sre.SRE_Match object; span=(19, 32), match='gereeg05-1-15'> eeg\n",
      "<_sre.SRE_Match object; span=(19, 32), match='gereeg05-1-01'> eeg\n",
      "<_sre.SRE_Match object; span=(19, 32), match='gereeg05-6-08'> eeg\n",
      "<_sre.SRE_Match object; span=(19, 32), match='gereeg05-8-25'> eeg\n",
      "<_sre.SRE_Match object; span=(19, 32), match='gereeg05-1-17'> eeg\n",
      "<_sre.SRE_Match object; span=(19, 32), match='gereeg05-8-27'> eeg\n",
      "<_sre.SRE_Match object; span=(19, 32), match='gereeg05-3-12'> eeg\n",
      "<_sre.SRE_Match object; span=(19, 32), match='gereeg05-3-06'> eeg\n",
      "<_sre.SRE_Match object; span=(19, 32), match='gereeg05-4-27'> eeg\n",
      "<_sre.SRE_Match object; span=(19, 32), match='gereeg05-4-26'> eeg\n",
      "<_sre.SRE_Match object; span=(19, 32), match='gereeg05-3-07'> eeg\n",
      "<_sre.SRE_Match object; span=(19, 32), match='gereeg05-3-13'> eeg\n",
      "<_sre.SRE_Match object; span=(19, 32), match='gereeg05-6-23'> eeg\n",
      "<_sre.SRE_Match object; span=(19, 32), match='gereeg05-8-26'> eeg\n",
      "<_sre.SRE_Match object; span=(19, 32), match='gereeg05-1-02'> eeg\n",
      "<_sre.SRE_Match object; span=(19, 32), match='gereeg05-1-16'> eeg\n",
      "<_sre.SRE_Match object; span=(19, 32), match='gereeg05-2-20'> eeg\n",
      "<_sre.SRE_Match object; span=(19, 32), match='gereeg05-5-15'> eeg\n",
      "<_sre.SRE_Match object; span=(19, 32), match='gereeg05-5-01'> eeg\n",
      "<_sre.SRE_Match object; span=(19, 32), match='gereeg05-2-08'> eeg\n",
      "<_sre.SRE_Match object; span=(19, 32), match='gereeg05-7-05'> eeg\n",
      "<_sre.SRE_Match object; span=(19, 32), match='gereeg05-7-11'> eeg\n",
      "<_sre.SRE_Match object; span=(19, 32), match='gereeg05-2-09'> eeg\n",
      "<_sre.SRE_Match object; span=(19, 32), match='gereeg05-5-14'> eeg\n",
      "<_sre.SRE_Match object; span=(19, 32), match='gereeg05-2-21'> eeg\n",
      "<_sre.SRE_Match object; span=(19, 32), match='gereeg05-5-28'> eeg\n",
      "<_sre.SRE_Match object; span=(19, 32), match='gereeg05-2-23'> eeg\n",
      "<_sre.SRE_Match object; span=(19, 32), match='gereeg05-5-02'> eeg\n",
      "<_sre.SRE_Match object; span=(19, 32), match='gereeg05-5-16'> eeg\n",
      "<_sre.SRE_Match object; span=(19, 32), match='gereeg05-7-07'> eeg\n",
      "<_sre.SRE_Match object; span=(19, 32), match='gereeg05-7-13'> eeg\n",
      "<_sre.SRE_Match object; span=(19, 32), match='gereeg05-7-12'> eeg\n",
      "<_sre.SRE_Match object; span=(19, 32), match='gereeg05-7-06'> eeg\n",
      "<_sre.SRE_Match object; span=(19, 32), match='gereeg05-5-17'> eeg\n",
      "<_sre.SRE_Match object; span=(19, 32), match='gereeg05-5-07'> eeg\n",
      "<_sre.SRE_Match object; span=(19, 32), match='gereeg05-5-13'> eeg\n",
      "<_sre.SRE_Match object; span=(19, 32), match='gereeg05-2-26'> eeg\n",
      "<_sre.SRE_Match object; span=(19, 32), match='gereeg05-7-02'> eeg\n",
      "<_sre.SRE_Match object; span=(19, 32), match='gereeg05-7-16'> eeg\n",
      "<_sre.SRE_Match object; span=(19, 32), match='gereeg05-7-17'> eeg\n",
      "<_sre.SRE_Match object; span=(19, 32), match='gereeg05-2-27'> eeg\n",
      "<_sre.SRE_Match object; span=(19, 32), match='gereeg05-5-12'> eeg\n",
      "<_sre.SRE_Match object; span=(19, 32), match='gereeg05-5-06'> eeg\n",
      "<_sre.SRE_Match object; span=(19, 32), match='gereeg05-2-19'> eeg\n",
      "<_sre.SRE_Match object; span=(19, 32), match='gereeg05-2-25'> eeg\n",
      "<_sre.SRE_Match object; span=(19, 32), match='gereeg05-7-15'> eeg\n",
      "<_sre.SRE_Match object; span=(19, 32), match='gereeg05-7-01'> eeg\n",
      "<_sre.SRE_Match object; span=(19, 32), match='gereeg05-7-28'> eeg\n",
      "<_sre.SRE_Match object; span=(19, 32), match='gereeg05-7-14'> eeg\n",
      "<_sre.SRE_Match object; span=(19, 32), match='gereeg05-2-24'> eeg\n",
      "<_sre.SRE_Match object; span=(19, 32), match='gereeg05-5-05'> eeg\n",
      "<_sre.SRE_Match object; span=(19, 32), match='gereeg05-5-11'> eeg\n",
      "<_sre.SRE_Match object; span=(19, 32), match='gereeg05-2-18'> eeg\n"
     ]
    },
    {
     "ename": "KeyboardInterrupt",
     "evalue": "",
     "output_type": "error",
     "traceback": [
      "\u001b[0;31m---------------------------------------------------------------------------\u001b[0m",
      "\u001b[0;31mKeyboardInterrupt\u001b[0m                         Traceback (most recent call last)",
      "\u001b[0;32m<ipython-input-85-c70a59625641>\u001b[0m in \u001b[0;36m<module>\u001b[0;34m\u001b[0m\n\u001b[1;32m      9\u001b[0m                    \u001b[0manimal_name\u001b[0m\u001b[0;34m,\u001b[0m\u001b[0;34m\u001b[0m\u001b[0;34m\u001b[0m\u001b[0m\n\u001b[1;32m     10\u001b[0m                    \u001b[0mday_list\u001b[0m\u001b[0;34m,\u001b[0m\u001b[0;34m\u001b[0m\u001b[0;34m\u001b[0m\u001b[0m\n\u001b[0;32m---> 11\u001b[0;31m                    overwrite=True)\n\u001b[0m",
      "\u001b[0;32m~/Src/NWB/franklabnwb/franklabnwb/ffnwb.py\u001b[0m in \u001b[0;36mconvert_to_nwb\u001b[0;34m(data_dir, nwb_dir, animal_prefix, animal_name, day_list, overwrite, dataset_zero_time, device, experimenter, experiment_description, session_description)\u001b[0m\n\u001b[1;32m    500\u001b[0m \u001b[0;34m\u001b[0m\u001b[0m\n\u001b[1;32m    501\u001b[0m         \u001b[0;31m#Electrodes and Electrode Groups\u001b[0m\u001b[0;34m\u001b[0m\u001b[0;34m\u001b[0m\u001b[0;34m\u001b[0m\u001b[0m\n\u001b[0;32m--> 502\u001b[0;31m         \u001b[0mwrite_ephys\u001b[0m\u001b[0;34m(\u001b[0m\u001b[0mnwbf\u001b[0m\u001b[0;34m,\u001b[0m \u001b[0mdata_dir\u001b[0m\u001b[0;34m,\u001b[0m \u001b[0manimal_prefix\u001b[0m\u001b[0;34m,\u001b[0m \u001b[0mday\u001b[0m\u001b[0;34m,\u001b[0m \u001b[0mrecording_device\u001b[0m\u001b[0;34m)\u001b[0m\u001b[0;34m\u001b[0m\u001b[0;34m\u001b[0m\u001b[0m\n\u001b[0m\u001b[1;32m    503\u001b[0m \u001b[0;34m\u001b[0m\u001b[0m\n\u001b[1;32m    504\u001b[0m         \u001b[0;31m#Behavioral data\u001b[0m\u001b[0;34m\u001b[0m\u001b[0;34m\u001b[0m\u001b[0;34m\u001b[0m\u001b[0m\n",
      "\u001b[0;32m~/Src/NWB/franklabnwb/franklabnwb/ffnwb.py\u001b[0m in \u001b[0;36mwrite_ephys\u001b[0;34m(nwbf, data_dir, animal_prefix, day, recording_device)\u001b[0m\n\u001b[1;32m    148\u001b[0m         \u001b[0;32mfor\u001b[0m \u001b[0mtet_num\u001b[0m \u001b[0;32min\u001b[0m \u001b[0mtimestamps\u001b[0m\u001b[0;34m.\u001b[0m\u001b[0mkeys\u001b[0m\u001b[0;34m(\u001b[0m\u001b[0;34m)\u001b[0m\u001b[0;34m:\u001b[0m\u001b[0;34m\u001b[0m\u001b[0;34m\u001b[0m\u001b[0m\n\u001b[1;32m    149\u001b[0m             \u001b[0mdatafn\u001b[0m \u001b[0;34m=\u001b[0m \u001b[0minterpolate\u001b[0m\u001b[0;34m.\u001b[0m\u001b[0minterp1d\u001b[0m\u001b[0;34m(\u001b[0m\u001b[0mtimestamps\u001b[0m\u001b[0;34m[\u001b[0m\u001b[0mtet_num\u001b[0m\u001b[0;34m]\u001b[0m\u001b[0;34m[\u001b[0m\u001b[0mepoch\u001b[0m\u001b[0;34m]\u001b[0m\u001b[0;34m,\u001b[0m \u001b[0mdata\u001b[0m\u001b[0;34m[\u001b[0m\u001b[0mtet_num\u001b[0m\u001b[0;34m]\u001b[0m\u001b[0;34m[\u001b[0m\u001b[0mepoch\u001b[0m\u001b[0;34m]\u001b[0m\u001b[0;34m,\u001b[0m \u001b[0mkind\u001b[0m\u001b[0;34m=\u001b[0m\u001b[0;34m'cubic'\u001b[0m\u001b[0;34m)\u001b[0m\u001b[0;34m\u001b[0m\u001b[0;34m\u001b[0m\u001b[0m\n\u001b[0;32m--> 150\u001b[0;31m             \u001b[0mdata_matrix\u001b[0m\u001b[0;34m[\u001b[0m\u001b[0mindex\u001b[0m\u001b[0;34m]\u001b[0m \u001b[0;34m=\u001b[0m \u001b[0mnp\u001b[0m\u001b[0;34m.\u001b[0m\u001b[0mround\u001b[0m\u001b[0;34m(\u001b[0m\u001b[0mdatafn\u001b[0m\u001b[0;34m(\u001b[0m\u001b[0mtimes\u001b[0m\u001b[0;34m)\u001b[0m\u001b[0;34m)\u001b[0m\u001b[0;34m\u001b[0m\u001b[0;34m\u001b[0m\u001b[0m\n\u001b[0m\u001b[1;32m    151\u001b[0m             \u001b[0mindex\u001b[0m \u001b[0;34m+=\u001b[0m \u001b[0;36m1\u001b[0m\u001b[0;34m\u001b[0m\u001b[0;34m\u001b[0m\u001b[0m\n\u001b[1;32m    152\u001b[0m         \u001b[0mfinal_times\u001b[0m \u001b[0;34m=\u001b[0m \u001b[0mnp\u001b[0m\u001b[0;34m.\u001b[0m\u001b[0mconcatenate\u001b[0m\u001b[0;34m(\u001b[0m\u001b[0;34m(\u001b[0m\u001b[0mfinal_times\u001b[0m\u001b[0;34m,\u001b[0m \u001b[0mtimes\u001b[0m\u001b[0;34m)\u001b[0m\u001b[0;34m)\u001b[0m\u001b[0;34m\u001b[0m\u001b[0;34m\u001b[0m\u001b[0m\n",
      "\u001b[0;32m~/anaconda3/envs/default/lib/python3.6/site-packages/scipy/interpolate/polyint.py\u001b[0m in \u001b[0;36m__call__\u001b[0;34m(self, x)\u001b[0m\n\u001b[1;32m     77\u001b[0m         \"\"\"\n\u001b[1;32m     78\u001b[0m         \u001b[0mx\u001b[0m\u001b[0;34m,\u001b[0m \u001b[0mx_shape\u001b[0m \u001b[0;34m=\u001b[0m \u001b[0mself\u001b[0m\u001b[0;34m.\u001b[0m\u001b[0m_prepare_x\u001b[0m\u001b[0;34m(\u001b[0m\u001b[0mx\u001b[0m\u001b[0;34m)\u001b[0m\u001b[0;34m\u001b[0m\u001b[0;34m\u001b[0m\u001b[0m\n\u001b[0;32m---> 79\u001b[0;31m         \u001b[0my\u001b[0m \u001b[0;34m=\u001b[0m \u001b[0mself\u001b[0m\u001b[0;34m.\u001b[0m\u001b[0m_evaluate\u001b[0m\u001b[0;34m(\u001b[0m\u001b[0mx\u001b[0m\u001b[0;34m)\u001b[0m\u001b[0;34m\u001b[0m\u001b[0;34m\u001b[0m\u001b[0m\n\u001b[0m\u001b[1;32m     80\u001b[0m         \u001b[0;32mreturn\u001b[0m \u001b[0mself\u001b[0m\u001b[0;34m.\u001b[0m\u001b[0m_finish_y\u001b[0m\u001b[0;34m(\u001b[0m\u001b[0my\u001b[0m\u001b[0;34m,\u001b[0m \u001b[0mx_shape\u001b[0m\u001b[0;34m)\u001b[0m\u001b[0;34m\u001b[0m\u001b[0;34m\u001b[0m\u001b[0m\n\u001b[1;32m     81\u001b[0m \u001b[0;34m\u001b[0m\u001b[0m\n",
      "\u001b[0;32m~/anaconda3/envs/default/lib/python3.6/site-packages/scipy/interpolate/interpolate.py\u001b[0m in \u001b[0;36m_evaluate\u001b[0;34m(self, x_new)\u001b[0m\n\u001b[1;32m    660\u001b[0m         \u001b[0;31m#    The behavior is set by the bounds_error variable.\u001b[0m\u001b[0;34m\u001b[0m\u001b[0;34m\u001b[0m\u001b[0;34m\u001b[0m\u001b[0m\n\u001b[1;32m    661\u001b[0m         \u001b[0mx_new\u001b[0m \u001b[0;34m=\u001b[0m \u001b[0masarray\u001b[0m\u001b[0;34m(\u001b[0m\u001b[0mx_new\u001b[0m\u001b[0;34m)\u001b[0m\u001b[0;34m\u001b[0m\u001b[0;34m\u001b[0m\u001b[0m\n\u001b[0;32m--> 662\u001b[0;31m         \u001b[0my_new\u001b[0m \u001b[0;34m=\u001b[0m \u001b[0mself\u001b[0m\u001b[0;34m.\u001b[0m\u001b[0m_call\u001b[0m\u001b[0;34m(\u001b[0m\u001b[0mself\u001b[0m\u001b[0;34m,\u001b[0m \u001b[0mx_new\u001b[0m\u001b[0;34m)\u001b[0m\u001b[0;34m\u001b[0m\u001b[0;34m\u001b[0m\u001b[0m\n\u001b[0m\u001b[1;32m    663\u001b[0m         \u001b[0;32mif\u001b[0m \u001b[0;32mnot\u001b[0m \u001b[0mself\u001b[0m\u001b[0;34m.\u001b[0m\u001b[0m_extrapolate\u001b[0m\u001b[0;34m:\u001b[0m\u001b[0;34m\u001b[0m\u001b[0;34m\u001b[0m\u001b[0m\n\u001b[1;32m    664\u001b[0m             \u001b[0mbelow_bounds\u001b[0m\u001b[0;34m,\u001b[0m \u001b[0mabove_bounds\u001b[0m \u001b[0;34m=\u001b[0m \u001b[0mself\u001b[0m\u001b[0;34m.\u001b[0m\u001b[0m_check_bounds\u001b[0m\u001b[0;34m(\u001b[0m\u001b[0mx_new\u001b[0m\u001b[0;34m)\u001b[0m\u001b[0;34m\u001b[0m\u001b[0;34m\u001b[0m\u001b[0m\n",
      "\u001b[0;32m~/anaconda3/envs/default/lib/python3.6/site-packages/scipy/interpolate/interpolate.py\u001b[0m in \u001b[0;36m_call_spline\u001b[0;34m(self, x_new)\u001b[0m\n\u001b[1;32m    648\u001b[0m \u001b[0;34m\u001b[0m\u001b[0m\n\u001b[1;32m    649\u001b[0m     \u001b[0;32mdef\u001b[0m \u001b[0m_call_spline\u001b[0m\u001b[0;34m(\u001b[0m\u001b[0mself\u001b[0m\u001b[0;34m,\u001b[0m \u001b[0mx_new\u001b[0m\u001b[0;34m)\u001b[0m\u001b[0;34m:\u001b[0m\u001b[0;34m\u001b[0m\u001b[0;34m\u001b[0m\u001b[0m\n\u001b[0;32m--> 650\u001b[0;31m         \u001b[0;32mreturn\u001b[0m \u001b[0mself\u001b[0m\u001b[0;34m.\u001b[0m\u001b[0m_spline\u001b[0m\u001b[0;34m(\u001b[0m\u001b[0mx_new\u001b[0m\u001b[0;34m)\u001b[0m\u001b[0;34m\u001b[0m\u001b[0;34m\u001b[0m\u001b[0m\n\u001b[0m\u001b[1;32m    651\u001b[0m \u001b[0;34m\u001b[0m\u001b[0m\n\u001b[1;32m    652\u001b[0m     \u001b[0;32mdef\u001b[0m \u001b[0m_call_nan_spline\u001b[0m\u001b[0;34m(\u001b[0m\u001b[0mself\u001b[0m\u001b[0;34m,\u001b[0m \u001b[0mx_new\u001b[0m\u001b[0;34m)\u001b[0m\u001b[0;34m:\u001b[0m\u001b[0;34m\u001b[0m\u001b[0;34m\u001b[0m\u001b[0m\n",
      "\u001b[0;32m~/anaconda3/envs/default/lib/python3.6/site-packages/scipy/interpolate/_bsplines.py\u001b[0m in \u001b[0;36m__call__\u001b[0;34m(self, x, nu, extrapolate)\u001b[0m\n\u001b[1;32m    348\u001b[0m         \u001b[0mout\u001b[0m \u001b[0;34m=\u001b[0m \u001b[0mnp\u001b[0m\u001b[0;34m.\u001b[0m\u001b[0mempty\u001b[0m\u001b[0;34m(\u001b[0m\u001b[0;34m(\u001b[0m\u001b[0mlen\u001b[0m\u001b[0;34m(\u001b[0m\u001b[0mx\u001b[0m\u001b[0;34m)\u001b[0m\u001b[0;34m,\u001b[0m \u001b[0mprod\u001b[0m\u001b[0;34m(\u001b[0m\u001b[0mself\u001b[0m\u001b[0;34m.\u001b[0m\u001b[0mc\u001b[0m\u001b[0;34m.\u001b[0m\u001b[0mshape\u001b[0m\u001b[0;34m[\u001b[0m\u001b[0;36m1\u001b[0m\u001b[0;34m:\u001b[0m\u001b[0;34m]\u001b[0m\u001b[0;34m)\u001b[0m\u001b[0;34m)\u001b[0m\u001b[0;34m,\u001b[0m \u001b[0mdtype\u001b[0m\u001b[0;34m=\u001b[0m\u001b[0mself\u001b[0m\u001b[0;34m.\u001b[0m\u001b[0mc\u001b[0m\u001b[0;34m.\u001b[0m\u001b[0mdtype\u001b[0m\u001b[0;34m)\u001b[0m\u001b[0;34m\u001b[0m\u001b[0;34m\u001b[0m\u001b[0m\n\u001b[1;32m    349\u001b[0m         \u001b[0mself\u001b[0m\u001b[0;34m.\u001b[0m\u001b[0m_ensure_c_contiguous\u001b[0m\u001b[0;34m(\u001b[0m\u001b[0;34m)\u001b[0m\u001b[0;34m\u001b[0m\u001b[0;34m\u001b[0m\u001b[0m\n\u001b[0;32m--> 350\u001b[0;31m         \u001b[0mself\u001b[0m\u001b[0;34m.\u001b[0m\u001b[0m_evaluate\u001b[0m\u001b[0;34m(\u001b[0m\u001b[0mx\u001b[0m\u001b[0;34m,\u001b[0m \u001b[0mnu\u001b[0m\u001b[0;34m,\u001b[0m \u001b[0mextrapolate\u001b[0m\u001b[0;34m,\u001b[0m \u001b[0mout\u001b[0m\u001b[0;34m)\u001b[0m\u001b[0;34m\u001b[0m\u001b[0;34m\u001b[0m\u001b[0m\n\u001b[0m\u001b[1;32m    351\u001b[0m         \u001b[0mout\u001b[0m \u001b[0;34m=\u001b[0m \u001b[0mout\u001b[0m\u001b[0;34m.\u001b[0m\u001b[0mreshape\u001b[0m\u001b[0;34m(\u001b[0m\u001b[0mx_shape\u001b[0m \u001b[0;34m+\u001b[0m \u001b[0mself\u001b[0m\u001b[0;34m.\u001b[0m\u001b[0mc\u001b[0m\u001b[0;34m.\u001b[0m\u001b[0mshape\u001b[0m\u001b[0;34m[\u001b[0m\u001b[0;36m1\u001b[0m\u001b[0;34m:\u001b[0m\u001b[0;34m]\u001b[0m\u001b[0;34m)\u001b[0m\u001b[0;34m\u001b[0m\u001b[0;34m\u001b[0m\u001b[0m\n\u001b[1;32m    352\u001b[0m         \u001b[0;32mif\u001b[0m \u001b[0mself\u001b[0m\u001b[0;34m.\u001b[0m\u001b[0maxis\u001b[0m \u001b[0;34m!=\u001b[0m \u001b[0;36m0\u001b[0m\u001b[0;34m:\u001b[0m\u001b[0;34m\u001b[0m\u001b[0;34m\u001b[0m\u001b[0m\n",
      "\u001b[0;32m~/anaconda3/envs/default/lib/python3.6/site-packages/scipy/interpolate/_bsplines.py\u001b[0m in \u001b[0;36m_evaluate\u001b[0;34m(self, xp, nu, extrapolate, out)\u001b[0m\n\u001b[1;32m    359\u001b[0m     \u001b[0;32mdef\u001b[0m \u001b[0m_evaluate\u001b[0m\u001b[0;34m(\u001b[0m\u001b[0mself\u001b[0m\u001b[0;34m,\u001b[0m \u001b[0mxp\u001b[0m\u001b[0;34m,\u001b[0m \u001b[0mnu\u001b[0m\u001b[0;34m,\u001b[0m \u001b[0mextrapolate\u001b[0m\u001b[0;34m,\u001b[0m \u001b[0mout\u001b[0m\u001b[0;34m)\u001b[0m\u001b[0;34m:\u001b[0m\u001b[0;34m\u001b[0m\u001b[0;34m\u001b[0m\u001b[0m\n\u001b[1;32m    360\u001b[0m         _bspl.evaluate_spline(self.t, self.c.reshape(self.c.shape[0], -1),\n\u001b[0;32m--> 361\u001b[0;31m                 self.k, xp, nu, extrapolate, out)\n\u001b[0m\u001b[1;32m    362\u001b[0m \u001b[0;34m\u001b[0m\u001b[0m\n\u001b[1;32m    363\u001b[0m     \u001b[0;32mdef\u001b[0m \u001b[0m_ensure_c_contiguous\u001b[0m\u001b[0;34m(\u001b[0m\u001b[0mself\u001b[0m\u001b[0;34m)\u001b[0m\u001b[0;34m:\u001b[0m\u001b[0;34m\u001b[0m\u001b[0;34m\u001b[0m\u001b[0m\n",
      "\u001b[0;31mKeyboardInterrupt\u001b[0m: "
     ]
    }
   ],
   "source": [
    "data_dir = '/data/sosa/Ger'\n",
    "nwb_dir = data_dir + '/NWB/'\n",
    "animal_prefix = 'ger'\n",
    "animal_name = 'Geronimo'\n",
    "day_list = [5]\n",
    "ffnwb.convert_to_nwb(data_dir,\n",
    "                   nwb_dir,\n",
    "                   animal_prefix,\n",
    "                   animal_name,\n",
    "                   day_list,\n",
    "                   overwrite=True)"
   ]
  },
  {
   "cell_type": "code",
   "execution_count": 19,
   "metadata": {},
   "outputs": [
    {
     "name": "stdout",
     "output_type": "stream",
     "text": [
      "Converting Remy day 20\n"
     ]
    },
    {
     "ename": "FileNotFoundError",
     "evalue": "[Errno 2] No such file or directory: '/data/gillespie/Remy/remytetinfo.mat'",
     "output_type": "error",
     "traceback": [
      "\u001b[0;31m---------------------------------------------------------------------------\u001b[0m",
      "\u001b[0;31mFileNotFoundError\u001b[0m                         Traceback (most recent call last)",
      "\u001b[0;32m~/anaconda3/envs/default/lib/python3.6/site-packages/scipy/io/matlab/mio.py\u001b[0m in \u001b[0;36m_open_file\u001b[0;34m(file_like, appendmat)\u001b[0m\n\u001b[1;32m     32\u001b[0m     \u001b[0;32mtry\u001b[0m\u001b[0;34m:\u001b[0m\u001b[0;34m\u001b[0m\u001b[0;34m\u001b[0m\u001b[0m\n\u001b[0;32m---> 33\u001b[0;31m         \u001b[0;32mreturn\u001b[0m \u001b[0mopen\u001b[0m\u001b[0;34m(\u001b[0m\u001b[0mfile_like\u001b[0m\u001b[0;34m,\u001b[0m \u001b[0;34m'rb'\u001b[0m\u001b[0;34m)\u001b[0m\u001b[0;34m,\u001b[0m \u001b[0;32mTrue\u001b[0m\u001b[0;34m\u001b[0m\u001b[0;34m\u001b[0m\u001b[0m\n\u001b[0m\u001b[1;32m     34\u001b[0m     \u001b[0;32mexcept\u001b[0m \u001b[0mIOError\u001b[0m\u001b[0;34m:\u001b[0m\u001b[0;34m\u001b[0m\u001b[0;34m\u001b[0m\u001b[0m\n",
      "\u001b[0;31mFileNotFoundError\u001b[0m: [Errno 2] No such file or directory: '/data/gillespie/Remy/remytetinfo.mat'",
      "\nDuring handling of the above exception, another exception occurred:\n",
      "\u001b[0;31mFileNotFoundError\u001b[0m                         Traceback (most recent call last)",
      "\u001b[0;32m<ipython-input-19-a50bba3a2316>\u001b[0m in \u001b[0;36m<module>\u001b[0;34m\u001b[0m\n\u001b[1;32m      9\u001b[0m                    \u001b[0manimal_name\u001b[0m\u001b[0;34m,\u001b[0m\u001b[0;34m\u001b[0m\u001b[0;34m\u001b[0m\u001b[0m\n\u001b[1;32m     10\u001b[0m                    \u001b[0mday_list\u001b[0m\u001b[0;34m,\u001b[0m\u001b[0;34m\u001b[0m\u001b[0;34m\u001b[0m\u001b[0m\n\u001b[0;32m---> 11\u001b[0;31m                    overwrite=True)\n\u001b[0m",
      "\u001b[0;32m~/Src/NWB/franklabnwb/franklabnwb/ffnwb.py\u001b[0m in \u001b[0;36mconvert_to_nwb\u001b[0;34m(data_dir, nwb_dir, animal_prefix, animal_name, day_list, overwrite, dataset_zero_time, device, experimenter, experiment_description, session_description)\u001b[0m\n\u001b[1;32m    494\u001b[0m \u001b[0;34m\u001b[0m\u001b[0m\n\u001b[1;32m    495\u001b[0m         \u001b[0;31m#Electrodes and Electrode Groups\u001b[0m\u001b[0;34m\u001b[0m\u001b[0;34m\u001b[0m\u001b[0;34m\u001b[0m\u001b[0m\n\u001b[0;32m--> 496\u001b[0;31m         \u001b[0mwrite_ephys\u001b[0m\u001b[0;34m(\u001b[0m\u001b[0mnwbf\u001b[0m\u001b[0;34m,\u001b[0m \u001b[0mdata_dir\u001b[0m\u001b[0;34m,\u001b[0m \u001b[0manimal_prefix\u001b[0m\u001b[0;34m,\u001b[0m \u001b[0mday\u001b[0m\u001b[0;34m,\u001b[0m \u001b[0mrecording_device\u001b[0m\u001b[0;34m)\u001b[0m\u001b[0;34m\u001b[0m\u001b[0;34m\u001b[0m\u001b[0m\n\u001b[0m\u001b[1;32m    497\u001b[0m \u001b[0;34m\u001b[0m\u001b[0m\n\u001b[1;32m    498\u001b[0m         \u001b[0;31m#Behavioral data\u001b[0m\u001b[0;34m\u001b[0m\u001b[0;34m\u001b[0m\u001b[0;34m\u001b[0m\u001b[0m\n",
      "\u001b[0;32m~/Src/NWB/franklabnwb/franklabnwb/ffnwb.py\u001b[0m in \u001b[0;36mwrite_ephys\u001b[0;34m(nwbf, data_dir, animal_prefix, day, recording_device)\u001b[0m\n\u001b[1;32m     31\u001b[0m \u001b[0;34m\u001b[0m\u001b[0m\n\u001b[1;32m     32\u001b[0m     \u001b[0;31m# Parse tetrodes metadata from the  Frank Lab Matlab files\u001b[0m\u001b[0;34m\u001b[0m\u001b[0;34m\u001b[0m\u001b[0;34m\u001b[0m\u001b[0m\n\u001b[0;32m---> 33\u001b[0;31m     \u001b[0mtetrode_metadata\u001b[0m \u001b[0;34m=\u001b[0m \u001b[0mns\u001b[0m\u001b[0;34m.\u001b[0m\u001b[0mparse_franklab_tetrodes\u001b[0m\u001b[0;34m(\u001b[0m\u001b[0mdata_dir\u001b[0m\u001b[0;34m,\u001b[0m \u001b[0manimal_prefix\u001b[0m\u001b[0;34m,\u001b[0m \u001b[0mday\u001b[0m\u001b[0;34m)\u001b[0m\u001b[0;34m\u001b[0m\u001b[0;34m\u001b[0m\u001b[0m\n\u001b[0m\u001b[1;32m     34\u001b[0m \u001b[0;34m\u001b[0m\u001b[0m\n\u001b[1;32m     35\u001b[0m     \u001b[0;31m# Four channels per tetrode by definition\u001b[0m\u001b[0;34m\u001b[0m\u001b[0;34m\u001b[0m\u001b[0;34m\u001b[0m\u001b[0m\n",
      "\u001b[0;32m~/Src/NWB/franklabnwb/franklabnwb/nspike_helpers.py\u001b[0m in \u001b[0;36mparse_franklab_tetrodes\u001b[0;34m(data_dir, animal, day)\u001b[0m\n\u001b[1;32m    120\u001b[0m     '''\n\u001b[1;32m    121\u001b[0m     \u001b[0mtetinfo_filename\u001b[0m \u001b[0;34m=\u001b[0m \u001b[0;34m\"%s/%s%s\"\u001b[0m \u001b[0;34m%\u001b[0m \u001b[0;34m(\u001b[0m\u001b[0mdata_dir\u001b[0m\u001b[0;34m,\u001b[0m \u001b[0manimal\u001b[0m\u001b[0;34m.\u001b[0m\u001b[0mlower\u001b[0m\u001b[0;34m(\u001b[0m\u001b[0;34m)\u001b[0m\u001b[0;34m,\u001b[0m \u001b[0;34m\"tetinfo.mat\"\u001b[0m\u001b[0;34m)\u001b[0m\u001b[0;34m\u001b[0m\u001b[0;34m\u001b[0m\u001b[0m\n\u001b[0;32m--> 122\u001b[0;31m     \u001b[0mtets_dict\u001b[0m \u001b[0;34m=\u001b[0m \u001b[0mloadmat_ff\u001b[0m\u001b[0;34m(\u001b[0m\u001b[0mtetinfo_filename\u001b[0m\u001b[0;34m,\u001b[0m \u001b[0;34m'tetinfo'\u001b[0m\u001b[0;34m)\u001b[0m\u001b[0;34m\u001b[0m\u001b[0;34m\u001b[0m\u001b[0m\n\u001b[0m\u001b[1;32m    123\u001b[0m     \u001b[0;31m# only look at first epoch (1-indexed) because rest are duplicates\u001b[0m\u001b[0;34m\u001b[0m\u001b[0;34m\u001b[0m\u001b[0;34m\u001b[0m\u001b[0m\n\u001b[1;32m    124\u001b[0m     \u001b[0;32mreturn\u001b[0m \u001b[0mtets_dict\u001b[0m\u001b[0;34m[\u001b[0m\u001b[0mday\u001b[0m\u001b[0;34m]\u001b[0m\u001b[0;34m[\u001b[0m\u001b[0;36m1\u001b[0m\u001b[0;34m]\u001b[0m\u001b[0;34m\u001b[0m\u001b[0;34m\u001b[0m\u001b[0m\n",
      "\u001b[0;32m~/Src/NWB/franklabnwb/franklabnwb/nspike_helpers.py\u001b[0m in \u001b[0;36mloadmat_ff\u001b[0;34m(filename, varname)\u001b[0m\n\u001b[1;32m    212\u001b[0m     \u001b[0mrepresenting\u001b[0m \u001b[0mday\u001b[0m\u001b[0;34m/\u001b[0m\u001b[0mepoch\u001b[0m\u001b[0;34m/\u001b[0m\u001b[0mtetrode\u001b[0m\u001b[0;34m[\u001b[0m\u001b[0;34m/\u001b[0m\u001b[0mcluster\u001b[0m\u001b[0;34m]\u001b[0m\u001b[0;34m.\u001b[0m\u001b[0;34m\u001b[0m\u001b[0;34m\u001b[0m\u001b[0m\n\u001b[1;32m    213\u001b[0m     '''\n\u001b[0;32m--> 214\u001b[0;31m     \u001b[0mdata\u001b[0m \u001b[0;34m=\u001b[0m \u001b[0msio\u001b[0m\u001b[0;34m.\u001b[0m\u001b[0mloadmat\u001b[0m\u001b[0;34m(\u001b[0m\u001b[0mfilename\u001b[0m\u001b[0;34m,\u001b[0m \u001b[0mstruct_as_record\u001b[0m\u001b[0;34m=\u001b[0m\u001b[0;32mFalse\u001b[0m\u001b[0;34m,\u001b[0m \u001b[0msqueeze_me\u001b[0m\u001b[0;34m=\u001b[0m\u001b[0;32mFalse\u001b[0m\u001b[0;34m)\u001b[0m\u001b[0;34m\u001b[0m\u001b[0;34m\u001b[0m\u001b[0m\n\u001b[0m\u001b[1;32m    215\u001b[0m     \u001b[0mdata\u001b[0m \u001b[0;34m=\u001b[0m \u001b[0mdata\u001b[0m\u001b[0;34m[\u001b[0m\u001b[0mvarname\u001b[0m\u001b[0;34m]\u001b[0m\u001b[0;34m\u001b[0m\u001b[0;34m\u001b[0m\u001b[0m\n\u001b[1;32m    216\u001b[0m     \u001b[0;32mif\u001b[0m \u001b[0misinstance\u001b[0m\u001b[0;34m(\u001b[0m\u001b[0mdata\u001b[0m\u001b[0;34m,\u001b[0m \u001b[0mnp\u001b[0m\u001b[0;34m.\u001b[0m\u001b[0mndarray\u001b[0m\u001b[0;34m)\u001b[0m\u001b[0;34m:\u001b[0m\u001b[0;34m\u001b[0m\u001b[0;34m\u001b[0m\u001b[0m\n",
      "\u001b[0;32m~/anaconda3/envs/default/lib/python3.6/site-packages/scipy/io/matlab/mio.py\u001b[0m in \u001b[0;36mloadmat\u001b[0;34m(file_name, mdict, appendmat, **kwargs)\u001b[0m\n\u001b[1;32m    139\u001b[0m     \"\"\"\n\u001b[1;32m    140\u001b[0m     \u001b[0mvariable_names\u001b[0m \u001b[0;34m=\u001b[0m \u001b[0mkwargs\u001b[0m\u001b[0;34m.\u001b[0m\u001b[0mpop\u001b[0m\u001b[0;34m(\u001b[0m\u001b[0;34m'variable_names'\u001b[0m\u001b[0;34m,\u001b[0m \u001b[0;32mNone\u001b[0m\u001b[0;34m)\u001b[0m\u001b[0;34m\u001b[0m\u001b[0;34m\u001b[0m\u001b[0m\n\u001b[0;32m--> 141\u001b[0;31m     \u001b[0mMR\u001b[0m\u001b[0;34m,\u001b[0m \u001b[0mfile_opened\u001b[0m \u001b[0;34m=\u001b[0m \u001b[0mmat_reader_factory\u001b[0m\u001b[0;34m(\u001b[0m\u001b[0mfile_name\u001b[0m\u001b[0;34m,\u001b[0m \u001b[0mappendmat\u001b[0m\u001b[0;34m,\u001b[0m \u001b[0;34m**\u001b[0m\u001b[0mkwargs\u001b[0m\u001b[0;34m)\u001b[0m\u001b[0;34m\u001b[0m\u001b[0;34m\u001b[0m\u001b[0m\n\u001b[0m\u001b[1;32m    142\u001b[0m     \u001b[0mmatfile_dict\u001b[0m \u001b[0;34m=\u001b[0m \u001b[0mMR\u001b[0m\u001b[0;34m.\u001b[0m\u001b[0mget_variables\u001b[0m\u001b[0;34m(\u001b[0m\u001b[0mvariable_names\u001b[0m\u001b[0;34m)\u001b[0m\u001b[0;34m\u001b[0m\u001b[0;34m\u001b[0m\u001b[0m\n\u001b[1;32m    143\u001b[0m     \u001b[0;32mif\u001b[0m \u001b[0mmdict\u001b[0m \u001b[0;32mis\u001b[0m \u001b[0;32mnot\u001b[0m \u001b[0;32mNone\u001b[0m\u001b[0;34m:\u001b[0m\u001b[0;34m\u001b[0m\u001b[0;34m\u001b[0m\u001b[0m\n",
      "\u001b[0;32m~/anaconda3/envs/default/lib/python3.6/site-packages/scipy/io/matlab/mio.py\u001b[0m in \u001b[0;36mmat_reader_factory\u001b[0;34m(file_name, appendmat, **kwargs)\u001b[0m\n\u001b[1;32m     62\u001b[0m \u001b[0;34m\u001b[0m\u001b[0m\n\u001b[1;32m     63\u001b[0m     \"\"\"\n\u001b[0;32m---> 64\u001b[0;31m     \u001b[0mbyte_stream\u001b[0m\u001b[0;34m,\u001b[0m \u001b[0mfile_opened\u001b[0m \u001b[0;34m=\u001b[0m \u001b[0m_open_file\u001b[0m\u001b[0;34m(\u001b[0m\u001b[0mfile_name\u001b[0m\u001b[0;34m,\u001b[0m \u001b[0mappendmat\u001b[0m\u001b[0;34m)\u001b[0m\u001b[0;34m\u001b[0m\u001b[0;34m\u001b[0m\u001b[0m\n\u001b[0m\u001b[1;32m     65\u001b[0m     \u001b[0mmjv\u001b[0m\u001b[0;34m,\u001b[0m \u001b[0mmnv\u001b[0m \u001b[0;34m=\u001b[0m \u001b[0mget_matfile_version\u001b[0m\u001b[0;34m(\u001b[0m\u001b[0mbyte_stream\u001b[0m\u001b[0;34m)\u001b[0m\u001b[0;34m\u001b[0m\u001b[0;34m\u001b[0m\u001b[0m\n\u001b[1;32m     66\u001b[0m     \u001b[0;32mif\u001b[0m \u001b[0mmjv\u001b[0m \u001b[0;34m==\u001b[0m \u001b[0;36m0\u001b[0m\u001b[0;34m:\u001b[0m\u001b[0;34m\u001b[0m\u001b[0;34m\u001b[0m\u001b[0m\n",
      "\u001b[0;32m~/anaconda3/envs/default/lib/python3.6/site-packages/scipy/io/matlab/mio.py\u001b[0m in \u001b[0;36m_open_file\u001b[0;34m(file_like, appendmat)\u001b[0m\n\u001b[1;32m     37\u001b[0m             \u001b[0;32mif\u001b[0m \u001b[0mappendmat\u001b[0m \u001b[0;32mand\u001b[0m \u001b[0;32mnot\u001b[0m \u001b[0mfile_like\u001b[0m\u001b[0;34m.\u001b[0m\u001b[0mendswith\u001b[0m\u001b[0;34m(\u001b[0m\u001b[0;34m'.mat'\u001b[0m\u001b[0;34m)\u001b[0m\u001b[0;34m:\u001b[0m\u001b[0;34m\u001b[0m\u001b[0;34m\u001b[0m\u001b[0m\n\u001b[1;32m     38\u001b[0m                 \u001b[0mfile_like\u001b[0m \u001b[0;34m+=\u001b[0m \u001b[0;34m'.mat'\u001b[0m\u001b[0;34m\u001b[0m\u001b[0;34m\u001b[0m\u001b[0m\n\u001b[0;32m---> 39\u001b[0;31m             \u001b[0;32mreturn\u001b[0m \u001b[0mopen\u001b[0m\u001b[0;34m(\u001b[0m\u001b[0mfile_like\u001b[0m\u001b[0;34m,\u001b[0m \u001b[0;34m'rb'\u001b[0m\u001b[0;34m)\u001b[0m\u001b[0;34m,\u001b[0m \u001b[0;32mTrue\u001b[0m\u001b[0;34m\u001b[0m\u001b[0;34m\u001b[0m\u001b[0m\n\u001b[0m\u001b[1;32m     40\u001b[0m         \u001b[0;32melse\u001b[0m\u001b[0;34m:\u001b[0m\u001b[0;34m\u001b[0m\u001b[0;34m\u001b[0m\u001b[0m\n\u001b[1;32m     41\u001b[0m             \u001b[0;32mraise\u001b[0m \u001b[0mIOError\u001b[0m\u001b[0;34m(\u001b[0m\u001b[0;34m'Reader needs file name or open file-like object'\u001b[0m\u001b[0;34m)\u001b[0m\u001b[0;34m\u001b[0m\u001b[0;34m\u001b[0m\u001b[0m\n",
      "\u001b[0;31mFileNotFoundError\u001b[0m: [Errno 2] No such file or directory: '/data/gillespie/Remy/remytetinfo.mat'"
     ]
    }
   ],
   "source": [
    "data_dir = '/data/gillespie/Remy'\n",
    "nwb_dir = data_dir + '/NWB/'\n",
    "animal_prefix = 'remy'\n",
    "animal_name = 'Remy'\n",
    "day_list = [20]\n",
    "ffnwb.convert_to_nwb(data_dir,\n",
    "                   nwb_dir,\n",
    "                   animal_prefix,\n",
    "                   animal_name,\n",
    "                   day_list,\n",
    "                   overwrite=True)"
   ]
  },
  {
   "cell_type": "code",
   "execution_count": 79,
   "metadata": {},
   "outputs": [
    {
     "name": "stdout",
     "output_type": "stream",
     "text": [
      "Converting Bond day 5\n",
      "Skipping Bon day 5 epoch 8: no \"type\" field in task structure\n",
      "Skipping Bon day 5 epoch 9: no \"type\" field in task structure\n",
      "Successfully wrote NWB file /data/mkarlsso/Bon/NWB/bon05.nwb\n",
      "\n"
     ]
    }
   ],
   "source": [
    "data_dir = '/data/mkarlsso/Bon'\n",
    "nwb_dir = data_dir + '/NWB/'\n",
    "animal_prefix = 'Bon'\n",
    "animal_name = 'Bond'\n",
    "day_list = [3]\n",
    "ffnwb.convert_to_nwb(data_dir,\n",
    "                   nwb_dir,\n",
    "                   animal_prefix,\n",
    "                   animal_name,\n",
    "                   day_list,\n",
    "                   overwrite=True)"
   ]
  },
  {
   "cell_type": "code",
   "execution_count": 30,
   "metadata": {},
   "outputs": [],
   "source": [
    "a = [[1]]"
   ]
  },
  {
   "cell_type": "code",
   "execution_count": 39,
   "metadata": {},
   "outputs": [],
   "source": [
    "b = np.asarray(a)"
   ]
  },
  {
   "cell_type": "code",
   "execution_count": 56,
   "metadata": {},
   "outputs": [],
   "source": [
    "c = np.ndarray.squeeze(b)"
   ]
  },
  {
   "cell_type": "code",
   "execution_count": 63,
   "metadata": {},
   "outputs": [
    {
     "data": {
      "text/plain": [
       "array(1)"
      ]
     },
     "execution_count": 63,
     "metadata": {},
     "output_type": "execute_result"
    }
   ],
   "source": [
    "c"
   ]
  },
  {
   "cell_type": "code",
   "execution_count": 88,
   "metadata": {},
   "outputs": [],
   "source": [
    "a = np.array([[1,2,8],\n",
    "     [7,4,2],\n",
    "     [9,1,7],\n",
    "     [0,1,5],\n",
    "     [6,4,3]])"
   ]
  },
  {
   "cell_type": "code",
   "execution_count": 92,
   "metadata": {},
   "outputs": [
    {
     "data": {
      "text/plain": [
       "array([[[ 0,  0,  0],\n",
       "        [ 6,  2, -6],\n",
       "        [ 8, -1, -1],\n",
       "        [-1, -1, -3],\n",
       "        [ 5,  2, -5]],\n",
       "\n",
       "       [[-6, -2,  6],\n",
       "        [ 0,  0,  0],\n",
       "        [ 2, -3,  5],\n",
       "        [-7, -3,  3],\n",
       "        [-1,  0,  1]],\n",
       "\n",
       "       [[-8,  1,  1],\n",
       "        [-2,  3, -5],\n",
       "        [ 0,  0,  0],\n",
       "        [-9,  0, -2],\n",
       "        [-3,  3, -4]],\n",
       "\n",
       "       [[ 1,  1,  3],\n",
       "        [ 7,  3, -3],\n",
       "        [ 9,  0,  2],\n",
       "        [ 0,  0,  0],\n",
       "        [ 6,  3, -2]],\n",
       "\n",
       "       [[-5, -2,  5],\n",
       "        [ 1,  0, -1],\n",
       "        [ 3, -3,  4],\n",
       "        [-6, -3,  2],\n",
       "        [ 0,  0,  0]]])"
      ]
     },
     "execution_count": 92,
     "metadata": {},
     "output_type": "execute_result"
    }
   ],
   "source": [
    "a - a[:,None]"
   ]
  },
  {
   "cell_type": "code",
   "execution_count": null,
   "metadata": {},
   "outputs": [],
   "source": []
  }
 ],
 "metadata": {
  "kernelspec": {
   "display_name": "Python 3",
   "language": "python",
   "name": "python3"
  },
  "language_info": {
   "codemirror_mode": {
    "name": "ipython",
    "version": 3
   },
   "file_extension": ".py",
   "mimetype": "text/x-python",
   "name": "python",
   "nbconvert_exporter": "python",
   "pygments_lexer": "ipython3",
   "version": "3.7.4"
  }
 },
 "nbformat": 4,
 "nbformat_minor": 4
}
