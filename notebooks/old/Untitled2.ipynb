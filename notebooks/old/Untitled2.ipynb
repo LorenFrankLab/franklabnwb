{
 "cells": [
  {
   "cell_type": "code",
   "execution_count": 1,
   "metadata": {},
   "outputs": [
    {
     "data": {
      "text/plain": [
       "'0.12.dev4'"
      ]
     },
     "execution_count": 1,
     "metadata": {},
     "output_type": "execute_result"
    }
   ],
   "source": [
    "import datajoint as dj\n",
    "dj.__version__"
   ]
  },
  {
   "cell_type": "code",
   "execution_count": 4,
   "metadata": {},
   "outputs": [
    {
     "name": "stdout",
     "output_type": "stream",
     "text": [
      "Please enter DataJoint username: root\n",
      "Please enter DataJoint password: ········\n",
      "Connecting root@localhost:3306\n"
     ]
    }
   ],
   "source": [
    "schema = dj.schema('franklab')"
   ]
  },
  {
   "cell_type": "code",
   "execution_count": 5,
   "metadata": {},
   "outputs": [
    {
     "data": {
      "text/plain": [
       "['franklab', 'mysql', 'performance_schema', 'sys']"
      ]
     },
     "execution_count": 5,
     "metadata": {},
     "output_type": "execute_result"
    }
   ],
   "source": [
    "dj.list_schemas()"
   ]
  },
  {
   "cell_type": "code",
   "execution_count": 9,
   "metadata": {},
   "outputs": [
    {
     "data": {
      "image/svg+xml": [
       "<svg height=\"185pt\" viewBox=\"0.00 0.00 963.50 185.00\" width=\"964pt\" xmlns=\"http://www.w3.org/2000/svg\" xmlns:xlink=\"http://www.w3.org/1999/xlink\">\n",
       "<g class=\"graph\" id=\"graph0\" transform=\"scale(1 1) rotate(0) translate(4 181)\">\n",
       "<title>%3</title>\n",
       "<polygon fill=\"#ffffff\" points=\"-4,4 -4,-181 959.5,-181 959.5,4 -4,4\" stroke=\"transparent\"/>\n",
       "<!-- `franklab`.`#lab_member` -->\n",
       "<g class=\"node\" id=\"node1\">\n",
       "<title>`franklab`.`#lab_member`</title>\n",
       "<polygon fill=\"#000000\" fill-opacity=\"0.125490\" points=\"248,-106 119,-106 119,-71 248,-71 248,-106\" stroke=\"transparent\"/>\n",
       "<text fill=\"#000000\" font-family=\"arial\" font-size=\"10.00\" text-anchor=\"start\" text-decoration=\"underline\" x=\"127\" y=\"-87\">`franklab`.`#lab_member`</text>\n",
       "</g>\n",
       "<!-- `franklab`.`experimenter` -->\n",
       "<g class=\"node\" id=\"node8\">\n",
       "<title>`franklab`.`experimenter`</title>\n",
       "<polygon fill=\"#00ff00\" fill-opacity=\"0.188235\" points=\"329,-35 180,-35 180,0 329,0 329,-35\" stroke=\"#00ff00\" stroke-opacity=\"0.188235\"/>\n",
       "<text fill=\"#006400\" font-family=\"arial\" font-size=\"12.00\" text-anchor=\"start\" text-decoration=\"underline\" x=\"188\" y=\"-15.4\">`franklab`.`experimenter`</text>\n",
       "</g>\n",
       "<!-- `franklab`.`#lab_member`&#45;&gt;`franklab`.`experimenter` -->\n",
       "<g class=\"edge\" id=\"edge1\">\n",
       "<title>`franklab`.`#lab_member`-&gt;`franklab`.`experimenter`</title>\n",
       "<path d=\"M201.0506,-70.9494C211.8917,-60.1083 225.7634,-46.2366 236.6582,-35.3418\" fill=\"none\" stroke=\"#000000\" stroke-opacity=\"0.250980\" stroke-width=\".75\"/>\n",
       "</g>\n",
       "<!-- `franklab`.`#probe` -->\n",
       "<g class=\"node\" id=\"node2\">\n",
       "<title>`franklab`.`#probe`</title>\n",
       "<polygon fill=\"#000000\" fill-opacity=\"0.125490\" points=\"768,-106 669,-106 669,-71 768,-71 768,-106\" stroke=\"transparent\"/>\n",
       "<text fill=\"#000000\" font-family=\"arial\" font-size=\"10.00\" text-anchor=\"start\" text-decoration=\"underline\" x=\"677\" y=\"-87\">`franklab`.`#probe`</text>\n",
       "</g>\n",
       "<!-- `franklab`.`#probe_type` -->\n",
       "<g class=\"node\" id=\"node3\">\n",
       "<title>`franklab`.`#probe_type`</title>\n",
       "<polygon fill=\"#000000\" fill-opacity=\"0.125490\" points=\"857.5,-177 733.5,-177 733.5,-142 857.5,-142 857.5,-177\" stroke=\"transparent\"/>\n",
       "<text fill=\"#000000\" font-family=\"arial\" font-size=\"10.00\" text-anchor=\"start\" text-decoration=\"underline\" x=\"741.5\" y=\"-158\">`franklab`.`#probe_type`</text>\n",
       "</g>\n",
       "<!-- `franklab`.`#probe_type`&#45;&gt;`franklab`.`#probe` -->\n",
       "<g class=\"edge\" id=\"edge2\">\n",
       "<title>`franklab`.`#probe_type`-&gt;`franklab`.`#probe`</title>\n",
       "<path d=\"M776.4663,-141.9494C764.62,-131.0262 749.4369,-117.0262 737.5816,-106.0947\" fill=\"none\" stroke=\"#000000\" stroke-dasharray=\"5,2\" stroke-opacity=\"0.250980\" stroke-width=\".75\"/>\n",
       "</g>\n",
       "<!-- `franklab`.`#probe_type__shank` -->\n",
       "<g class=\"node\" id=\"node5\">\n",
       "<title>`franklab`.`#probe_type__shank`</title>\n",
       "<polygon fill=\"transparent\" points=\"948.5,-98 786.5,-98 786.5,-79 948.5,-79 948.5,-98\" stroke=\"transparent\"/>\n",
       "<text fill=\"#000000\" font-family=\"arial\" font-size=\"10.00\" text-anchor=\"start\" text-decoration=\"underline\" x=\"794.5\" y=\"-87\">`franklab`.`#probe_type__shank`</text>\n",
       "</g>\n",
       "<!-- `franklab`.`#probe_type`&#45;&gt;`franklab`.`#probe_type__shank` -->\n",
       "<g class=\"edge\" id=\"edge3\">\n",
       "<title>`franklab`.`#probe_type`-&gt;`franklab`.`#probe_type__shank`</title>\n",
       "<path d=\"M813.2978,-141.9494C827.2898,-128.1517 846.2603,-109.4447 857.6491,-98.2141\" fill=\"none\" stroke=\"#000000\" stroke-opacity=\"0.250980\" stroke-width=\".75\"/>\n",
       "</g>\n",
       "<!-- `franklab`.`#probe_type__electrode` -->\n",
       "<g class=\"node\" id=\"node4\">\n",
       "<title>`franklab`.`#probe_type__electrode`</title>\n",
       "<polygon fill=\"transparent\" points=\"955.5,-27 779.5,-27 779.5,-8 955.5,-8 955.5,-27\" stroke=\"transparent\"/>\n",
       "<text fill=\"#000000\" font-family=\"arial\" font-size=\"10.00\" text-anchor=\"start\" text-decoration=\"underline\" x=\"787.5\" y=\"-16\">`franklab`.`#probe_type__electrode`</text>\n",
       "</g>\n",
       "<!-- `franklab`.`#probe_type__shank`&#45;&gt;`franklab`.`#probe_type__electrode` -->\n",
       "<g class=\"edge\" id=\"edge4\">\n",
       "<title>`franklab`.`#probe_type__shank`-&gt;`franklab`.`#probe_type__electrode`</title>\n",
       "<path d=\"M867.5,-78.9246C867.5,-65.4495 867.5,-41.0169 867.5,-27.3792\" fill=\"none\" stroke=\"#000000\" stroke-opacity=\"0.250980\" stroke-width=\".75\"/>\n",
       "</g>\n",
       "<!-- `franklab`.`apparatus` -->\n",
       "<g class=\"node\" id=\"node6\">\n",
       "<title>`franklab`.`apparatus`</title>\n",
       "<polygon fill=\"#00ff00\" fill-opacity=\"0.188235\" points=\"650.5,-106 518.5,-106 518.5,-71 650.5,-71 650.5,-106\" stroke=\"#00ff00\" stroke-opacity=\"0.188235\"/>\n",
       "<text fill=\"#006400\" font-family=\"arial\" font-size=\"12.00\" text-anchor=\"start\" text-decoration=\"underline\" x=\"526.5\" y=\"-86.4\">`franklab`.`apparatus`</text>\n",
       "</g>\n",
       "<!-- `franklab`.`device` -->\n",
       "<g class=\"node\" id=\"node7\">\n",
       "<title>`franklab`.`device`</title>\n",
       "<polygon fill=\"#00ff00\" fill-opacity=\"0.188235\" points=\"113,-177 0,-177 0,-142 113,-142 113,-177\" stroke=\"#00ff00\" stroke-opacity=\"0.188235\"/>\n",
       "<text fill=\"#006400\" font-family=\"arial\" font-size=\"12.00\" text-anchor=\"start\" text-decoration=\"underline\" x=\"8\" y=\"-157.4\">`franklab`.`device`</text>\n",
       "</g>\n",
       "<!-- `franklab`.`session` -->\n",
       "<g class=\"node\" id=\"node12\">\n",
       "<title>`franklab`.`session`</title>\n",
       "<polygon fill=\"#00ff00\" fill-opacity=\"0.188235\" points=\"385,-106 266,-106 266,-71 385,-71 385,-106\" stroke=\"#00ff00\" stroke-opacity=\"0.188235\"/>\n",
       "<text fill=\"#006400\" font-family=\"arial\" font-size=\"12.00\" text-anchor=\"start\" text-decoration=\"underline\" x=\"274\" y=\"-86.4\">`franklab`.`session`</text>\n",
       "</g>\n",
       "<!-- `franklab`.`device`&#45;&gt;`franklab`.`session` -->\n",
       "<g class=\"edge\" id=\"edge5\">\n",
       "<title>`franklab`.`device`-&gt;`franklab`.`session`</title>\n",
       "<path d=\"M113.2145,-144.2074C116.0156,-143.4594 118.7893,-142.7203 121.5,-142 169.9791,-129.1172 224.9944,-114.701 265.6661,-104.0822\" fill=\"none\" stroke=\"#000000\" stroke-dasharray=\"5,2\" stroke-opacity=\"0.250980\" stroke-width=\".75\"/>\n",
       "</g>\n",
       "<!-- `franklab`.`institution` -->\n",
       "<g class=\"node\" id=\"node9\">\n",
       "<title>`franklab`.`institution`</title>\n",
       "<polygon fill=\"#00ff00\" fill-opacity=\"0.188235\" points=\"260,-177 131,-177 131,-142 260,-142 260,-177\" stroke=\"#00ff00\" stroke-opacity=\"0.188235\"/>\n",
       "<text fill=\"#006400\" font-family=\"arial\" font-size=\"12.00\" text-anchor=\"start\" text-decoration=\"underline\" x=\"139\" y=\"-157.4\">`franklab`.`institution`</text>\n",
       "</g>\n",
       "<!-- `franklab`.`institution`&#45;&gt;`franklab`.`session` -->\n",
       "<g class=\"edge\" id=\"edge6\">\n",
       "<title>`franklab`.`institution`-&gt;`franklab`.`session`</title>\n",
       "<path d=\"M227.6348,-141.9494C247.6351,-131.0262 273.2689,-117.0262 293.2843,-106.0947\" fill=\"none\" stroke=\"#000000\" stroke-dasharray=\"5,2\" stroke-opacity=\"0.250980\" stroke-width=\".75\"/>\n",
       "</g>\n",
       "<!-- `franklab`.`lab` -->\n",
       "<g class=\"node\" id=\"node10\">\n",
       "<title>`franklab`.`lab`</title>\n",
       "<polygon fill=\"#00ff00\" fill-opacity=\"0.188235\" points=\"373,-177 278,-177 278,-142 373,-142 373,-177\" stroke=\"#00ff00\" stroke-opacity=\"0.188235\"/>\n",
       "<text fill=\"#006400\" font-family=\"arial\" font-size=\"12.00\" text-anchor=\"start\" text-decoration=\"underline\" x=\"286\" y=\"-157.4\">`franklab`.`lab`</text>\n",
       "</g>\n",
       "<!-- `franklab`.`lab`&#45;&gt;`franklab`.`session` -->\n",
       "<g class=\"edge\" id=\"edge7\">\n",
       "<title>`franklab`.`lab`-&gt;`franklab`.`session`</title>\n",
       "<path d=\"M325.5,-141.9494C325.5,-131.1083 325.5,-117.2366 325.5,-106.3418\" fill=\"none\" stroke=\"#000000\" stroke-dasharray=\"5,2\" stroke-opacity=\"0.250980\" stroke-width=\".75\"/>\n",
       "</g>\n",
       "<!-- `franklab`.`nwbfile` -->\n",
       "<g class=\"node\" id=\"node11\">\n",
       "<title>`franklab`.`nwbfile`</title>\n",
       "<polygon fill=\"#00ff00\" fill-opacity=\"0.188235\" points=\"642.5,-177 526.5,-177 526.5,-142 642.5,-142 642.5,-177\" stroke=\"#00ff00\" stroke-opacity=\"0.188235\"/>\n",
       "<text fill=\"#006400\" font-family=\"arial\" font-size=\"12.00\" text-anchor=\"start\" text-decoration=\"underline\" x=\"534.5\" y=\"-157.4\">`franklab`.`nwbfile`</text>\n",
       "</g>\n",
       "<!-- `franklab`.`nwbfile`&#45;&gt;`franklab`.`apparatus` -->\n",
       "<g class=\"edge\" id=\"edge8\">\n",
       "<title>`franklab`.`nwbfile`-&gt;`franklab`.`apparatus`</title>\n",
       "<path d=\"M584.5,-141.9494C584.5,-131.1083 584.5,-117.2366 584.5,-106.3418\" fill=\"none\" stroke=\"#000000\" stroke-dasharray=\"5,2\" stroke-opacity=\"0.250980\" stroke-width=\".75\"/>\n",
       "</g>\n",
       "<!-- `franklab`.`nwbfile`&#45;&gt;`franklab`.`session` -->\n",
       "<g class=\"edge\" id=\"edge9\">\n",
       "<title>`franklab`.`nwbfile`-&gt;`franklab`.`session`</title>\n",
       "<path d=\"M526.3753,-143.5662C484.3167,-132.0366 427.6507,-116.5027 385.2272,-104.8731\" fill=\"none\" stroke=\"#000000\" stroke-dasharray=\"5,2\" stroke-opacity=\"0.250980\" stroke-width=\".75\"/>\n",
       "</g>\n",
       "<!-- `franklab`.`session`&#45;&gt;`franklab`.`experimenter` -->\n",
       "<g class=\"edge\" id=\"edge10\">\n",
       "<title>`franklab`.`session`-&gt;`franklab`.`experimenter`</title>\n",
       "<path d=\"M307.9494,-70.9494C297.1083,-60.1083 283.2366,-46.2366 272.3418,-35.3418\" fill=\"none\" stroke=\"#000000\" stroke-opacity=\"0.250980\" stroke-width=\".75\"/>\n",
       "</g>\n",
       "<!-- `franklab`.`subject` -->\n",
       "<g class=\"node\" id=\"node13\">\n",
       "<title>`franklab`.`subject`</title>\n",
       "<polygon fill=\"#00ff00\" fill-opacity=\"0.188235\" points=\"508,-177 391,-177 391,-142 508,-142 508,-177\" stroke=\"#00ff00\" stroke-opacity=\"0.188235\"/>\n",
       "<text fill=\"#006400\" font-family=\"arial\" font-size=\"12.00\" text-anchor=\"start\" text-decoration=\"underline\" x=\"399\" y=\"-157.4\">`franklab`.`subject`</text>\n",
       "</g>\n",
       "<!-- `franklab`.`subject`&#45;&gt;`franklab`.`session` -->\n",
       "<g class=\"edge\" id=\"edge11\">\n",
       "<title>`franklab`.`subject`-&gt;`franklab`.`session`</title>\n",
       "<path d=\"M418.8483,-141.9494C399.7711,-131.0262 375.3205,-117.0262 356.2288,-106.0947\" fill=\"none\" stroke=\"#000000\" stroke-dasharray=\"5,2\" stroke-opacity=\"0.250980\" stroke-width=\".75\"/>\n",
       "</g>\n",
       "</g>\n",
       "</svg>"
      ],
      "text/plain": [
       "<datajoint.diagram.Diagram at 0xa1f52ab38>"
      ]
     },
     "execution_count": 9,
     "metadata": {},
     "output_type": "execute_result"
    }
   ],
   "source": [
    "dj.Diagram(schema)"
   ]
  },
  {
   "cell_type": "code",
   "execution_count": null,
   "metadata": {},
   "outputs": [],
   "source": []
  }
 ],
 "metadata": {
  "kernelspec": {
   "display_name": "Python 3",
   "language": "python",
   "name": "python3"
  },
  "language_info": {
   "codemirror_mode": {
    "name": "ipython",
    "version": 3
   },
   "file_extension": ".py",
   "mimetype": "text/x-python",
   "name": "python",
   "nbconvert_exporter": "python",
   "pygments_lexer": "ipython3",
   "version": "3.7.4"
  }
 },
 "nbformat": 4,
 "nbformat_minor": 4
}
