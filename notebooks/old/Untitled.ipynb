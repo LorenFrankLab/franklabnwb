{
 "cells": [
  {
   "cell_type": "code",
   "execution_count": 1,
   "metadata": {},
   "outputs": [],
   "source": [
    "%load_ext autoreload\n",
    "%autoreload 2\n",
    "\n",
    "import datajoint as dj\n",
    "import os"
   ]
  },
  {
   "cell_type": "code",
   "execution_count": 4,
   "metadata": {},
   "outputs": [
    {
     "name": "stdout",
     "output_type": "stream",
     "text": [
      "/Users/loren/Src/NWB/franklabnwb/franklabnwb\n"
     ]
    }
   ],
   "source": [
    "cd ../franklabnwb"
   ]
  },
  {
   "cell_type": "code",
   "execution_count": 4,
   "metadata": {},
   "outputs": [
    {
     "name": "stdout",
     "output_type": "stream",
     "text": [
      "Please enter DataJoint username: root\n",
      "Please enter DataJoint password: ········\n",
      "Connecting root@localhost:3306\n"
     ]
    }
   ],
   "source": [
    "import probe"
   ]
  },
  {
   "cell_type": "code",
   "execution_count": 5,
   "metadata": {},
   "outputs": [
    {
     "name": "stdout",
     "output_type": "stream",
     "text": [
      "Please enter DataJoint username: root\n",
      "Please enter DataJoint password: ········\n",
      "Connecting root@localhost:3306\n"
     ]
    }
   ],
   "source": [
    "import nwb_dj\n",
    "import session\n",
    "import ephys\n",
    "import device\n",
    "import lab\n",
    "import task\n",
    "import behav\n",
    "import interval\n",
    "\n",
    "import createprobes"
   ]
  },
  {
   "cell_type": "code",
   "execution_count": 43,
   "metadata": {},
   "outputs": [],
   "source": [
    "query = ephys.ElectrodeConfig.Electrode"
   ]
  },
  {
   "cell_type": "code",
   "execution_count": 44,
   "metadata": {},
   "outputs": [
    {
     "ename": "MissingTableError",
     "evalue": "(\"Table 'ephys._electrode_config__electrode' doesn't exist\", 'SELECT * FROM `ephys`.`_electrode_config__electrode`')",
     "output_type": "error",
     "traceback": [
      "\u001b[0;31m---------------------------------------------------------------------------\u001b[0m",
      "\u001b[0;31mMissingTableError\u001b[0m                         Traceback (most recent call last)",
      "\u001b[0;32m<ipython-input-44-d76f883053eb>\u001b[0m in \u001b[0;36m<module>\u001b[0;34m\u001b[0m\n\u001b[0;32m----> 1\u001b[0;31m \u001b[0mquery\u001b[0m\u001b[0;34m.\u001b[0m\u001b[0mfetch\u001b[0m\u001b[0;34m(\u001b[0m\u001b[0;34m)\u001b[0m\u001b[0;34m\u001b[0m\u001b[0;34m\u001b[0m\u001b[0m\n\u001b[0m",
      "\u001b[0;32m~/anaconda3/envs/default/lib/python3.6/site-packages/datajoint/fetch.py\u001b[0m in \u001b[0;36m__call__\u001b[0;34m(self, offset, limit, order_by, format, as_dict, squeeze, download_path, *attrs)\u001b[0m\n\u001b[1;32m    181\u001b[0m                 \u001b[0mret\u001b[0m \u001b[0;34m=\u001b[0m \u001b[0mreturn_values\u001b[0m\u001b[0;34m[\u001b[0m\u001b[0;36m0\u001b[0m\u001b[0;34m]\u001b[0m \u001b[0;32mif\u001b[0m \u001b[0mlen\u001b[0m\u001b[0;34m(\u001b[0m\u001b[0mattrs\u001b[0m\u001b[0;34m)\u001b[0m \u001b[0;34m==\u001b[0m \u001b[0;36m1\u001b[0m \u001b[0;32melse\u001b[0m \u001b[0mreturn_values\u001b[0m\u001b[0;34m\u001b[0m\u001b[0;34m\u001b[0m\u001b[0m\n\u001b[1;32m    182\u001b[0m         \u001b[0;32melse\u001b[0m\u001b[0;34m:\u001b[0m  \u001b[0;31m# fetch all attributes as a numpy.record_array or pandas.DataFrame\u001b[0m\u001b[0;34m\u001b[0m\u001b[0;34m\u001b[0m\u001b[0m\n\u001b[0;32m--> 183\u001b[0;31m             \u001b[0mcur\u001b[0m \u001b[0;34m=\u001b[0m \u001b[0mself\u001b[0m\u001b[0;34m.\u001b[0m\u001b[0m_expression\u001b[0m\u001b[0;34m.\u001b[0m\u001b[0mcursor\u001b[0m\u001b[0;34m(\u001b[0m\u001b[0mas_dict\u001b[0m\u001b[0;34m=\u001b[0m\u001b[0mas_dict\u001b[0m\u001b[0;34m,\u001b[0m \u001b[0mlimit\u001b[0m\u001b[0;34m=\u001b[0m\u001b[0mlimit\u001b[0m\u001b[0;34m,\u001b[0m \u001b[0moffset\u001b[0m\u001b[0;34m=\u001b[0m\u001b[0moffset\u001b[0m\u001b[0;34m,\u001b[0m \u001b[0morder_by\u001b[0m\u001b[0;34m=\u001b[0m\u001b[0morder_by\u001b[0m\u001b[0;34m)\u001b[0m\u001b[0;34m\u001b[0m\u001b[0;34m\u001b[0m\u001b[0m\n\u001b[0m\u001b[1;32m    184\u001b[0m             \u001b[0mheading\u001b[0m \u001b[0;34m=\u001b[0m \u001b[0mself\u001b[0m\u001b[0;34m.\u001b[0m\u001b[0m_expression\u001b[0m\u001b[0;34m.\u001b[0m\u001b[0mheading\u001b[0m\u001b[0;34m\u001b[0m\u001b[0;34m\u001b[0m\u001b[0m\n\u001b[1;32m    185\u001b[0m             \u001b[0;32mif\u001b[0m \u001b[0mas_dict\u001b[0m\u001b[0;34m:\u001b[0m\u001b[0;34m\u001b[0m\u001b[0;34m\u001b[0m\u001b[0m\n",
      "\u001b[0;32m~/anaconda3/envs/default/lib/python3.6/site-packages/datajoint/expression.py\u001b[0m in \u001b[0;36mcursor\u001b[0;34m(self, offset, limit, order_by, as_dict)\u001b[0m\n\u001b[1;32m    572\u001b[0m             \u001b[0msql\u001b[0m \u001b[0;34m+=\u001b[0m \u001b[0;34m' LIMIT %d'\u001b[0m \u001b[0;34m%\u001b[0m \u001b[0mlimit\u001b[0m \u001b[0;34m+\u001b[0m \u001b[0;34m(\u001b[0m\u001b[0;34m' OFFSET %d'\u001b[0m \u001b[0;34m%\u001b[0m \u001b[0moffset\u001b[0m \u001b[0;32mif\u001b[0m \u001b[0moffset\u001b[0m \u001b[0;32melse\u001b[0m \u001b[0;34m\"\"\u001b[0m\u001b[0;34m)\u001b[0m\u001b[0;34m\u001b[0m\u001b[0;34m\u001b[0m\u001b[0m\n\u001b[1;32m    573\u001b[0m         \u001b[0mlogger\u001b[0m\u001b[0;34m.\u001b[0m\u001b[0mdebug\u001b[0m\u001b[0;34m(\u001b[0m\u001b[0msql\u001b[0m\u001b[0;34m)\u001b[0m\u001b[0;34m\u001b[0m\u001b[0;34m\u001b[0m\u001b[0m\n\u001b[0;32m--> 574\u001b[0;31m         \u001b[0;32mreturn\u001b[0m \u001b[0mself\u001b[0m\u001b[0;34m.\u001b[0m\u001b[0mconnection\u001b[0m\u001b[0;34m.\u001b[0m\u001b[0mquery\u001b[0m\u001b[0;34m(\u001b[0m\u001b[0msql\u001b[0m\u001b[0;34m,\u001b[0m \u001b[0mas_dict\u001b[0m\u001b[0;34m=\u001b[0m\u001b[0mas_dict\u001b[0m\u001b[0;34m)\u001b[0m\u001b[0;34m\u001b[0m\u001b[0;34m\u001b[0m\u001b[0m\n\u001b[0m\u001b[1;32m    575\u001b[0m \u001b[0;34m\u001b[0m\u001b[0m\n\u001b[1;32m    576\u001b[0m \u001b[0;34m\u001b[0m\u001b[0m\n",
      "\u001b[0;32m~/anaconda3/envs/default/lib/python3.6/site-packages/datajoint/connection.py\u001b[0m in \u001b[0;36mquery\u001b[0;34m(self, query, args, as_dict, suppress_warnings, reconnect)\u001b[0m\n\u001b[1;32m    209\u001b[0m         \u001b[0mcursor\u001b[0m \u001b[0;34m=\u001b[0m \u001b[0mself\u001b[0m\u001b[0;34m.\u001b[0m\u001b[0m_conn\u001b[0m\u001b[0;34m.\u001b[0m\u001b[0mcursor\u001b[0m\u001b[0;34m(\u001b[0m\u001b[0mcursor\u001b[0m\u001b[0;34m=\u001b[0m\u001b[0mcursor_class\u001b[0m\u001b[0;34m)\u001b[0m\u001b[0;34m\u001b[0m\u001b[0;34m\u001b[0m\u001b[0m\n\u001b[1;32m    210\u001b[0m         \u001b[0;32mtry\u001b[0m\u001b[0;34m:\u001b[0m\u001b[0;34m\u001b[0m\u001b[0;34m\u001b[0m\u001b[0m\n\u001b[0;32m--> 211\u001b[0;31m             \u001b[0mself\u001b[0m\u001b[0;34m.\u001b[0m\u001b[0m__execute_query\u001b[0m\u001b[0;34m(\u001b[0m\u001b[0mcursor\u001b[0m\u001b[0;34m,\u001b[0m \u001b[0mquery\u001b[0m\u001b[0;34m,\u001b[0m \u001b[0margs\u001b[0m\u001b[0;34m,\u001b[0m \u001b[0mcursor_class\u001b[0m\u001b[0;34m,\u001b[0m \u001b[0msuppress_warnings\u001b[0m\u001b[0;34m)\u001b[0m\u001b[0;34m\u001b[0m\u001b[0;34m\u001b[0m\u001b[0m\n\u001b[0m\u001b[1;32m    212\u001b[0m         \u001b[0;32mexcept\u001b[0m \u001b[0merrors\u001b[0m\u001b[0;34m.\u001b[0m\u001b[0mLostConnectionError\u001b[0m\u001b[0;34m:\u001b[0m\u001b[0;34m\u001b[0m\u001b[0;34m\u001b[0m\u001b[0m\n\u001b[1;32m    213\u001b[0m             \u001b[0;32mif\u001b[0m \u001b[0;32mnot\u001b[0m \u001b[0mreconnect\u001b[0m\u001b[0;34m:\u001b[0m\u001b[0;34m\u001b[0m\u001b[0;34m\u001b[0m\u001b[0m\n",
      "\u001b[0;32m~/anaconda3/envs/default/lib/python3.6/site-packages/datajoint/connection.py\u001b[0m in \u001b[0;36m__execute_query\u001b[0;34m(cursor, query, args, cursor_class, suppress_warnings)\u001b[0m\n\u001b[1;32m    191\u001b[0m                 \u001b[0mcursor\u001b[0m\u001b[0;34m.\u001b[0m\u001b[0mexecute\u001b[0m\u001b[0;34m(\u001b[0m\u001b[0mquery\u001b[0m\u001b[0;34m,\u001b[0m \u001b[0margs\u001b[0m\u001b[0;34m)\u001b[0m\u001b[0;34m\u001b[0m\u001b[0;34m\u001b[0m\u001b[0m\n\u001b[1;32m    192\u001b[0m         \u001b[0;32mexcept\u001b[0m \u001b[0mclient_errors\u001b[0m \u001b[0;32mas\u001b[0m \u001b[0merr\u001b[0m\u001b[0;34m:\u001b[0m\u001b[0;34m\u001b[0m\u001b[0;34m\u001b[0m\u001b[0m\n\u001b[0;32m--> 193\u001b[0;31m             \u001b[0;32mraise\u001b[0m \u001b[0mtranslate_query_error\u001b[0m\u001b[0;34m(\u001b[0m\u001b[0merr\u001b[0m\u001b[0;34m,\u001b[0m \u001b[0mquery\u001b[0m\u001b[0;34m)\u001b[0m \u001b[0;32mfrom\u001b[0m \u001b[0;32mNone\u001b[0m\u001b[0;34m\u001b[0m\u001b[0;34m\u001b[0m\u001b[0m\n\u001b[0m\u001b[1;32m    194\u001b[0m \u001b[0;34m\u001b[0m\u001b[0m\n\u001b[1;32m    195\u001b[0m     \u001b[0;32mdef\u001b[0m \u001b[0mquery\u001b[0m\u001b[0;34m(\u001b[0m\u001b[0mself\u001b[0m\u001b[0;34m,\u001b[0m \u001b[0mquery\u001b[0m\u001b[0;34m,\u001b[0m \u001b[0margs\u001b[0m\u001b[0;34m=\u001b[0m\u001b[0;34m(\u001b[0m\u001b[0;34m)\u001b[0m\u001b[0;34m,\u001b[0m \u001b[0;34m*\u001b[0m\u001b[0;34m,\u001b[0m \u001b[0mas_dict\u001b[0m\u001b[0;34m=\u001b[0m\u001b[0;32mFalse\u001b[0m\u001b[0;34m,\u001b[0m \u001b[0msuppress_warnings\u001b[0m\u001b[0;34m=\u001b[0m\u001b[0;32mTrue\u001b[0m\u001b[0;34m,\u001b[0m \u001b[0mreconnect\u001b[0m\u001b[0;34m=\u001b[0m\u001b[0;32mNone\u001b[0m\u001b[0;34m)\u001b[0m\u001b[0;34m:\u001b[0m\u001b[0;34m\u001b[0m\u001b[0;34m\u001b[0m\u001b[0m\n",
      "\u001b[0;31mMissingTableError\u001b[0m: (\"Table 'ephys._electrode_config__electrode' doesn't exist\", 'SELECT * FROM `ephys`.`_electrode_config__electrode`')"
     ]
    }
   ],
   "source": [
    "query.fetch()"
   ]
  },
  {
   "cell_type": "code",
   "execution_count": 40,
   "metadata": {},
   "outputs": [
    {
     "data": {
      "text/plain": [
       "array([('/data/mkarlsso/Bon/NWB/bon03.nwb', 'task epoch 0', array([1.13614807e+09, 1.13614919e+09])),\n",
       "       ('/data/mkarlsso/Bon/NWB/bon03.nwb', 'task epoch 2', array([1.13615033e+09, 1.13615109e+09])),\n",
       "       ('/data/mkarlsso/Bon/NWB/bon03.nwb', 'task epoch 4', array([1.13615223e+09, 1.13615314e+09])),\n",
       "       ('/data/mkarlsso/Bon/NWB/bon03.nwb', 'task epoch 6', array([1.13615446e+09, 1.13615566e+09])),\n",
       "       ('/data/mkarlsso/Bon/NWB/bon04.nwb', 'task epoch 0', array([1.13614661e+09, 1.13614794e+09])),\n",
       "       ('/data/mkarlsso/Bon/NWB/bon04.nwb', 'task epoch 2', array([1.13614908e+09, 1.13615003e+09])),\n",
       "       ('/data/mkarlsso/Bon/NWB/bon04.nwb', 'task epoch 4', array([1.13615118e+09, 1.13615241e+09])),\n",
       "       ('/data/mkarlsso/Bon/NWB/bon04.nwb', 'task epoch 6', array([1.13615411e+09, 1.13615495e+09]))],\n",
       "      dtype=[('nwb_file_name', 'O'), ('interval_name', 'O'), ('valid_times', 'O')])"
      ]
     },
     "execution_count": 40,
     "metadata": {},
     "output_type": "execute_result"
    }
   ],
   "source": [
    "sleep_intervals = (interval.IntervalList() & (task.TaskEpoch() & 'task_name = \"Sleep\"')).fetch()\n",
    "sleep_intervals"
   ]
  },
  {
   "cell_type": "code",
   "execution_count": 33,
   "metadata": {},
   "outputs": [
    {
     "data": {
      "text/plain": [
       "array([('/data/mkarlsso/Bon/NWB/bon03.nwb', '01', 1, 'NSpike acquisition system', 'tetrode 1 located in CA3 on day 3', 'Right'),\n",
       "       ('/data/mkarlsso/Bon/NWB/bon03.nwb', '02', 1, 'NSpike acquisition system', 'tetrode 2 located in CA3 on day 3', 'Right'),\n",
       "       ('/data/mkarlsso/Bon/NWB/bon03.nwb', '03', 2, 'NSpike acquisition system', 'tetrode 3 located in CA1 on day 3', 'Right'),\n",
       "       ('/data/mkarlsso/Bon/NWB/bon03.nwb', '04', 2, 'NSpike acquisition system', 'tetrode 4 located in CA1 on day 3', 'Right'),\n",
       "       ('/data/mkarlsso/Bon/NWB/bon03.nwb', '05', 2, 'NSpike acquisition system', 'tetrode 5 located in CA1 on day 3', 'Right'),\n",
       "       ('/data/mkarlsso/Bon/NWB/bon03.nwb', '06', 3, 'NSpike acquisition system', 'tetrode 6 located in ? on day 3', 'Right'),\n",
       "       ('/data/mkarlsso/Bon/NWB/bon03.nwb', '07', 1, 'NSpike acquisition system', 'tetrode 7 located in CA3 on day 3', 'Right'),\n",
       "       ('/data/mkarlsso/Bon/NWB/bon03.nwb', '08', 1, 'NSpike acquisition system', 'tetrode 8 located in CA3 on day 3', 'Right'),\n",
       "       ('/data/mkarlsso/Bon/NWB/bon03.nwb', '10', 1, 'NSpike acquisition system', 'tetrode 10 located in CA3 on day 3', 'Right'),\n",
       "       ('/data/mkarlsso/Bon/NWB/bon03.nwb', '11', 2, 'NSpike acquisition system', 'tetrode 11 located in CA1 on day 3', 'Right'),\n",
       "       ('/data/mkarlsso/Bon/NWB/bon03.nwb', '12', 2, 'NSpike acquisition system', 'tetrode 12 located in CA1 on day 3', 'Right'),\n",
       "       ('/data/mkarlsso/Bon/NWB/bon03.nwb', '13', 2, 'NSpike acquisition system', 'tetrode 13 located in CA1 on day 3', 'Right'),\n",
       "       ('/data/mkarlsso/Bon/NWB/bon03.nwb', '14', 2, 'NSpike acquisition system', 'tetrode 14 located in CA1 on day 3', 'Right'),\n",
       "       ('/data/mkarlsso/Bon/NWB/bon03.nwb', '15', 3, 'NSpike acquisition system', 'tetrode 15 located in ? on day 3', 'Right'),\n",
       "       ('/data/mkarlsso/Bon/NWB/bon03.nwb', '17', 2, 'NSpike acquisition system', 'tetrode 17 located in CA1 on day 3', 'Right'),\n",
       "       ('/data/mkarlsso/Bon/NWB/bon03.nwb', '18', 1, 'NSpike acquisition system', 'tetrode 18 located in CA3 on day 3', 'Right'),\n",
       "       ('/data/mkarlsso/Bon/NWB/bon03.nwb', '19', 1, 'NSpike acquisition system', 'tetrode 19 located in CA3 on day 3', 'Right'),\n",
       "       ('/data/mkarlsso/Bon/NWB/bon03.nwb', '20', 1, 'NSpike acquisition system', 'tetrode 20 located in CA3 on day 3', 'Right'),\n",
       "       ('/data/mkarlsso/Bon/NWB/bon03.nwb', '21', 1, 'NSpike acquisition system', 'tetrode 21 located in CA3 on day 3', 'Right'),\n",
       "       ('/data/mkarlsso/Bon/NWB/bon03.nwb', '22', 1, 'NSpike acquisition system', 'tetrode 22 located in CA3 on day 3', 'Right'),\n",
       "       ('/data/mkarlsso/Bon/NWB/bon03.nwb', '23', 1, 'NSpike acquisition system', 'tetrode 23 located in CA3 on day 3', 'Right'),\n",
       "       ('/data/mkarlsso/Bon/NWB/bon03.nwb', '24', 2, 'NSpike acquisition system', 'tetrode 24 located in CA1 on day 3', 'Right'),\n",
       "       ('/data/mkarlsso/Bon/NWB/bon03.nwb', '25', 1, 'NSpike acquisition system', 'tetrode 25 located in CA3 on day 3', 'Right'),\n",
       "       ('/data/mkarlsso/Bon/NWB/bon03.nwb', '27', 4, 'NSpike acquisition system', 'tetrode 27 located in ??? on day 3', 'Right'),\n",
       "       ('/data/mkarlsso/Bon/NWB/bon03.nwb', '28', 2, 'NSpike acquisition system', 'tetrode 28 located in CA1 on day 3', 'Right'),\n",
       "       ('/data/mkarlsso/Bon/NWB/bon03.nwb', '29', 2, 'NSpike acquisition system', 'tetrode 29 located in CA1 on day 3', 'Right'),\n",
       "       ('/data/mkarlsso/Bon/NWB/bon03.nwb', '30', 5, 'NSpike acquisition system', 'tetrode 30 located in Reference on day 3', 'Right')],\n",
       "      dtype=[('nwb_file_name', 'O'), ('electrode_group_name', 'O'), ('region_id', '<i8'), ('device_name', 'O'), ('description', 'O'), ('target_hemisphere', 'O')])"
      ]
     },
     "execution_count": 33,
     "metadata": {},
     "output_type": "execute_result"
    }
   ],
   "source": [
    "ephys.ElectrodeConfig"
   ]
  },
  {
   "cell_type": "code",
   "execution_count": null,
   "metadata": {},
   "outputs": [],
   "source": []
  }
 ],
 "metadata": {
  "kernelspec": {
   "display_name": "Python 3",
   "language": "python",
   "name": "python3"
  },
  "language_info": {
   "codemirror_mode": {
    "name": "ipython",
    "version": 3
   },
   "file_extension": ".py",
   "mimetype": "text/x-python",
   "name": "python",
   "nbconvert_exporter": "python",
   "pygments_lexer": "ipython3",
   "version": "3.7.4"
  }
 },
 "nbformat": 4,
 "nbformat_minor": 4
}
