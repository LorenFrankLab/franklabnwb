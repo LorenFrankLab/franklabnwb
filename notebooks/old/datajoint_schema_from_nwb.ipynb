{
 "cells": [
  {
   "cell_type": "code",
   "execution_count": null,
   "metadata": {},
   "outputs": [],
   "source": [
    "### Notes\n",
    "# 1. It would be easier if NWB objects were iterable, as then we could go through assign the fields directly to datajoint schema (perhaps)\n",
    "# 2. Age field in NWB is a bit odd\n",
    "# 3. Is there a way to list all of the fields in a class after it has been created?\n"
   ]
  },
  {
   "cell_type": "markdown",
   "metadata": {},
   "source": [
    "### Setup code"
   ]
  },
  {
   "cell_type": "code",
   "execution_count": 5,
   "metadata": {},
   "outputs": [],
   "source": [
    "%load_ext autoreload\n",
    "%autoreload 1"
   ]
  },
  {
   "cell_type": "code",
   "execution_count": 3,
   "metadata": {},
   "outputs": [],
   "source": [
    "import datajoint as dj\n",
    "\n",
    "import os\n",
    "\n",
    "import numpy as np\n",
    "from datetime import datetime\n",
    "from dateutil import tz\n",
    "import matplotlib.pyplot as plt\n",
    "import matplotlib.dates as mdates\n",
    "import matplotlib.ticker as mticker\n",
    "\n",
    "import pynwb\n",
    "\n",
    "# run: pip install -e /path/to/franklabnwb to install package\n",
    "from franklabnwb import fl_ns_path\n",
    "import franklabnwb.nspike_helpers as ns\n",
    "import franklabnwb.query_helpers as qu\n",
    "import franklabnwb.fl_extension as fle\n",
    "import franklabnwb.fl_extension as flh"
   ]
  },
  {
   "cell_type": "code",
   "execution_count": 30,
   "metadata": {},
   "outputs": [],
   "source": [
    "pynwb.load_namespaces(fl_ns_path)\n",
    "\n",
    "dj.config['database.host'] = '127.0.0.1'\n",
    "dj.config['database.user'] = 'root'\n",
    "dj.config['database.password'] = 'tutorial'"
   ]
  },
  {
   "cell_type": "code",
   "execution_count": 32,
   "metadata": {},
   "outputs": [],
   "source": [
    "schema = dj.schema('franklab', locals())\n"
   ]
  },
  {
   "cell_type": "code",
   "execution_count": 7,
   "metadata": {},
   "outputs": [],
   "source": [
    "# read in subject information from an NWB file\n",
    "data_dir, data_src = os.path.expanduser('/data/mkarlsso/Bon/'), 'local'\n",
    "#data_dir, data_src = os.path.expanduser('~/Data/FrankData/kkay/Bon/'), 'local'\n",
    "nwb_dir = data_dir + 'NWB/'\n",
    "# data_dir, data_src = os.path.expanduser('~/Data/FrankData/CRCNS/Bon'), 'CRCNS'\n",
    "\n",
    "anim = 'Bon' \n",
    "day = 4 # below we'll code date as 2006-Jan-'Day'\n",
    "day_str = '%02d' % day\n",
    "nwb_filename = nwb_dir + anim + day_str + '.nwb'\n",
    "\n",
    "assert os.path.exists(nwb_filename), 'NWB File does not exist: \"{}\".'.format(nwb_filename)"
   ]
  },
  {
   "cell_type": "markdown",
   "metadata": {},
   "source": [
    "### Define schema list and dependencies"
   ]
  },
  {
   "cell_type": "code",
   "execution_count": 11,
   "metadata": {},
   "outputs": [],
   "source": [
    "# Create a list of all the schema to create from the NWB file and the order they should be created\n",
    "franklab_schema_list = list()\n",
    "franklab_schema_list.append('Nwbfile')\n",
    "franklab_schema_list.append('Subject')\n",
    "#franklab_schema_list.append('ProbeType') # not in NWB file; populated from description of electrode groups.\n",
    "#franklab_schema_list.append('Probe') # not in NWB file; populated from description of electrode groups.\n",
    "franklab_schema_list.append('LabMember') # not in the NWB file, and is created separately\n",
    "franklab_schema_list.append('Institution')\n",
    "franklab_schema_list.append('Lab')\n",
    "franklab_schema_list.append('Device')\n",
    "franklab_schema_list.append('Apparatus')\n",
    "franklab_schema_list.append('Session')\n",
    "franklab_schema_list.append('Experimenter')\n",
    "# ElectrodeConfig includes both Electrode Groups and the electrode table\n",
    "#franklab_schema_list.append('ElectrodeConfig')\n",
    "#franklab_schema_list.append('ElectrodeGroup')\n",
    "\n",
    "\n",
    "# create a dictionary of dependencies for key fields \n",
    "franklab_schema_depend_key = dict()\n",
    "for s in franklab_schema_list:\n",
    "    franklab_schema_depend_key[s]=list()\n",
    "    \n",
    "# create a dictionary of dependencies for key fields and non key fields\n",
    "franklab_schema_depend = dict()\n",
    "for s in franklab_schema_list:\n",
    "    franklab_schema_depend[s]=list()\n",
    "        \n",
    "# the Session schema also depends on other high level schema\n",
    "franklab_schema_depend_key['Session'].append('Nwbfile')\n",
    "franklab_schema_depend['Session'].append('Subject')\n",
    "franklab_schema_depend['Session'].append('Institution')\n",
    "franklab_schema_depend['Session'].append('Lab')\n",
    "\n",
    "franklab_schema_depend_key['Experimenter'].append('LabMember')\n",
    "franklab_schema_depend_key['Experimenter'].append('Session')\n",
    "\n",
    "#franklab_schema_depend_key['Probe'].append('ProbeType')\n",
    "\n",
    "franklab_schema_depend['Apparatus'].append('Nwbfile')\n",
    "#franklab_schema_depend['Task'].append('Nwbfile')\n",
    "\n",
    "#franklab_schema_depend['ElectrodeConfig'].append('Nwbfile')\n",
    "#franklab_schema_depend['ElectrodeConfig'].append('Probe')\n",
    "#franklab_schema_depend['ElectrodeGroup'].append('Device')\n",
    "\n",
    "#create a list of name mappings from NWB field names to DataJoint field names\n",
    "franklab_schema_name_map=dict()\n",
    "# within each schema name there is a second dictionary of maps\n",
    "franklab_schema_name_map['Device'] = dict()\n",
    "# map name to device_name\n",
    "franklab_schema_name_map['Device']['name'] = 'device_name'\n",
    "\n",
    "#franklab_schema_name_map['ElectrodeGroup'] = dict()\n",
    "# map the name of the electrode group to an nTrode field\n",
    "#franklab_schema_name_map['ElectrodeGroup']['name'] = 'nTrode'\n",
    "\n",
    "\n"
   ]
  },
  {
   "cell_type": "markdown",
   "metadata": {},
   "source": [
    "### Write a datajoint schema file from the NWB file"
   ]
  },
  {
   "cell_type": "code",
   "execution_count": 12,
   "metadata": {},
   "outputs": [],
   "source": [
    "franklab_djschemafile = 'franklab_dj_schema.py'\n",
    "djschema_f = open(franklab_djschemafile, \"w\")\n",
    "\n",
    "djschema_f.write(\"#Test of automatic datajoint schema generation from NWB file\\n\")\n",
    "\n",
    "\n",
    "def datajoint_type(nwbfield):\n",
    "    # return a string corresponding to the datajoint type corresponding to the nwb field\n",
    "    if (isinstance(nwbfield, str)): return 'varchar(80)'\n",
    "    if (isinstance(nwbfield, datetime)): return 'datetime'\n",
    "    if (isinstance(nwbfield, float)): return 'float'\n",
    "    if (isinstance(nwbfield, int)): return 'int'\n",
    "    # if none match, as is the case for internal objects, return a string equivalent so we can refer to the object\n",
    "    # by name\n",
    "#    return 'varchar(80)'\n",
    "    return None\n",
    "   \n",
    "def write_depend_fields(f, indent_str, schema_depend, schema_list):\n",
    "    # f is the name of the schema file\n",
    "    # indent_str is a string of spaces for the indent\n",
    "    # schema_depend is the list of schema that should be in the depend list\n",
    "    # schema_list is the full list of schema. This is used to make sure that schema_depend is defined.\n",
    "    # write out the list of other schema that this schema depends on\n",
    "    for sd in schema_depend:\n",
    "        if sd in schema_list:\n",
    "            f.write('{}-> {}\\n'.format(indent_str,sd))\n",
    "\n",
    "def write_non_key_fields(f, indent_str, nwb_fields, ignore_fields=None):\n",
    "    #write out non key fields.\n",
    "    #f is the handle to the output file\n",
    "    #indent_str is a string of spaces for the indent\n",
    "    #nwbf_fields is the list of fields and values from the nwb_object\n",
    "    #ignore_fields is a list of fields that includes the key for the datajoint schema object and any other fields we don't want to create entries for\n",
    "    for field_name in nwb_fields:\n",
    "        if field_name not in ignore_fields :\n",
    "            # deal with special cases\n",
    "            if field_name == 'sex':\n",
    "                f.write(\"{}sex: enum('M', 'F', 'U')\\n\".format(indent_str))\n",
    "            else :\n",
    "#                print('writing field {}'.format(field_name))\n",
    "#                print(nwb_fields)\n",
    "                if datajoint_type(nwb_fields[field_name]) != None:\n",
    "                    f.write('{}{}: {}\\n'.format(indent_str, field_name, datajoint_type(nwb_fields[field_name])))\n",
    "\n",
    "def write_schema_list(f, nwb_file_name, schema_list, schema_depend_key_dict, schema_depend_dict):\n",
    "    if nwb_file_name[0] != '/':\n",
    "        print('Error: the full path to the nwb_file must be specified')\n",
    "        return\n",
    "    \n",
    "    io = pynwb.NWBHDF5IO(nwb_file_name, mode='r')\n",
    "    nwbf = io.read()\n",
    "    # write out the header\n",
    "    f.write('import datajoint as dj\\n')\n",
    "    f.write('franklab_schema = dj.schema(\"franklab\", locals())\\n')\n",
    "    #write out all of the schema in the list. Note that right now these have to be listed in the right order \n",
    "    for nwb_object_type in schema_list:\n",
    "        write_schema(f, nwbf, nwb_file_name, nwb_object_type, schema_list, schema_depend_key_dict, schema_depend_dict)\n",
    "    \n",
    "    \n",
    "# Subject schema\n",
    "def write_schema(f, nwbf, nwb_file_name, nwb_object_type, schema_list, schema_depend_key_dict, schema_depend_dict):\n",
    "    # write the specified schema type to the file.\n",
    "    # f is the handle to the output file\n",
    "    # nwbf is the handle to the nwbfile\n",
    "    # schema_type is the name of the NWB object type\n",
    "    #print('NWB Object type = {}'.format(nwb_object_type))\n",
    "\n",
    "    # check to see if the specified schema has dependencies\n",
    "    try:\n",
    "        schema_depend = schema_depend_dict[nwb_object_type]\n",
    "        schema_depend_key = schema_depend_key_dict[nwb_object_type]\n",
    "    except:\n",
    "        schema_depend = None\n",
    "        schema_depend_key = None\n",
    "        \n",
    "\n",
    "    f.write('@franklab_schema\\nclass ')\n",
    "    \"\"\"\n",
    "    NWBFile\n",
    "    \"\"\"\n",
    "    indent_str = \" \" * 4\n",
    "    if (nwb_object_type.lower() == 'nwbfile'):\n",
    "        print('Creating a Nwbfile schema')\n",
    "        # create a Subject schema in DataJoint\n",
    "        f.write('{}(dj.Manual):\\n     definition = \"\"\"\\n'.format(nwb_object_type.capitalize()))\n",
    "        # get the fields of the Subject object\n",
    "\n",
    "        key_field = 'file_name'\n",
    "        # write out the key field\n",
    "        f.write('{}{}: {}\\n'.format(indent_str,key_field,datajoint_type(key_field)))\n",
    "        write_depend_fields(f, indent_str, schema_depend_key, schema_list)\n",
    "        f.write('{}---\\n'.format(indent_str))\n",
    "        write_depend_fields(f, indent_str, schema_depend, schema_list)\n",
    "        f.write('{}\"\"\"\\n\\n\\n'.format(indent_str))    \n",
    "    \"\"\"\n",
    "    Subject\n",
    "    \"\"\"\n",
    "    if (nwb_object_type.lower() == 'subject'):\n",
    "        print('Creating a Subject schema')\n",
    "        # create a Subject schema in DataJoint\n",
    "        f.write('{}(dj.Manual):\\n{}definition = \"\"\"\\n'.format(nwb_object_type.capitalize(), indent_str))\n",
    "        # get the fields of the Subject object\n",
    "        sub = nwbf.subject.fields\n",
    "        # set the name of the key field\n",
    "        key_field = 'subject_id'\n",
    "        # write out the key field\n",
    "        f.write('{}{}: {}\\n'.format(indent_str,key_field,datajoint_type(sub[key_field])))\n",
    "        write_depend_fields(f, indent_str, schema_depend_key, schema_list)\n",
    "        f.write('{}---\\n'.format(indent_str))\n",
    "        write_depend_fields(f, indent_str, schema_depend, schema_list)\n",
    "        # loop through the rest of the variables in the nwb object\n",
    "        write_non_key_fields(f, indent_str, sub, key_field)\n",
    "        f.write('{}\"\"\"\\n\\n\\n'.format(indent_str))\n",
    "    \"\"\"\n",
    "    Device\n",
    "    \"\"\"\n",
    "    if nwb_object_type.lower() == 'device':\n",
    "        print('Creating a Device schema')\n",
    "        # create a Subject schema in DataJoint\n",
    "        f.write('{}(dj.Manual):\\n{}definition = \"\"\"\\n'.format(nwb_object_type.capitalize(), indent_str))\n",
    "        # get the fields of the Devices object. This is a labelled dictionary, so we get the keys and convert to a list\n",
    "        dev = list(nwbf.devices)\n",
    "        # set the name of the key field\n",
    "        key_field = 'device_name'\n",
    "        # write out the key field\n",
    "        f.write('{}{}: {}\\n'.format(indent_str,key_field,datajoint_type(dev[0])))\n",
    "        write_depend_fields(f, indent_str, schema_depend_key, schema_list)\n",
    "        f.write('{}---\\n'.format(indent_str))\n",
    "        write_depend_fields(f, indent_str, schema_depend, schema_list)\n",
    "        f.write('{}\"\"\"\\n\\n\\n'.format(indent_str))\n",
    "    \"\"\"\n",
    "    LabMember\n",
    "    \"\"\"\n",
    "    if nwb_object_type.lower() == 'labmember':\n",
    "        print('Creating a LabMember schema')\n",
    "        # create a LabMember schema in DataJoint\n",
    "        f.write('{}(dj.Lookup):\\n{}definition = \"\"\"\\n'.format(nwb_object_type, indent_str))\n",
    "        # set the name of the key field\n",
    "        key_field = 'lab_member_name'\n",
    "        # write out the key field\n",
    "        f.write('{}{}: varchar(80)\\n'.format(indent_str,key_field))\n",
    "        write_depend_fields(f, indent_str, schema_depend_key, schema_list)\n",
    "        f.write('{}---\\n'.format(indent_str))\n",
    "        write_depend_fields(f, indent_str, schema_depend, schema_list)\n",
    "        f.write('{}\"\"\"\\n\\n\\n'.format(indent_str))\n",
    "    \"\"\"\n",
    "    ProbeType\n",
    "    Probe\n",
    "    Not currently part of NWB file, so we use a manually written version for now\n",
    "    \"\"\"\n",
    "\n",
    "    \"\"\"\n",
    "    Experimenter\n",
    "    \"\"\"\n",
    "    if nwb_object_type.lower() == 'experimenter':\n",
    "        print('Creating an Experimenter schema')\n",
    "        # create a Subject schema in DataJoint\n",
    "        f.write('{}(dj.Manual):\\n{}definition = \"\"\"\\n'.format(nwb_object_type.capitalize(), indent_str))\n",
    "        experimenter = nwbf.experimenter\n",
    "        # set the name of the key field\n",
    "        key_field = 'experimenter_name'\n",
    "        # write out the key field\n",
    "        f.write('{}{}: {}\\n'.format(indent_str, key_field, datajoint_type(experimenter)))\n",
    "        write_depend_fields(f, indent_str, schema_depend_key, schema_list)\n",
    "        f.write('{}---\\n'.format(indent_str))\n",
    "        write_depend_fields(f, indent_str, schema_depend, schema_list)\n",
    "        f.write('{}\"\"\"\\n\\n\\n'.format(indent_str))\n",
    "    \"\"\"\n",
    "    Institution\n",
    "    \"\"\"\n",
    "    if nwb_object_type.lower() == 'institution':\n",
    "        print('Creating an Institution schema')\n",
    "        # create a Subject schema in DataJoint\n",
    "        f.write('{}(dj.Manual):\\n{}definition = \"\"\"\\n'.format(nwb_object_type.capitalize(), indent_str))\n",
    "        institution = nwbf.institution\n",
    "        # set the name of the key field\n",
    "        key_field = 'institution_name'\n",
    "        # write out the key field\n",
    "        f.write('{}{}: {}\\n'.format(indent_str, key_field,datajoint_type(institution)))\n",
    "        write_depend_fields(f, indent_str, schema_depend_key, schema_list)\n",
    "        f.write('{}---\\n'.format(indent_str))\n",
    "        write_depend_fields(f, indent_str, schema_depend, schema_list)\n",
    "        f.write('{}\"\"\"\\n\\n\\n'.format(indent_str))\n",
    "    \"\"\"\n",
    "    Lab\n",
    "    \"\"\"\n",
    "    if nwb_object_type.lower() == 'lab':\n",
    "        print('Creating a Lab schema')\n",
    "        # create a Lab schema in DataJoint\n",
    "        f.write('{}(dj.Manual):\\n     definition = \"\"\"\\n'.format(nwb_object_type.capitalize()))\n",
    "        lab = nwbf.lab\n",
    "        # set the name of the key field\n",
    "        key_field = 'lab_name'\n",
    "        # write out the key field\n",
    "        f.write('{}{}: {}\\n'.format(indent_str, key_field, datajoint_type(lab)))\n",
    "        write_depend_fields(f, indent_str, schema_depend_key, schema_list)\n",
    "        f.write('{}---\\n'.format(indent_str))\n",
    "        write_depend_fields(f, indent_str, schema_depend, schema_list)\n",
    "        f.write('{}\"\"\"\\n\\n\\n'.format(indent_str))\n",
    "    \"\"\"\n",
    "    Apparatus\n",
    "    \"\"\"\n",
    "    if nwb_object_type.lower() == 'apparatus':\n",
    "        print('Creating an Apparatus schema')\n",
    "        # create an Apparatus schema in DataJoint\n",
    "        f.write('{}(dj.Manual):\\n     definition = \"\"\"\\n'.format(nwb_object_type.capitalize()))\n",
    "        # set the name of the key field\n",
    "        key_field = 'apparatus_name'\n",
    "        # write out the key field\n",
    "        f.write('{}{}: {}\\n'.format(indent_str, key_field,datajoint_type(key_field)))\n",
    "        # Apparatus information is located in the behavioral module, so here we add information about the module name and the data interface\n",
    "        write_depend_fields(f, indent_str, schema_depend_key, schema_list)\n",
    "        f.write('{}---\\n'.format(indent_str))\n",
    "        write_depend_fields(f, indent_str, schema_depend, schema_list)        \n",
    "        \n",
    "        try:\n",
    "            behav_module = nwbf.get_processing_module('Behavior')\n",
    "        except:\n",
    "            print('Cannot create {} schema, Behavior module not found in NWB file'.format(nwb_object_type))\n",
    "            return -1\n",
    "        \n",
    "        # TEST: add fields for the name of the NWBFile module and the container for this apparatus so we can load it up easily\n",
    "        f.write('{}module: varchar(80)\\n'.format(indent_str))\n",
    "        f.write('{}container: varchar(80)\\n'.format(indent_str))\n",
    "        f.write('{}\"\"\"\\n\\n\\n'.format(indent_str))\n",
    "    \"\"\"\n",
    "    Task\n",
    "    \"\"\"\n",
    "    if nwb_object_type.lower() == 'task':\n",
    "        print('Creating a Task schema')\n",
    "        # create a Task schema in DataJoint\n",
    "        f.write('{}(dj.Manual):\\n     definition = \"\"\"\\n'.format(nwb_object_type.capitalize()))\n",
    "        # task information is located in the behavioral module\n",
    "        \n",
    "        lab = nwbf.lab\n",
    "        # set the name of the key field\n",
    "        key_field = 'task_name'\n",
    "        # write out the key field\n",
    "        f.write('{}{}: {}\\n'.format(indent_str, key_field,datajoint_type(key_field)))\n",
    "        write_depend_fields(f, indent_str, schema_depend_key, schema_list)\n",
    "        f.write('{}---\\n')\n",
    "        write_depend_fields(f, indent_str, schema_depend, schema_list)\n",
    "        # TEST: add fields for the name of the NWBFile module and the container for this apparatus so we can load it up easily\n",
    "        f.write('{}module: varchar(80)\\n'.format(indent_str))\n",
    "        f.write('{}container: varchar(80)\\n'.format(indent_str))\n",
    "        f.write('{}\"\"\"\\n\\n\\n'.format(indent_str))\n",
    "    \"\"\"\n",
    "    Session\n",
    "    \"\"\"\n",
    "    if (nwb_object_type.lower() == 'session'):\n",
    "        print('Creating a Session schema')\n",
    "        # create a Subject schema in DataJoint.\n",
    "        # Note that the session is defined by the session_id, and contains many of the fields of the base\n",
    "        # NWB file object\n",
    "        # The session depends on previously created tables\n",
    "        # this is a custom set of ignore fields for the franklab. This would need to be changed for other labs.\n",
    "        session_ignore_fields = list(['acquisition', 'analysis', 'stimulus', 'stimulus_template', 'modules', 'devices'\n",
    "                                'electrode_groups', 'imaging_planes', 'ic_electrodes', 'ogen_sites','time_intervals'])\n",
    "        f.write('{}(dj.Manual):\\n     definition = \"\"\"\\n'.format(nwb_object_type.capitalize()))\n",
    "        # A session corresponds to a single NWB File, so we assemble a set of top level items here\n",
    "        fields = nwbf.fields\n",
    "        # set the name of the key field as the session_id. We may want to change this\n",
    "        key_field = 'session_id'\n",
    "        session_ignore_fields.append(key_field)\n",
    "        # write out the key field\n",
    "        f.write('{}{}: {}\\n'.format(indent_str, key_field, datajoint_type(fields[key_field])))\n",
    "        write_depend_fields(f, indent_str, schema_depend_key, schema_list)\n",
    "        f.write('{}---\\n'.format(indent_str))\n",
    "\n",
    "        write_depend_fields(f, indent_str, schema_depend, schema_list)\n",
    "               \n",
    "        # The required variables don't come up as fields, so we currently have to add them manually. \n",
    "        f.write('{}session_description: varchar(80)\\n'.format(indent_str))\n",
    "        f.write('{}session_start_time: datetime\\n'.format(indent_str))\n",
    "        f.write('{}timestamps_reference_time: datetime\\n'.format(indent_str))\n",
    "\n",
    "        # loop through the rest of the variables in the nwb object. Note that the depend fields are uppercase,\n",
    "        # so we need to make them lower case\n",
    "        stmp = list([s.lower() for s in schema_depend])\n",
    "        write_non_key_fields(f, indent_str, fields, stmp + session_ignore_fields)\n",
    "        f.write('{}\"\"\"\\n\\n\\n'.format(indent_str))\n",
    "    \"\"\"    \n",
    "    ELECTRODE CONFIGURATION\n",
    "    Currently in separate, hand coded file\n",
    "    \"\"\"\n",
    " \n",
    "        \n"
   ]
  },
  {
   "cell_type": "markdown",
   "metadata": {},
   "source": [
    "### Run schema generation code"
   ]
  },
  {
   "cell_type": "code",
   "execution_count": 13,
   "metadata": {},
   "outputs": [
    {
     "name": "stdout",
     "output_type": "stream",
     "text": [
      "Creating a Nwbfile schema\n",
      "Creating a Subject schema\n",
      "Creating a LabMember schema\n",
      "Creating an Institution schema\n",
      "Creating a Lab schema\n",
      "Creating a Device schema\n",
      "Creating an Apparatus schema\n",
      "Creating a Session schema\n",
      "Creating an Experimenter schema\n"
     ]
    }
   ],
   "source": [
    "write_schema_list(djschema_f, nwb_filename, franklab_schema_list, franklab_schema_depend_key, franklab_schema_depend)\n",
    "\n",
    "djschema_f.close()"
   ]
  },
  {
   "cell_type": "code",
   "execution_count": null,
   "metadata": {},
   "outputs": [],
   "source": [
    "Nwbfile.drop()\n",
    "Subject.drop()\n",
    "Devices.drop()\n",
    "Experimenter.drop()\n",
    "Institution.drop()\n",
    "Lab.drop()\n",
    "Session.drop()\n",
    "ElectrodeGroup.drop()\n",
    "Electrode.drop()"
   ]
  },
  {
   "cell_type": "code",
   "execution_count": 8,
   "metadata": {},
   "outputs": [],
   "source": [
    "# Execute the franklab schema \n",
    "#%run -i franklab_dj_schema\n",
    "\n",
    "\n",
    "#import franklab_dj_schema\n",
    "\n",
    "io = pynwb.NWBHDF5IO(nwb_filename, mode='r')\n",
    "nwbf = io.read()\n",
    "\n",
    "# create a list of tasks and apparatus'\n",
    "franklab_task_list = list()\n",
    "franklab_task_list.append('W Alternation')\n",
    "franklab_task_list.append('Rest')\n",
    "\n",
    "\n",
    "franklab_apparatus_list = list()\n",
    "franklab_apparatus_list.append('TrackA')\n",
    "franklab_apparatus_list.append('TrackB')\n",
    "franklab_apparatus_list.append('Sleep Box')"
   ]
  },
  {
   "cell_type": "code",
   "execution_count": 36,
   "metadata": {},
   "outputs": [],
   "source": [
    "LabMember.insert([['Mattias Karlsson'],\n",
    "                  ['Annabelle Singer']], replace=True)\n"
   ]
  },
  {
   "cell_type": "code",
   "execution_count": 17,
   "metadata": {},
   "outputs": [],
   "source": [
    "\n",
    "def populate_schema(nwb_file_name, apparatus_list, task_list):\n",
    "    # populate the specified schema\n",
    "\n",
    "    io = pynwb.NWBHDF5IO(nwb_file_name, mode='r')\n",
    "    nwbf = io.read()\n",
    "    #My original goal was to make this automatic, but that turned out to be difficult, so right now things are hardcoded\n",
    "    \n",
    "\n",
    "    \"\"\"\n",
    "    NWBFile\n",
    "    \"\"\"\n",
    "    Nwbfile.insert1(dict(file_name=nwb_file_name), replace=True)\n",
    "\n",
    "    \"\"\"\n",
    "    Subject\n",
    "    \"\"\"\n",
    "    sub = nwbf.subject\n",
    "    subject_dict = dict()\n",
    "    subject_dict['subject_id'] = sub.subject_id\n",
    "    subject_dict['age'] = sub.age\n",
    "    subject_dict['description'] = sub.description\n",
    "    subject_dict['genotype'] = sub.genotype    \n",
    "    subject_dict['sex'] = sub.sex\n",
    "    subject_dict['species'] = sub.species\n",
    "    Subject.insert1(subject_dict, replace=True)\n",
    "    \n",
    "    \"\"\"\n",
    "    DEVICE\n",
    "    \"\"\"\n",
    "    dev = list(nwbf.devices.keys())\n",
    "    for d in dev:\n",
    "        Device.insert1(dict(device_name=d), replace=True)\n",
    "        \n",
    "    \"\"\"\n",
    "    Institution\n",
    "    \"\"\"\n",
    "    Institution.insert1(dict(institution_name=nwbf.institution), replace=True)\n",
    "\n",
    "    \"\"\"\n",
    "    Lab\n",
    "    \"\"\"\n",
    "    Lab.insert1(dict(lab_name=nwbf.lab), replace=True)\n",
    "    \n",
    "    \"\"\"\n",
    "    Apparatus and Task\n",
    "    \"\"\"\n",
    "    # for the Apparatus we need to get the Behavioral module\n",
    "    app_dict = dict()\n",
    "    task_dict = dict()\n",
    "    app_dict['file_name'] = nwb_file_name\n",
    "    app_dict['module'] = 'Behavior';\n",
    "    task_dict['module'] = 'Behavior'\n",
    "\n",
    "    behav_module = nwbf.get_processing_module('Behavior')\n",
    "    containers = list(behav_module.containers.keys())  # check for a better way to do this\n",
    "    for c in containers:\n",
    "        if c in apparatus_list:\n",
    "            # write out an apparatus entry\n",
    "            app_dict['container'] = c\n",
    "            app_dict['apparatus_name'] = c\n",
    "            Apparatus.insert1(app_dict, replace=True)\n",
    "# TODO: finish Behavioral modules\n",
    "\n",
    "    \"\"\"\n",
    "    Electrode configuration\n",
    "    \"\"\"\n",
    "    4th Street and Mission Bay South Boulevard.\n",
    "    \n"
   ]
  },
  {
   "cell_type": "code",
   "execution_count": 18,
   "metadata": {},
   "outputs": [],
   "source": [
    "def nwb_list_modules(nwbf):\n",
    "    # return a list of the modules in the NWB File\n",
    "    try:\n",
    "        modules = nwbf.modules\n",
    "    except:\n",
    "        return []\n",
    "    return list(modules.keys())\n",
    "\n",
    "def nwb_list_data_interfaces(nwbf, module):\n",
    "    # return a list of containers in the specified module\n",
    "    try:\n",
    "        m = nwbf.get_processing_module(module)        \n",
    "    except:\n",
    "        return []\n",
    "    return list(m.data_interfaces.keys())\n"
   ]
  },
  {
   "cell_type": "code",
   "execution_count": 79,
   "metadata": {},
   "outputs": [
    {
     "data": {
      "text/plain": [
       "dict_keys(['04-01', '04-02', '04-03', '04-04', '04-05', '04-06', '04-07', '04-08', '04-10', '04-11', '04-12', '04-13', '04-14', '04-15', '04-17', '04-18', '04-19', '04-20', '04-21', '04-22', '04-23', '04-24', '04-25', '04-27', '04-28', '04-29', '04-30'])"
      ]
     },
     "execution_count": 79,
     "metadata": {},
     "output_type": "execute_result"
    }
   ],
   "source": []
  },
  {
   "cell_type": "code",
   "execution_count": 89,
   "metadata": {},
   "outputs": [
    {
     "name": "stdout",
     "output_type": "stream",
     "text": [
      "\n",
      "NSpike acquisition system <class 'pynwb.device.Device'>\n",
      "Fields:\n",
      "\n"
     ]
    }
   ],
   "source": [
    "print(nwbf.devices['NSpike acquisition system'])\n"
   ]
  },
  {
   "cell_type": "code",
   "execution_count": 5,
   "metadata": {},
   "outputs": [
    {
     "ename": "NameError",
     "evalue": "name 'nwbf' is not defined",
     "output_type": "error",
     "traceback": [
      "\u001b[0;31m---------------------------------------------------------------------------\u001b[0m",
      "\u001b[0;31mNameError\u001b[0m                                 Traceback (most recent call last)",
      "\u001b[0;32m~/Src/NWB/franklabnwb/notebooks/franklab_dj_schema.py\u001b[0m in \u001b[0;36m<module>\u001b[0;34m\u001b[0m\n\u001b[0;32m----> 1\u001b[0;31m \u001b[0me\u001b[0m \u001b[0;34m=\u001b[0m \u001b[0mnwbf\u001b[0m\u001b[0;34m.\u001b[0m\u001b[0melectrodes\u001b[0m\u001b[0;34m.\u001b[0m\u001b[0mto_dataframe\u001b[0m\u001b[0;34m(\u001b[0m\u001b[0;34m)\u001b[0m\u001b[0;34m\u001b[0m\u001b[0;34m\u001b[0m\u001b[0m\n\u001b[0m",
      "\u001b[0;31mNameError\u001b[0m: name 'nwbf' is not defined"
     ]
    }
   ],
   "source": [
    "e = nwbf.electrodes.to_dataframe()\n"
   ]
  },
  {
   "cell_type": "code",
   "execution_count": 20,
   "metadata": {},
   "outputs": [
    {
     "ename": "NameError",
     "evalue": "name 'list_modules' is not defined",
     "output_type": "error",
     "traceback": [
      "\u001b[0;31m---------------------------------------------------------------------------\u001b[0m",
      "\u001b[0;31mNameError\u001b[0m                                 Traceback (most recent call last)",
      "\u001b[0;32m~/Src/NWB/franklabnwb/notebooks/franklab_dj_schema.py\u001b[0m in \u001b[0;36m<module>\u001b[0;34m\u001b[0m\n\u001b[1;32m      4\u001b[0m \u001b[0mbehav_module\u001b[0m\u001b[0;34m.\u001b[0m\u001b[0mcontainers\u001b[0m\u001b[0;34m\u001b[0m\u001b[0;34m\u001b[0m\u001b[0m\n\u001b[1;32m      5\u001b[0m \u001b[0mcontainers\u001b[0m \u001b[0;34m=\u001b[0m \u001b[0mlist\u001b[0m\u001b[0;34m(\u001b[0m\u001b[0mbehav_module\u001b[0m\u001b[0;34m.\u001b[0m\u001b[0mcontainers\u001b[0m\u001b[0;34m.\u001b[0m\u001b[0mkeys\u001b[0m\u001b[0;34m(\u001b[0m\u001b[0;34m)\u001b[0m\u001b[0;34m)\u001b[0m\u001b[0;34m\u001b[0m\u001b[0;34m\u001b[0m\u001b[0m\n\u001b[0;32m----> 6\u001b[0;31m \u001b[0mmodules\u001b[0m \u001b[0;34m=\u001b[0m \u001b[0mlist_modules\u001b[0m\u001b[0;34m(\u001b[0m\u001b[0mnwbf\u001b[0m\u001b[0;34m)\u001b[0m\u001b[0;34m\u001b[0m\u001b[0;34m\u001b[0m\u001b[0m\n\u001b[0m\u001b[1;32m      7\u001b[0m \u001b[0mdata_interfaces\u001b[0m \u001b[0;34m=\u001b[0m \u001b[0mlist_data_interfaces\u001b[0m\u001b[0;34m(\u001b[0m\u001b[0mnwbf\u001b[0m\u001b[0;34m,\u001b[0m \u001b[0mmodules\u001b[0m\u001b[0;34m[\u001b[0m\u001b[0;36m0\u001b[0m\u001b[0;34m]\u001b[0m\u001b[0;34m)\u001b[0m\u001b[0;34m\u001b[0m\u001b[0;34m\u001b[0m\u001b[0m\n\u001b[1;32m      8\u001b[0m \u001b[0mdata\u001b[0m\u001b[0;34m\u001b[0m\u001b[0;34m\u001b[0m\u001b[0m\n",
      "\u001b[0;31mNameError\u001b[0m: name 'list_modules' is not defined"
     ]
    }
   ],
   "source": [
    "\n",
    "\n",
    "behav_module = nwbf.get_processing_module('Behavior')\n",
    "behav_module.containers\n",
    "containers = list(behav_module.containers.keys())\n",
    "modules = list_modules(nwbf)\n",
    "data_interfaces = list_data_interfaces(nwbf, modules[0])\n",
    "data\n"
   ]
  },
  {
   "cell_type": "code",
   "execution_count": 21,
   "metadata": {},
   "outputs": [],
   "source": [
    "populate_schema(nwb_filename, franklab_apparatus_list, franklab_task_list)\n",
    "\n",
    "\n",
    "\n"
   ]
  },
  {
   "cell_type": "code",
   "execution_count": 22,
   "metadata": {},
   "outputs": [
    {
     "data": {
      "text/html": [
       "\n",
       "        \n",
       "        <style type=\"text/css\">\n",
       "            .Relation{\n",
       "                border-collapse:collapse;\n",
       "            }\n",
       "            .Relation th{\n",
       "                background: #A0A0A0; color: #ffffff; padding:4px; border:#f0e0e0 1px solid;\n",
       "                font-weight: normal; font-family: monospace; font-size: 100%;\n",
       "            }\n",
       "            .Relation td{\n",
       "                padding:4px; border:#f0e0e0 1px solid; font-size:100%;\n",
       "            }\n",
       "            .Relation tr:nth-child(odd){\n",
       "                background: #ffffff;\n",
       "            }\n",
       "            .Relation tr:nth-child(even){\n",
       "                background: #f3f1ff;\n",
       "            }\n",
       "            /* Tooltip container */\n",
       "            .djtooltip {\n",
       "            }\n",
       "            /* Tooltip text */\n",
       "            .djtooltip .djtooltiptext {\n",
       "                visibility: hidden;\n",
       "                width: 120px;\n",
       "                background-color: black;\n",
       "                color: #fff;\n",
       "                text-align: center;\n",
       "                padding: 5px 0;\n",
       "                border-radius: 6px;\n",
       "                /* Position the tooltip text - see examples below! */\n",
       "                position: absolute;\n",
       "                z-index: 1;\n",
       "            }\n",
       "            #primary {\n",
       "                font-weight: bold;\n",
       "                color: black;\n",
       "            }\n",
       "\n",
       "            #nonprimary {\n",
       "                font-weight: normal;\n",
       "                color: white;\n",
       "            }\n",
       "\n",
       "            /* Show the tooltip text when you mouse over the tooltip container */\n",
       "            .djtooltip:hover .djtooltiptext {\n",
       "                visibility: visible;\n",
       "            }\n",
       "        </style>\n",
       "        \n",
       "        <b></b>\n",
       "            <div style=\"max-height:1000px;max-width:1500px;overflow:auto;\">\n",
       "            <table border=\"1\" class=\"Relation\">\n",
       "                <thead> <tr style=\"text-align: right;\"> <th> <div class=\"djtooltip\">\n",
       "                                <p id=\"primary\">apparatus_name</p>\n",
       "                                <span class=\"djtooltiptext\"></span>\n",
       "                            </div></th><th><div class=\"djtooltip\">\n",
       "                                <p id=\"nonprimary\">file_name</p>\n",
       "                                <span class=\"djtooltiptext\"></span>\n",
       "                            </div></th><th><div class=\"djtooltip\">\n",
       "                                <p id=\"nonprimary\">module</p>\n",
       "                                <span class=\"djtooltiptext\"></span>\n",
       "                            </div></th><th><div class=\"djtooltip\">\n",
       "                                <p id=\"nonprimary\">container</p>\n",
       "                                <span class=\"djtooltiptext\"></span>\n",
       "                            </div> </th> </tr> </thead>\n",
       "                <tbody> <tr> <td>TrackA</td>\n",
       "<td>/data/mkarlsso/Bon/NWB/Bon04.nwb</td>\n",
       "<td>Behavior</td>\n",
       "<td>TrackA</td> </tr> </tbody>\n",
       "            </table>\n",
       "            \n",
       "            <p>Total: 1</p></div>\n",
       "            "
      ],
      "text/plain": [
       "*apparatus_nam file_name      module       container    \n",
       "+------------+ +------------+ +----------+ +-----------+\n",
       "TrackA         /data/mkarlsso Behavior     TrackA       \n",
       " (Total: 1)"
      ]
     },
     "execution_count": 22,
     "metadata": {},
     "output_type": "execute_result"
    }
   ],
   "source": [
    "trackA = Apparatus()\n",
    "trackA = Apparatus() & 'apparatus_name = \"TrackA\"'\n",
    "t = trackA.fetch(as_dict=True)\n",
    "trackA"
   ]
  },
  {
   "cell_type": "code",
   "execution_count": 48,
   "metadata": {},
   "outputs": [],
   "source": [
    "def loadNWBApparatus(nwbf, module, container):\n",
    "    # load the Apparatus object. Note that nwbf is a file handle.\n",
    "    mod = nwbf.get_processing_module(module)\n",
    "    return mod[container]\n",
    "    "
   ]
  },
  {
   "cell_type": "code",
   "execution_count": 49,
   "metadata": {},
   "outputs": [],
   "source": [
    "trackA = Apparatus() & 'apparatus_name = \"TrackA\"'\n",
    "app = trackA.fetch(as_dict=True)\n",
    "a = loadNWBApparatus(nwbf, app[0]['module'], app[0]['container'])"
   ]
  },
  {
   "cell_type": "code",
   "execution_count": null,
   "metadata": {},
   "outputs": [],
   "source": [
    "\n"
   ]
  },
  {
   "cell_type": "code",
   "execution_count": 90,
   "metadata": {},
   "outputs": [
    {
     "data": {
      "text/plain": [
       "\n",
       "root <class 'pynwb.file.NWBFile'>\n",
       "Fields:\n",
       "  acquisition: { LFP <class 'pynwb.ecephys.LFP'> }\n",
       "  analysis: { }\n",
       "  devices: { NSpike acquisition system <class 'pynwb.device.Device'> }\n",
       "  electrode_groups: { 04-01 <class 'pynwb.ecephys.ElectrodeGroup'>,  04-02 <class 'pynwb.ecephys.ElectrodeGroup'>,  04-03 <class 'pynwb.ecephys.ElectrodeGroup'>,  04-04 <class 'pynwb.ecephys.ElectrodeGroup'>,  04-05 <class 'pynwb.ecephys.ElectrodeGroup'>,  04-06 <class 'pynwb.ecephys.ElectrodeGroup'>,  04-07 <class 'pynwb.ecephys.ElectrodeGroup'>,  04-08 <class 'pynwb.ecephys.ElectrodeGroup'>,  04-10 <class 'pynwb.ecephys.ElectrodeGroup'>,  04-11 <class 'pynwb.ecephys.ElectrodeGroup'>,  04-12 <class 'pynwb.ecephys.ElectrodeGroup'>,  04-13 <class 'pynwb.ecephys.ElectrodeGroup'>,  04-14 <class 'pynwb.ecephys.ElectrodeGroup'>,  04-15 <class 'pynwb.ecephys.ElectrodeGroup'>,  04-17 <class 'pynwb.ecephys.ElectrodeGroup'>,  04-18 <class 'pynwb.ecephys.ElectrodeGroup'>,  04-19 <class 'pynwb.ecephys.ElectrodeGroup'>,  04-20 <class 'pynwb.ecephys.ElectrodeGroup'>,  04-21 <class 'pynwb.ecephys.ElectrodeGroup'>,  04-22 <class 'pynwb.ecephys.ElectrodeGroup'>,  04-23 <class 'pynwb.ecephys.ElectrodeGroup'>,  04-24 <class 'pynwb.ecephys.ElectrodeGroup'>,  04-25 <class 'pynwb.ecephys.ElectrodeGroup'>,  04-27 <class 'pynwb.ecephys.ElectrodeGroup'>,  04-28 <class 'pynwb.ecephys.ElectrodeGroup'>,  04-29 <class 'pynwb.ecephys.ElectrodeGroup'>,  04-30 <class 'pynwb.ecephys.ElectrodeGroup'> }\n",
       "  electrodes: electrodes <class 'pynwb.core.DynamicTable'>\n",
       "  epoch_tags: {}\n",
       "  epochs: epochs <class 'pynwb.epoch.TimeIntervals'>\n",
       "  experiment_description: Recordings from awake behaving rat\n",
       "  experimenter: Mattias Karlsson\n",
       "  ic_electrodes: { }\n",
       "  imaging_planes: { }\n",
       "  institution: UCSF\n",
       "  lab: Frank Laboratory\n",
       "  lab_meta_data: { }\n",
       "  modules: { Behavior <class 'pynwb.base.ProcessingModule'> }\n",
       "  ogen_sites: { }\n",
       "  session_id: /data/mkarlsso/Bon/\n",
       "  stimulus: { }\n",
       "  stimulus_template: { }\n",
       "  subject: subject <class 'pynwb.file.Subject'>\n",
       "  time_intervals: { }\n",
       "  units: units <class 'pynwb.misc.Units'>"
      ]
     },
     "execution_count": 90,
     "metadata": {},
     "output_type": "execute_result"
    }
   ],
   "source": [
    "nwbfbehav_module = nwbf.get_processing_module('Behavior')"
   ]
  },
  {
   "cell_type": "code",
   "execution_count": 91,
   "metadata": {},
   "outputs": [],
   "source": [
    "behav_module = nwbf.get_processing_module('Behavior')\n"
   ]
  },
  {
   "cell_type": "code",
   "execution_count": 92,
   "metadata": {},
   "outputs": [
    {
     "data": {
      "text/plain": [
       "\n",
       "Behavior <class 'pynwb.base.ProcessingModule'>\n",
       "Fields:\n",
       "  data_interfaces: { Head Direction <class 'pynwb.behavior.CompassDirection'>,  Position <class 'pynwb.behavior.Position'>,  Sleep <class 'franklabnwb.fl_extension.Task'>,  Sleep Box <class 'franklabnwb.fl_extension.Apparatus'>,  Speed <class 'pynwb.behavior.BehavioralTimeSeries'>,  TrackA <class 'franklabnwb.fl_extension.Apparatus'>,  TrackB <class 'franklabnwb.fl_extension.Apparatus'>,  W Alternation <class 'franklabnwb.fl_extension.Task'> }\n",
       "  description: Behavioral variables"
      ]
     },
     "execution_count": 92,
     "metadata": {},
     "output_type": "execute_result"
    }
   ],
   "source": [
    "behav_module"
   ]
  },
  {
   "cell_type": "code",
   "execution_count": 23,
   "metadata": {},
   "outputs": [],
   "source": [
    "a = nwbf.units"
   ]
  },
  {
   "cell_type": "code",
   "execution_count": 27,
   "metadata": {},
   "outputs": [
    {
     "data": {
      "text/plain": [
       "(0, 'd4 t1 c1', array([1.13640584e+09, 1.13640584e+09, 1.13640584e+09, ...,\n",
       "        1.13641414e+09, 1.13641414e+09, 1.13641414e+09]), array([[1.13640580e+09, 1.13640714e+09],\n",
       "        [1.13640726e+09, 1.13640820e+09],\n",
       "        [1.13640828e+09, 1.13640923e+09],\n",
       "        [1.13640936e+09, 1.13641030e+09],\n",
       "        [1.13641038e+09, 1.13641161e+09],\n",
       "        [1.13641219e+09, 1.13641313e+09],\n",
       "        [1.13641331e+09, 1.13641415e+09]]), None)"
      ]
     },
     "execution_count": 27,
     "metadata": {},
     "output_type": "execute_result"
    }
   ],
   "source": [
    "a[0]\n"
   ]
  },
  {
   "cell_type": "code",
   "execution_count": 14,
   "metadata": {},
   "outputs": [],
   "source": [
    "electrodes = nwbf.electrodes.to_dataframe()\n",
    "a = electrodes.iloc[0]\n",
    "elect = 0"
   ]
  },
  {
   "cell_type": "code",
   "execution_count": 15,
   "metadata": {},
   "outputs": [
    {
     "data": {
      "text/plain": [
       "{'electrode_group_name': '04-01',\n",
       " 'electrode_id': 0,\n",
       " 'probe_electrode': 0,\n",
       " 'region_name': 'CA3',\n",
       " 'x': nan,\n",
       " 'y': nan,\n",
       " 'z': 3.9422916666666667,\n",
       " 'filtering': 'unknown - likely 600Hz-6KHz'}"
      ]
     },
     "execution_count": 15,
     "metadata": {},
     "output_type": "execute_result"
    }
   ],
   "source": [
    "elect_dict = dict()\n",
    "elect_dict['electrode_group_name'] = electrodes.iloc[elect]['group_name']\n",
    "elect_dict['electrode_id'] = elect\n",
    "elect_dict['probe_electrode'] = elect % 4\n",
    "elect_dict['region_name'] = electrodes.iloc[elect]['location']\n",
    "elect_dict['x'] = electrodes.iloc[elect]['x']\n",
    "elect_dict['y'] = electrodes.iloc[elect]['y']\n",
    "elect_dict['z'] = electrodes.iloc[elect]['z']\n",
    "elect_dict['filtering'] = electrodes.iloc[elect]['filtering']\n",
    "elect_dict"
   ]
  },
  {
   "cell_type": "code",
   "execution_count": null,
   "metadata": {},
   "outputs": [],
   "source": []
  }
 ],
 "metadata": {
  "kernelspec": {
   "display_name": "Python 3",
   "language": "python",
   "name": "python3"
  },
  "language_info": {
   "codemirror_mode": {
    "name": "ipython",
    "version": 3
   },
   "file_extension": ".py",
   "mimetype": "text/x-python",
   "name": "python",
   "nbconvert_exporter": "python",
   "pygments_lexer": "ipython3",
   "version": "3.7.4"
  }
 },
 "nbformat": 4,
 "nbformat_minor": 4
}
