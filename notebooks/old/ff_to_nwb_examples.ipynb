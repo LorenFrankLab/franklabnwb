{
 "cells": [
  {
   "cell_type": "code",
   "execution_count": 1,
   "metadata": {},
   "outputs": [
    {
     "name": "stdout",
     "output_type": "stream",
     "text": [
      "/Users/loren/Src/NWB/franklabnwb/franklabnwb\n"
     ]
    }
   ],
   "source": [
    "cd ../franklabnwb"
   ]
  },
  {
   "cell_type": "code",
   "execution_count": 2,
   "metadata": {},
   "outputs": [],
   "source": [
    "%load_ext autoreload\n",
    "%autoreload \n",
    "import ffnwb"
   ]
  },
  {
   "cell_type": "code",
   "execution_count": 3,
   "metadata": {},
   "outputs": [
    {
     "name": "stdout",
     "output_type": "stream",
     "text": [
      "Converting Bond day 3\n",
      "Successfully wrote NWB file /data/mkarlsso/Bon//NWB/bon03.nwb\n",
      "\n"
     ]
    }
   ],
   "source": [
    "data_dir = '/data/mkarlsso/Bon/'\n",
    "nwb_dir = data_dir + '/NWB/'\n",
    "animal_prefix = 'Bon'\n",
    "animal_name = 'Bond'\n",
    "day_list = [3]\n",
    "ffnwb.convert_to_nwb(data_dir,\n",
    "                   nwb_dir,\n",
    "                   animal_prefix,\n",
    "                   animal_name,\n",
    "                   day_list,\n",
    "                   overwrite=True)"
   ]
  },
  {
   "cell_type": "code",
   "execution_count": 33,
   "metadata": {},
   "outputs": [
    {
     "name": "stdout",
     "output_type": "stream",
     "text": [
      "Converting Geronimo day 5\n",
      "final data shape: (24, 14190183)\n",
      "final times shape: (14190183,)\n",
      "behavior timestamps shape: (283557,)\n",
      "linpos timestamps shape: (38635,)\n",
      "linpos timestamps shape: (38635,)\n",
      "linpos timestamps shape: (38635,)\n",
      "linpos timestamps shape: (38635,)\n",
      "linpos timestamps shape: (38635,)\n",
      "linpos timestamps shape: (38635,)\n",
      "linpos timestamps shape: (38635,)\n",
      "linpos timestamps shape: (38635,)\n",
      "linpos timestamps shape: (38635,)\n",
      "linpos timestamps shape: (38635,)\n",
      "linpos timestamps shape: (38635,)\n",
      "linpos timestamps shape: (38635,)\n",
      "Successfully wrote NWB file /data/sosa/Ger/NWB/ger05.nwb\n",
      "\n"
     ]
    }
   ],
   "source": [
    "data_dir = '/data/sosa/Ger'\n",
    "nwb_dir = data_dir + '/NWB/'\n",
    "animal_prefix = 'ger'\n",
    "animal_name = 'Geronimo'\n",
    "day_list = [5]\n",
    "ffnwb.convert_to_nwb(data_dir,\n",
    "                   nwb_dir,\n",
    "                   animal_prefix,\n",
    "                   animal_name,\n",
    "                   day_list,\n",
    "                   overwrite=True)"
   ]
  },
  {
   "cell_type": "code",
   "execution_count": null,
   "metadata": {},
   "outputs": [],
   "source": []
  }
 ],
 "metadata": {
  "kernelspec": {
   "display_name": "Python 3",
   "language": "python",
   "name": "python3"
  },
  "language_info": {
   "codemirror_mode": {
    "name": "ipython",
    "version": 3
   },
   "file_extension": ".py",
   "mimetype": "text/x-python",
   "name": "python",
   "nbconvert_exporter": "python",
   "pygments_lexer": "ipython3",
   "version": "3.6.7"
  }
 },
 "nbformat": 4,
 "nbformat_minor": 2
}
