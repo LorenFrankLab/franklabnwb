{
 "cells": [
  {
   "cell_type": "code",
   "execution_count": 2,
   "metadata": {},
   "outputs": [],
   "source": [
    "import datajoint as dj\n",
    "\n",
    "# Assuming you started a local DataJoint instance with:\n",
    "#  docker run -p 3306:3306 -e MYSQL_ROOT_PASSWORD=tutorial datajoint/mysql\n",
    "dj.config['database.host'] = '127.0.0.1'\n",
    "dj.config['database.user'] = 'root'\n",
    "dj.config['database.password'] = 'tutorial'"
   ]
  },
  {
   "cell_type": "code",
   "execution_count": 3,
   "metadata": {},
   "outputs": [
    {
     "name": "stdout",
     "output_type": "stream",
     "text": [
      "Connecting root@127.0.0.1:3306\n"
     ]
    }
   ],
   "source": [
    "schema = dj.schema('example', locals())"
   ]
  },
  {
   "cell_type": "code",
   "execution_count": 6,
   "metadata": {},
   "outputs": [],
   "source": [
    "@schema\n",
    "class Student (dj.Manual):\n",
    "  definition = \"\"\"\n",
    "  student_id      : int unsigned # university ID\n",
    "  ---\n",
    "  first_name      : varchar(40)\n",
    "  last_name       : varchar(40)\n",
    "  sex             : enum('F', 'M', 'U')\n",
    "  date_of_birth   : date\n",
    "  home_address    : varchar(200) # street address\n",
    "  home_city       : varchar(30)\n",
    "  home_state      : char(2) # two-letter abbreviation\n",
    "  home_zipcode    : char(10)\n",
    "  home_phone      : varchar(14)\n",
    "  \"\"\"\n",
    "\n",
    "@schema\n",
    "class Department (dj.Manual):\n",
    "  definition = \"\"\"\n",
    "  dept         : char(6) # abbreviated department name, e.g. BIOL\n",
    "  ---\n",
    "  dept_name    : varchar(200) # full department name\n",
    "  dept_address : varchar(200) # mailing address\n",
    "  dept_phone   : varchar(14)\n",
    "  \"\"\"\n",
    "\n",
    "@schema\n",
    "class StudentMajor (dj.Manual):\n",
    "  definition = \"\"\"\n",
    "  -> Student\n",
    "  ---\n",
    "  -> Department\n",
    "  declare_date :  date # when student declared her major\n",
    "  \"\"\"\n",
    "\n",
    "@schema\n",
    "class Course (dj.Manual):\n",
    "  definition = \"\"\"\n",
    "  -> Department\n",
    "  course      : int unsigned # course number, e.g. 1010\n",
    "  ---\n",
    "  course_name : varchar(200) # e.g. \"Cell Biology\"\n",
    "  credits     : decimal(3,1) # number of credits earned by completing the course\n",
    "  \"\"\"\n",
    "\n",
    "@schema\n",
    "class Term (dj.Manual):\n",
    "  definition = \"\"\"\n",
    "  term_year : year\n",
    "  term      : enum('Spring', 'Summer', 'Fall')\n",
    "  \"\"\"\n",
    "\n",
    "@schema\n",
    "class Section (dj.Manual):\n",
    "  definition = \"\"\"\n",
    "  -> Course\n",
    "  -> Term\n",
    "  section : char(1)\n",
    "  ---\n",
    "  room  :  varchar(12) # building and room code\n",
    "  \"\"\"\n",
    "\n",
    "# @schema\n",
    "# class CurrentTerm (dj.Manual):\n",
    "#   definition = \"\"\"\n",
    "#   ---\n",
    "#   -> Term\n",
    "#   \"\"\"\n",
    "\n",
    "@schema\n",
    "class Enroll (dj.Manual):\n",
    "  definition = \"\"\"\n",
    "  -> Section\n",
    "  -> Student\n",
    "  \"\"\"\n",
    "\n",
    "@schema\n",
    "class LetterGrade (dj.Manual):\n",
    "  definition = \"\"\"\n",
    "  grade : char(2)\n",
    "  ---\n",
    "  points : decimal(3,2)\n",
    "  \"\"\"\n",
    "\n",
    "@schema\n",
    "class Grade (dj.Manual):\n",
    "  definition = \"\"\"\n",
    "  -> Enroll\n",
    "  ---\n",
    "  -> LetterGrade\n",
    "  \"\"\"\n"
   ]
  }
 ],
 "metadata": {
  "kernelspec": {
   "display_name": "Python 3",
   "language": "python",
   "name": "python3"
  },
  "language_info": {
   "codemirror_mode": {
    "name": "ipython",
    "version": 3
   },
   "file_extension": ".py",
   "mimetype": "text/x-python",
   "name": "python",
   "nbconvert_exporter": "python",
   "pygments_lexer": "ipython3",
   "version": "3.6.7"
  }
 },
 "nbformat": 4,
 "nbformat_minor": 2
}
