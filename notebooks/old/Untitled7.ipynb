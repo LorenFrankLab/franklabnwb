{
 "cells": [
  {
   "cell_type": "markdown",
   "metadata": {},
   "source": [
    "# Test of NWB read from rec->nwb_raw file"
   ]
  },
  {
   "cell_type": "code",
   "execution_count": 5,
   "metadata": {},
   "outputs": [],
   "source": [
    "from datetime import datetime\n",
    "from dateutil.tz import tzlocal\n",
    "import pynwb\n",
    "import os\n",
    "\n",
    "import numpy as np"
   ]
  },
  {
   "cell_type": "markdown",
   "metadata": {},
   "source": [
    "## Import Frank Lab / Novela Probe extension"
   ]
  },
  {
   "cell_type": "code",
   "execution_count": 10,
   "metadata": {},
   "outputs": [],
   "source": [
    "from ndx_fllab_novela.probe import Probe\n",
    "from ndx_fllab_novela.header_device import HeaderDevice"
   ]
  },
  {
   "cell_type": "code",
   "execution_count": 8,
   "metadata": {},
   "outputs": [],
   "source": [
    "nwb_file_name = '/data/nwb_builder_test_data/beans20190718.nwb'"
   ]
  },
  {
   "cell_type": "code",
   "execution_count": 11,
   "metadata": {},
   "outputs": [],
   "source": [
    "io = pynwb.NWBHDF5IO(nwb_file_name, 'r')\n",
    "nwbf = io.read()"
   ]
  },
  {
   "cell_type": "code",
   "execution_count": 19,
   "metadata": {},
   "outputs": [
    {
     "data": {
      "text/plain": [
       "{'0': 0 ndx_fllab_novela.probe.Probe at 0x4891636432\n",
       " Fields:\n",
       "   contact_side_numbering: True\n",
       "   contact_size: 20.0\n",
       "   id: 0\n",
       "   num_shanks: 4\n",
       "   probe_type: 128c-4s8mm6cm-20um-40um-sl,\n",
       " '1': 1 ndx_fllab_novela.probe.Probe at 0x4891637072\n",
       " Fields:\n",
       "   contact_side_numbering: True\n",
       "   contact_size: 20.0\n",
       "   id: 1\n",
       "   num_shanks: 4\n",
       "   probe_type: 128c-4s8mm6cm-20um-40um-sl,\n",
       " 'header_device': header_device ndx_fllab_novela.header_device.HeaderDevice at 0x4891637392\n",
       " Fields:\n",
       "   commit_head: heads/Release_1.8.2-0-g9a3e37c\n",
       "   compile_date: May 16 2019\n",
       "   compile_time: 10:32:19\n",
       "   controller_serial: 65535 65535\n",
       "   headstage_accel_sensor_on: 1\n",
       "   headstage_auto_settle_on: 0\n",
       "   headstage_gyro_sensor_on: 1\n",
       "   headstage_mag_sensor_on: 1\n",
       "   headstage_serial: 00603 00104\n",
       "   headstage_smart_ref_on: 0\n",
       "   qt_version: 5.9.8\n",
       "   realtime_mode: 0\n",
       "   save_displayed_chan_only: 1\n",
       "   system_time_at_creation: 1563488986885\n",
       "   timestamp_at_creation: 1327428\n",
       "   trodes_version: 1.8.2}"
      ]
     },
     "execution_count": 19,
     "metadata": {},
     "output_type": "execute_result"
    }
   ],
   "source": [
    "nwbf.devices"
   ]
  },
  {
   "cell_type": "code",
   "execution_count": 27,
   "metadata": {},
   "outputs": [
    {
     "data": {
      "text/html": [
       "<div>\n",
       "<style scoped>\n",
       "    .dataframe tbody tr th:only-of-type {\n",
       "        vertical-align: middle;\n",
       "    }\n",
       "\n",
       "    .dataframe tbody tr th {\n",
       "        vertical-align: top;\n",
       "    }\n",
       "\n",
       "    .dataframe thead th {\n",
       "        text-align: right;\n",
       "    }\n",
       "</style>\n",
       "<table border=\"1\" class=\"dataframe\">\n",
       "  <thead>\n",
       "    <tr style=\"text-align: right;\">\n",
       "      <th></th>\n",
       "      <th>x</th>\n",
       "      <th>y</th>\n",
       "      <th>z</th>\n",
       "      <th>imp</th>\n",
       "      <th>location</th>\n",
       "      <th>filtering</th>\n",
       "      <th>group</th>\n",
       "      <th>group_name</th>\n",
       "      <th>hwChan</th>\n",
       "      <th>ntrode_id</th>\n",
       "      <th>bad_channels</th>\n",
       "      <th>rel_x</th>\n",
       "      <th>rel_y</th>\n",
       "      <th>rel_z</th>\n",
       "    </tr>\n",
       "    <tr>\n",
       "      <th>id</th>\n",
       "      <th></th>\n",
       "      <th></th>\n",
       "      <th></th>\n",
       "      <th></th>\n",
       "      <th></th>\n",
       "      <th></th>\n",
       "      <th></th>\n",
       "      <th></th>\n",
       "      <th></th>\n",
       "      <th></th>\n",
       "      <th></th>\n",
       "      <th></th>\n",
       "      <th></th>\n",
       "      <th></th>\n",
       "    </tr>\n",
       "  </thead>\n",
       "  <tbody>\n",
       "    <tr>\n",
       "      <th>4</th>\n",
       "      <td>0.0</td>\n",
       "      <td>0.0</td>\n",
       "      <td>0.0</td>\n",
       "      <td>0.0</td>\n",
       "      <td>None</td>\n",
       "      <td>None</td>\n",
       "      <td>electrode group 0 abc.NwbElectrodeGroup at 0x4...</td>\n",
       "      <td>electrode group 0</td>\n",
       "      <td>64</td>\n",
       "      <td>2</td>\n",
       "      <td>False</td>\n",
       "      <td>0</td>\n",
       "      <td>-160</td>\n",
       "      <td>0</td>\n",
       "    </tr>\n",
       "  </tbody>\n",
       "</table>\n",
       "</div>"
      ],
      "text/plain": [
       "      x    y    z  imp location filtering  \\\n",
       "id                                          \n",
       "4   0.0  0.0  0.0  0.0     None      None   \n",
       "\n",
       "                                                group         group_name  \\\n",
       "id                                                                         \n",
       "4   electrode group 0 abc.NwbElectrodeGroup at 0x4...  electrode group 0   \n",
       "\n",
       "   hwChan  ntrode_id  bad_channels  rel_x  rel_y  rel_z  \n",
       "id                                                       \n",
       "4      64          2         False      0   -160      0  "
      ]
     },
     "execution_count": 27,
     "metadata": {},
     "output_type": "execute_result"
    }
   ],
   "source": [
    "nwbf.electrodes[4]"
   ]
  },
  {
   "cell_type": "code",
   "execution_count": null,
   "metadata": {},
   "outputs": [],
   "source": []
  }
 ],
 "metadata": {
  "kernelspec": {
   "display_name": "Python 3",
   "language": "python",
   "name": "python3"
  },
  "language_info": {
   "codemirror_mode": {
    "name": "ipython",
    "version": 3
   },
   "file_extension": ".py",
   "mimetype": "text/x-python",
   "name": "python",
   "nbconvert_exporter": "python",
   "pygments_lexer": "ipython3",
   "version": "3.7.6"
  }
 },
 "nbformat": 4,
 "nbformat_minor": 4
}
